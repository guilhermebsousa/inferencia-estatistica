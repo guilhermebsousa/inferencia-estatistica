{
  "nbformat": 4,
  "nbformat_minor": 0,
  "metadata": {
    "colab": {
      "provenance": [],
      "include_colab_link": true
    },
    "kernelspec": {
      "name": "python3",
      "display_name": "Python 3"
    },
    "language_info": {
      "name": "python"
    }
  },
  "cells": [
    {
      "cell_type": "markdown",
      "metadata": {
        "id": "view-in-github",
        "colab_type": "text"
      },
      "source": [
        "<a href=\"https://colab.research.google.com/github/guilhermebsousa/inferencia-estatistica/blob/main/Inference.ipynb\" target=\"_parent\"><img src=\"https://colab.research.google.com/assets/colab-badge.svg\" alt=\"Open In Colab\"/></a>"
      ]
    },
    {
      "cell_type": "markdown",
      "source": [
        "# Testes de hipóteses\n",
        "## Grupo: Thiago Rodrigues, Guilherme Barboza, Gisele de Freitas\n",
        "O objetivo é implementar testes de hipoteses com Python, na mesma medida que aprendemos os assuntos. Abaixo está uma lista dos testes de hipóteses implementados:\n",
        "- Kolmogorov Smirnov\n",
        "- Shapiro -Wilk\n",
        "- O teste x^2 de Bortlett\n",
        "- Teste de Média Populacional (Zcalc)\n",
        "- Teste T-student\n",
        "\n",
        "Utilizamos materiais  e aulas produzidas e ministradas pelo professor Roberto Quirino do Nascimento para aprender e desenvolver os códigos abaixo. Algo importante sobre o tema e os seguintes testes é que uma **hipótese estatística**  é uma suposição sobre determinado parâmetro da população, como média, desvio-padrão, coeficiente de correlação, etc. Já um **teste de hipótese** é um procedimento para decisão sobre a veracidade ou falsidade de determinada hipótese. Para que uma hipótese estatística seja validada ou rejeitada com certeza, seria necessário examinarmos toda a população, o que na prática é inviável. Como alternativa, extraímos uma amostra aleatória da população de interesse. Como a decisão é tomada com base na amostra, podem ocorrer erros (rejeitar uma hipótese\n",
        "quando ela for verdadeira ou não rejeitar uma hipótese quando ela for falsa), como será visto mais adiante. Ademais, o procedimento para a construção dos testes de hipóteses envolve as seguintes etapas:\n",
        "\n",
        "- Passo 1: Escolher o teste estatístico adequado, dado o intuito do pesquisador.\n",
        "- Passo 2: Apresentar a hipótese nula H0 e a hipótese alternativa H1 do teste.\n",
        "- Passo 3: Fixar o nível de significância α.\n",
        "- Passo 4: Calcular o valor observado da estatística do teste com base na amostra extraída da população.\n",
        "- Passo 5: Determinar a região crítica do teste em função do valor de α fixado no passo 3.\n",
        "- Passo 6: Decidir - se o valor da estatística pertencer à região crítica, rejeitar H0; caso contrário, não rejeitar H0.\n"
      ],
      "metadata": {
        "id": "7gJCLaayP_5M"
      }
    },
    {
      "cell_type": "markdown",
      "source": [
        "## Kolmogorov Smirnov\n",
        "O teste de Kolmogorov-Smirnov (K-S) é um teste de aderência, isto é, compara a distribuição de frequências acumuladas de um conjunto de valores\n",
        "amostrais (valores observados) com uma distribuição teórica. O objetivo é testar se os valores amostrais são oriundos de uma população com\n",
        "suposta distribuição teórica ou esperada, neste caso a distribuição normal. A estatística do teste é o ponto de maior diferença (em valor absoluto)\n",
        "entre as duas distribuições.\n",
        "Para utilização do teste de K-S, a média e o desvio-padrão da população devem ser conhecidos. Para pequenas amostras, o teste perde potência, de\n",
        "modo que deve ser utilizado em amostras grandes (n≥ 30). Obs: para esse tipo de amostra pequena, anteriormente utilizamos uma função e uma tabela prefinida para esses \"Valores críticos\"\n",
        "\n",
        "Para utilização do teste de K-S, a média e o desvio-padrão da população devem ser conhecidos. Para pequenas amostras, o teste perde potência, de\n",
        "modo que deve ser utilizado em amostras grandes (n≥ 30).\n",
        "O teste de K-S assume as seguintes hipóteses:\n",
        "\n",
        "H0.: a amostra provém de uma população com distribuição N (µ, σ)\n",
        "\n",
        "H1: a amostra não provém de uma população com distribuição N (µ, σ)\n",
        "Seja Fesp(X) uma função de distribuição esperada (normal) de frequências relativas acumuladas da variável X, em que Fesp(X) ~ N (µ, σ), e Fobs,(X)\n",
        "a distribuição de frequências relativas acumuladas observada da variável X.\n",
        "\n",
        "O objetivo é testar se\n",
        "H0.: Fobs(X) = Fesp(X)\n",
        "contra a alternativa de que\n",
        "H1: Fobs(X) ≠Fesp(X).\n",
        "\n",
        "A estatística do teste é:\n",
        "𝐷𝑐𝑎𝑙 = 𝑚𝑎𝑥{|𝐹𝑒𝑠𝑝(𝑋𝑖\n",
        ") −𝐹𝑜𝑏𝑠(𝑋𝑖\n",
        ")|,|𝐹𝑒𝑠𝑝(𝑋𝑖\n",
        ") −𝐹𝑜𝑏𝑠(𝑋𝑖−1\n",
        ")|}, 𝑖 = 1,2 … , 𝑛.\n",
        "em que:\n",
        "𝐹𝑒𝑠𝑝(𝑋𝑖\n",
        ") : frequência relativa acumulada esperada na categoria i;\n",
        "𝐹𝑜𝑏𝑠(𝑋𝑖\n",
        ") : frequência relativa acumulada observada na categoria i;\n",
        "𝐹𝑜𝑏𝑠(𝑋𝑖−1\n",
        ") : frequência relativa acumulada observada na categoria i - 1."
      ],
      "metadata": {
        "id": "MMfFnGzVQiNg"
      }
    },
    {
      "cell_type": "markdown",
      "source": [
        "### Bibliotecas usadas:"
      ],
      "metadata": {
        "id": "J6b49N8YBAVu"
      }
    },
    {
      "cell_type": "code",
      "source": [
        "import scipy.stats as stats\n",
        "import numpy as np\n",
        "from scipy.stats import bartlett\n",
        "import matplotlib.pyplot as plt\n",
        "import random\n",
        "from scipy.stats import norm\n",
        "import pandas as pd"
      ],
      "metadata": {
        "id": "g96qnhC8BEP8"
      },
      "execution_count": null,
      "outputs": []
    },
    {
      "cell_type": "markdown",
      "source": [
        "### Função ```amostra_aleatoria``` para gerar amostras aleatórias:"
      ],
      "metadata": {
        "id": "yowVUPkXnDYQ"
      }
    },
    {
      "cell_type": "code",
      "source": [
        "def amostra_aleatoria(limite_inferior, limite_superior, tamanho_amostra, probabilidades=None):\n",
        "    if probabilidades is None:\n",
        "        return [random.randint(limite_inferior, limite_superior) for _ in range(tamanho_amostra)]\n",
        "    else:\n",
        "        amostra = []\n",
        "        probabilidades_normalizadas = [p / sum(probabilidades) for p in probabilidades]\n",
        "\n",
        "        for _ in range(tamanho_amostra):\n",
        "            valor = random.choices(range(limite_inferior, limite_superior + 1), weights=probabilidades_normalizadas)[0]\n",
        "            amostra.append(valor)\n",
        "\n",
        "        return amostra\n",
        "\n",
        "# Exemplo de uso\n",
        "limite_inferior = 1\n",
        "limite_superior = 11\n",
        "tamanho_amostra = 200\n",
        "probabilidades = [1, 2, 3, 4, 5, 6, 5, 4, 3, 2, 1]\n",
        "amostra = amostra_aleatoria(limite_inferior, limite_superior, tamanho_amostra, probabilidades)\n",
        "amostra = amostra_aleatoria(1,11,100)"
      ],
      "metadata": {
        "id": "n6CF8MGDm9vv"
      },
      "execution_count": null,
      "outputs": []
    },
    {
      "cell_type": "markdown",
      "source": [
        "### Função ```calcular_medidas``` para mostrar medidas\n",
        "\n",
        "---\n",
        "\n",
        "da amostra:"
      ],
      "metadata": {
        "id": "-ZcrfWKnrAc4"
      }
    },
    {
      "cell_type": "code",
      "source": [
        "def calcular_medidas(amostra):\n",
        "    media = np.mean(amostra)\n",
        "    desvio_padrao = np.std(amostra)\n",
        "    erro_padrao = desvio_padrao / np.sqrt(len(amostra))\n",
        "    count = len(amostra)\n",
        "    variancia = np.var(amostra)\n",
        "    maximo = np.max(amostra)\n",
        "    minimo = np.min(amostra)\n",
        "\n",
        "    print(\"Estatísticas da Amostra:\")\n",
        "    print(f\"Média: {media}\")\n",
        "    print(f\"Desvio Padrão: {desvio_padrao}\")\n",
        "    print(f\"Erro Padrão: {erro_padrao}\")\n",
        "    print(f\"Contagem: {count}\")\n",
        "    print(f\"Variância: {variancia}\")\n",
        "    print(f\"Máximo: {maximo}\")\n",
        "    print(f\"Mínimo: {minimo}\")\n",
        "\n",
        "#Exemplo uso:\n",
        "calcular_medidas(amostra)"
      ],
      "metadata": {
        "colab": {
          "base_uri": "https://localhost:8080/"
        },
        "id": "QZrMgBxpspYO",
        "outputId": "5c6643b1-8b06-4ad4-d305-34ea2229c68d"
      },
      "execution_count": null,
      "outputs": [
        {
          "output_type": "stream",
          "name": "stdout",
          "text": [
            "Estatísticas da Amostra:\n",
            "Média: 5.54\n",
            "Desvio Padrão: 3.1029663227305577\n",
            "Erro Padrão: 0.31029663227305576\n",
            "Contagem: 100\n",
            "Variância: 9.6284\n",
            "Máximo: 11\n",
            "Mínimo: 1\n"
          ]
        }
      ]
    },
    {
      "cell_type": "markdown",
      "source": [
        "### Função ```calcular_frequencias ``` para obter uma tabela com frequências acumalada, absoluta, relativa, acumulada observada."
      ],
      "metadata": {
        "id": "6O9SuPFEwpdD"
      }
    },
    {
      "cell_type": "code",
      "source": [
        "def calcular_frequencias(amostra):\n",
        "    # Contagem dos valores únicos na amostra\n",
        "    contagem_valores = pd.Series(amostra).value_counts().sort_index()\n",
        "\n",
        "    # Frequência acumulada\n",
        "    frequencia_acumulada = contagem_valores.cumsum()\n",
        "\n",
        "    # Frequência absoluta\n",
        "    frequencia_absoluta = contagem_valores.values\n",
        "\n",
        "    # Frequência relativa\n",
        "    tamanho_amostra = len(amostra)\n",
        "    frequencia_relativa = frequencia_absoluta / tamanho_amostra\n",
        "\n",
        "    # Frequência relativa acumulada\n",
        "    frequencia_relativa_acumulada = frequencia_relativa.cumsum()\n",
        "\n",
        "    # Criar DataFrame com os valores calculados\n",
        "    df = pd.DataFrame({\n",
        "        'X_i': contagem_valores.index,\n",
        "        'Frequência Absoluta': frequencia_absoluta,\n",
        "        'Frequência Acumulada': frequencia_acumulada.values,\n",
        "        'Frequência Relativa': frequencia_relativa,\n",
        "        'Frequência Observada': frequencia_relativa_acumulada\n",
        "    })\n",
        "\n",
        "    return df\n",
        "df = calcular_frequencias(amostra)\n",
        "df"
      ],
      "metadata": {
        "colab": {
          "base_uri": "https://localhost:8080/",
          "height": 394
        },
        "id": "hYIH4uCywn4T",
        "outputId": "3e33ecc2-a391-4263-964a-7a728d77d27a"
      },
      "execution_count": null,
      "outputs": [
        {
          "output_type": "execute_result",
          "data": {
            "text/plain": [
              "    X_i  Frequência Absoluta  Frequência Acumulada  Frequência Relativa  \\\n",
              "0     1                    9                     9                 0.09   \n",
              "1     2                   13                    22                 0.13   \n",
              "2     3                    9                    31                 0.09   \n",
              "3     4                   13                    44                 0.13   \n",
              "4     5                   11                    55                 0.11   \n",
              "5     6                    4                    59                 0.04   \n",
              "6     7                    9                    68                 0.09   \n",
              "7     8                   12                    80                 0.12   \n",
              "8     9                    6                    86                 0.06   \n",
              "9    10                    6                    92                 0.06   \n",
              "10   11                    8                   100                 0.08   \n",
              "\n",
              "    Frequência Observada  \n",
              "0                   0.09  \n",
              "1                   0.22  \n",
              "2                   0.31  \n",
              "3                   0.44  \n",
              "4                   0.55  \n",
              "5                   0.59  \n",
              "6                   0.68  \n",
              "7                   0.80  \n",
              "8                   0.86  \n",
              "9                   0.92  \n",
              "10                  1.00  "
            ],
            "text/html": [
              "\n",
              "  <div id=\"df-b6eb153c-d93f-4296-9d75-5681c7cbfb1a\" class=\"colab-df-container\">\n",
              "    <div>\n",
              "<style scoped>\n",
              "    .dataframe tbody tr th:only-of-type {\n",
              "        vertical-align: middle;\n",
              "    }\n",
              "\n",
              "    .dataframe tbody tr th {\n",
              "        vertical-align: top;\n",
              "    }\n",
              "\n",
              "    .dataframe thead th {\n",
              "        text-align: right;\n",
              "    }\n",
              "</style>\n",
              "<table border=\"1\" class=\"dataframe\">\n",
              "  <thead>\n",
              "    <tr style=\"text-align: right;\">\n",
              "      <th></th>\n",
              "      <th>X_i</th>\n",
              "      <th>Frequência Absoluta</th>\n",
              "      <th>Frequência Acumulada</th>\n",
              "      <th>Frequência Relativa</th>\n",
              "      <th>Frequência Observada</th>\n",
              "    </tr>\n",
              "  </thead>\n",
              "  <tbody>\n",
              "    <tr>\n",
              "      <th>0</th>\n",
              "      <td>1</td>\n",
              "      <td>9</td>\n",
              "      <td>9</td>\n",
              "      <td>0.09</td>\n",
              "      <td>0.09</td>\n",
              "    </tr>\n",
              "    <tr>\n",
              "      <th>1</th>\n",
              "      <td>2</td>\n",
              "      <td>13</td>\n",
              "      <td>22</td>\n",
              "      <td>0.13</td>\n",
              "      <td>0.22</td>\n",
              "    </tr>\n",
              "    <tr>\n",
              "      <th>2</th>\n",
              "      <td>3</td>\n",
              "      <td>9</td>\n",
              "      <td>31</td>\n",
              "      <td>0.09</td>\n",
              "      <td>0.31</td>\n",
              "    </tr>\n",
              "    <tr>\n",
              "      <th>3</th>\n",
              "      <td>4</td>\n",
              "      <td>13</td>\n",
              "      <td>44</td>\n",
              "      <td>0.13</td>\n",
              "      <td>0.44</td>\n",
              "    </tr>\n",
              "    <tr>\n",
              "      <th>4</th>\n",
              "      <td>5</td>\n",
              "      <td>11</td>\n",
              "      <td>55</td>\n",
              "      <td>0.11</td>\n",
              "      <td>0.55</td>\n",
              "    </tr>\n",
              "    <tr>\n",
              "      <th>5</th>\n",
              "      <td>6</td>\n",
              "      <td>4</td>\n",
              "      <td>59</td>\n",
              "      <td>0.04</td>\n",
              "      <td>0.59</td>\n",
              "    </tr>\n",
              "    <tr>\n",
              "      <th>6</th>\n",
              "      <td>7</td>\n",
              "      <td>9</td>\n",
              "      <td>68</td>\n",
              "      <td>0.09</td>\n",
              "      <td>0.68</td>\n",
              "    </tr>\n",
              "    <tr>\n",
              "      <th>7</th>\n",
              "      <td>8</td>\n",
              "      <td>12</td>\n",
              "      <td>80</td>\n",
              "      <td>0.12</td>\n",
              "      <td>0.80</td>\n",
              "    </tr>\n",
              "    <tr>\n",
              "      <th>8</th>\n",
              "      <td>9</td>\n",
              "      <td>6</td>\n",
              "      <td>86</td>\n",
              "      <td>0.06</td>\n",
              "      <td>0.86</td>\n",
              "    </tr>\n",
              "    <tr>\n",
              "      <th>9</th>\n",
              "      <td>10</td>\n",
              "      <td>6</td>\n",
              "      <td>92</td>\n",
              "      <td>0.06</td>\n",
              "      <td>0.92</td>\n",
              "    </tr>\n",
              "    <tr>\n",
              "      <th>10</th>\n",
              "      <td>11</td>\n",
              "      <td>8</td>\n",
              "      <td>100</td>\n",
              "      <td>0.08</td>\n",
              "      <td>1.00</td>\n",
              "    </tr>\n",
              "  </tbody>\n",
              "</table>\n",
              "</div>\n",
              "    <div class=\"colab-df-buttons\">\n",
              "\n",
              "  <div class=\"colab-df-container\">\n",
              "    <button class=\"colab-df-convert\" onclick=\"convertToInteractive('df-b6eb153c-d93f-4296-9d75-5681c7cbfb1a')\"\n",
              "            title=\"Convert this dataframe to an interactive table.\"\n",
              "            style=\"display:none;\">\n",
              "\n",
              "  <svg xmlns=\"http://www.w3.org/2000/svg\" height=\"24px\" viewBox=\"0 -960 960 960\">\n",
              "    <path d=\"M120-120v-720h720v720H120Zm60-500h600v-160H180v160Zm220 220h160v-160H400v160Zm0 220h160v-160H400v160ZM180-400h160v-160H180v160Zm440 0h160v-160H620v160ZM180-180h160v-160H180v160Zm440 0h160v-160H620v160Z\"/>\n",
              "  </svg>\n",
              "    </button>\n",
              "\n",
              "  <style>\n",
              "    .colab-df-container {\n",
              "      display:flex;\n",
              "      gap: 12px;\n",
              "    }\n",
              "\n",
              "    .colab-df-convert {\n",
              "      background-color: #E8F0FE;\n",
              "      border: none;\n",
              "      border-radius: 50%;\n",
              "      cursor: pointer;\n",
              "      display: none;\n",
              "      fill: #1967D2;\n",
              "      height: 32px;\n",
              "      padding: 0 0 0 0;\n",
              "      width: 32px;\n",
              "    }\n",
              "\n",
              "    .colab-df-convert:hover {\n",
              "      background-color: #E2EBFA;\n",
              "      box-shadow: 0px 1px 2px rgba(60, 64, 67, 0.3), 0px 1px 3px 1px rgba(60, 64, 67, 0.15);\n",
              "      fill: #174EA6;\n",
              "    }\n",
              "\n",
              "    .colab-df-buttons div {\n",
              "      margin-bottom: 4px;\n",
              "    }\n",
              "\n",
              "    [theme=dark] .colab-df-convert {\n",
              "      background-color: #3B4455;\n",
              "      fill: #D2E3FC;\n",
              "    }\n",
              "\n",
              "    [theme=dark] .colab-df-convert:hover {\n",
              "      background-color: #434B5C;\n",
              "      box-shadow: 0px 1px 3px 1px rgba(0, 0, 0, 0.15);\n",
              "      filter: drop-shadow(0px 1px 2px rgba(0, 0, 0, 0.3));\n",
              "      fill: #FFFFFF;\n",
              "    }\n",
              "  </style>\n",
              "\n",
              "    <script>\n",
              "      const buttonEl =\n",
              "        document.querySelector('#df-b6eb153c-d93f-4296-9d75-5681c7cbfb1a button.colab-df-convert');\n",
              "      buttonEl.style.display =\n",
              "        google.colab.kernel.accessAllowed ? 'block' : 'none';\n",
              "\n",
              "      async function convertToInteractive(key) {\n",
              "        const element = document.querySelector('#df-b6eb153c-d93f-4296-9d75-5681c7cbfb1a');\n",
              "        const dataTable =\n",
              "          await google.colab.kernel.invokeFunction('convertToInteractive',\n",
              "                                                    [key], {});\n",
              "        if (!dataTable) return;\n",
              "\n",
              "        const docLinkHtml = 'Like what you see? Visit the ' +\n",
              "          '<a target=\"_blank\" href=https://colab.research.google.com/notebooks/data_table.ipynb>data table notebook</a>'\n",
              "          + ' to learn more about interactive tables.';\n",
              "        element.innerHTML = '';\n",
              "        dataTable['output_type'] = 'display_data';\n",
              "        await google.colab.output.renderOutput(dataTable, element);\n",
              "        const docLink = document.createElement('div');\n",
              "        docLink.innerHTML = docLinkHtml;\n",
              "        element.appendChild(docLink);\n",
              "      }\n",
              "    </script>\n",
              "  </div>\n",
              "\n",
              "\n",
              "<div id=\"df-152a5219-0fcc-4697-bca0-08e95292ea24\">\n",
              "  <button class=\"colab-df-quickchart\" onclick=\"quickchart('df-152a5219-0fcc-4697-bca0-08e95292ea24')\"\n",
              "            title=\"Suggest charts\"\n",
              "            style=\"display:none;\">\n",
              "\n",
              "<svg xmlns=\"http://www.w3.org/2000/svg\" height=\"24px\"viewBox=\"0 0 24 24\"\n",
              "     width=\"24px\">\n",
              "    <g>\n",
              "        <path d=\"M19 3H5c-1.1 0-2 .9-2 2v14c0 1.1.9 2 2 2h14c1.1 0 2-.9 2-2V5c0-1.1-.9-2-2-2zM9 17H7v-7h2v7zm4 0h-2V7h2v10zm4 0h-2v-4h2v4z\"/>\n",
              "    </g>\n",
              "</svg>\n",
              "  </button>\n",
              "\n",
              "<style>\n",
              "  .colab-df-quickchart {\n",
              "      --bg-color: #E8F0FE;\n",
              "      --fill-color: #1967D2;\n",
              "      --hover-bg-color: #E2EBFA;\n",
              "      --hover-fill-color: #174EA6;\n",
              "      --disabled-fill-color: #AAA;\n",
              "      --disabled-bg-color: #DDD;\n",
              "  }\n",
              "\n",
              "  [theme=dark] .colab-df-quickchart {\n",
              "      --bg-color: #3B4455;\n",
              "      --fill-color: #D2E3FC;\n",
              "      --hover-bg-color: #434B5C;\n",
              "      --hover-fill-color: #FFFFFF;\n",
              "      --disabled-bg-color: #3B4455;\n",
              "      --disabled-fill-color: #666;\n",
              "  }\n",
              "\n",
              "  .colab-df-quickchart {\n",
              "    background-color: var(--bg-color);\n",
              "    border: none;\n",
              "    border-radius: 50%;\n",
              "    cursor: pointer;\n",
              "    display: none;\n",
              "    fill: var(--fill-color);\n",
              "    height: 32px;\n",
              "    padding: 0;\n",
              "    width: 32px;\n",
              "  }\n",
              "\n",
              "  .colab-df-quickchart:hover {\n",
              "    background-color: var(--hover-bg-color);\n",
              "    box-shadow: 0 1px 2px rgba(60, 64, 67, 0.3), 0 1px 3px 1px rgba(60, 64, 67, 0.15);\n",
              "    fill: var(--button-hover-fill-color);\n",
              "  }\n",
              "\n",
              "  .colab-df-quickchart-complete:disabled,\n",
              "  .colab-df-quickchart-complete:disabled:hover {\n",
              "    background-color: var(--disabled-bg-color);\n",
              "    fill: var(--disabled-fill-color);\n",
              "    box-shadow: none;\n",
              "  }\n",
              "\n",
              "  .colab-df-spinner {\n",
              "    border: 2px solid var(--fill-color);\n",
              "    border-color: transparent;\n",
              "    border-bottom-color: var(--fill-color);\n",
              "    animation:\n",
              "      spin 1s steps(1) infinite;\n",
              "  }\n",
              "\n",
              "  @keyframes spin {\n",
              "    0% {\n",
              "      border-color: transparent;\n",
              "      border-bottom-color: var(--fill-color);\n",
              "      border-left-color: var(--fill-color);\n",
              "    }\n",
              "    20% {\n",
              "      border-color: transparent;\n",
              "      border-left-color: var(--fill-color);\n",
              "      border-top-color: var(--fill-color);\n",
              "    }\n",
              "    30% {\n",
              "      border-color: transparent;\n",
              "      border-left-color: var(--fill-color);\n",
              "      border-top-color: var(--fill-color);\n",
              "      border-right-color: var(--fill-color);\n",
              "    }\n",
              "    40% {\n",
              "      border-color: transparent;\n",
              "      border-right-color: var(--fill-color);\n",
              "      border-top-color: var(--fill-color);\n",
              "    }\n",
              "    60% {\n",
              "      border-color: transparent;\n",
              "      border-right-color: var(--fill-color);\n",
              "    }\n",
              "    80% {\n",
              "      border-color: transparent;\n",
              "      border-right-color: var(--fill-color);\n",
              "      border-bottom-color: var(--fill-color);\n",
              "    }\n",
              "    90% {\n",
              "      border-color: transparent;\n",
              "      border-bottom-color: var(--fill-color);\n",
              "    }\n",
              "  }\n",
              "</style>\n",
              "\n",
              "  <script>\n",
              "    async function quickchart(key) {\n",
              "      const quickchartButtonEl =\n",
              "        document.querySelector('#' + key + ' button');\n",
              "      quickchartButtonEl.disabled = true;  // To prevent multiple clicks.\n",
              "      quickchartButtonEl.classList.add('colab-df-spinner');\n",
              "      try {\n",
              "        const charts = await google.colab.kernel.invokeFunction(\n",
              "            'suggestCharts', [key], {});\n",
              "      } catch (error) {\n",
              "        console.error('Error during call to suggestCharts:', error);\n",
              "      }\n",
              "      quickchartButtonEl.classList.remove('colab-df-spinner');\n",
              "      quickchartButtonEl.classList.add('colab-df-quickchart-complete');\n",
              "    }\n",
              "    (() => {\n",
              "      let quickchartButtonEl =\n",
              "        document.querySelector('#df-152a5219-0fcc-4697-bca0-08e95292ea24 button');\n",
              "      quickchartButtonEl.style.display =\n",
              "        google.colab.kernel.accessAllowed ? 'block' : 'none';\n",
              "    })();\n",
              "  </script>\n",
              "</div>\n",
              "\n",
              "  <div id=\"id_2469df04-f4f1-483c-91c8-569933f4933d\">\n",
              "    <style>\n",
              "      .colab-df-generate {\n",
              "        background-color: #E8F0FE;\n",
              "        border: none;\n",
              "        border-radius: 50%;\n",
              "        cursor: pointer;\n",
              "        display: none;\n",
              "        fill: #1967D2;\n",
              "        height: 32px;\n",
              "        padding: 0 0 0 0;\n",
              "        width: 32px;\n",
              "      }\n",
              "\n",
              "      .colab-df-generate:hover {\n",
              "        background-color: #E2EBFA;\n",
              "        box-shadow: 0px 1px 2px rgba(60, 64, 67, 0.3), 0px 1px 3px 1px rgba(60, 64, 67, 0.15);\n",
              "        fill: #174EA6;\n",
              "      }\n",
              "\n",
              "      [theme=dark] .colab-df-generate {\n",
              "        background-color: #3B4455;\n",
              "        fill: #D2E3FC;\n",
              "      }\n",
              "\n",
              "      [theme=dark] .colab-df-generate:hover {\n",
              "        background-color: #434B5C;\n",
              "        box-shadow: 0px 1px 3px 1px rgba(0, 0, 0, 0.15);\n",
              "        filter: drop-shadow(0px 1px 2px rgba(0, 0, 0, 0.3));\n",
              "        fill: #FFFFFF;\n",
              "      }\n",
              "    </style>\n",
              "    <button class=\"colab-df-generate\" onclick=\"generateWithVariable('df')\"\n",
              "            title=\"Generate code using this dataframe.\"\n",
              "            style=\"display:none;\">\n",
              "\n",
              "  <svg xmlns=\"http://www.w3.org/2000/svg\" height=\"24px\"viewBox=\"0 0 24 24\"\n",
              "       width=\"24px\">\n",
              "    <path d=\"M7,19H8.4L18.45,9,17,7.55,7,17.6ZM5,21V16.75L18.45,3.32a2,2,0,0,1,2.83,0l1.4,1.43a1.91,1.91,0,0,1,.58,1.4,1.91,1.91,0,0,1-.58,1.4L9.25,21ZM18.45,9,17,7.55Zm-12,3A5.31,5.31,0,0,0,4.9,8.1,5.31,5.31,0,0,0,1,6.5,5.31,5.31,0,0,0,4.9,4.9,5.31,5.31,0,0,0,6.5,1,5.31,5.31,0,0,0,8.1,4.9,5.31,5.31,0,0,0,12,6.5,5.46,5.46,0,0,0,6.5,12Z\"/>\n",
              "  </svg>\n",
              "    </button>\n",
              "    <script>\n",
              "      (() => {\n",
              "      const buttonEl =\n",
              "        document.querySelector('#id_2469df04-f4f1-483c-91c8-569933f4933d button.colab-df-generate');\n",
              "      buttonEl.style.display =\n",
              "        google.colab.kernel.accessAllowed ? 'block' : 'none';\n",
              "\n",
              "      buttonEl.onclick = () => {\n",
              "        google.colab.notebook.generateWithVariable('df');\n",
              "      }\n",
              "      })();\n",
              "    </script>\n",
              "  </div>\n",
              "\n",
              "    </div>\n",
              "  </div>\n"
            ],
            "application/vnd.google.colaboratory.intrinsic+json": {
              "type": "dataframe",
              "variable_name": "df",
              "summary": "{\n  \"name\": \"df\",\n  \"rows\": 11,\n  \"fields\": [\n    {\n      \"column\": \"X_i\",\n      \"properties\": {\n        \"dtype\": \"number\",\n        \"std\": 3,\n        \"min\": 1,\n        \"max\": 11,\n        \"num_unique_values\": 11,\n        \"samples\": [\n          6,\n          1,\n          10\n        ],\n        \"semantic_type\": \"\",\n        \"description\": \"\"\n      }\n    },\n    {\n      \"column\": \"Frequ\\u00eancia Absoluta\",\n      \"properties\": {\n        \"dtype\": \"number\",\n        \"std\": 2,\n        \"min\": 4,\n        \"max\": 13,\n        \"num_unique_values\": 7,\n        \"samples\": [\n          9,\n          13,\n          6\n        ],\n        \"semantic_type\": \"\",\n        \"description\": \"\"\n      }\n    },\n    {\n      \"column\": \"Frequ\\u00eancia Acumulada\",\n      \"properties\": {\n        \"dtype\": \"number\",\n        \"std\": 29,\n        \"min\": 9,\n        \"max\": 100,\n        \"num_unique_values\": 11,\n        \"samples\": [\n          59,\n          9,\n          92\n        ],\n        \"semantic_type\": \"\",\n        \"description\": \"\"\n      }\n    },\n    {\n      \"column\": \"Frequ\\u00eancia Relativa\",\n      \"properties\": {\n        \"dtype\": \"number\",\n        \"std\": 0.029817627489304194,\n        \"min\": 0.04,\n        \"max\": 0.13,\n        \"num_unique_values\": 7,\n        \"samples\": [\n          0.09,\n          0.13,\n          0.06\n        ],\n        \"semantic_type\": \"\",\n        \"description\": \"\"\n      }\n    },\n    {\n      \"column\": \"Frequ\\u00eancia Observada\",\n      \"properties\": {\n        \"dtype\": \"number\",\n        \"std\": 0.29856627100497846,\n        \"min\": 0.09,\n        \"max\": 1.0000000000000002,\n        \"num_unique_values\": 11,\n        \"samples\": [\n          0.5900000000000001,\n          0.09,\n          0.9200000000000002\n        ],\n        \"semantic_type\": \"\",\n        \"description\": \"\"\n      }\n    }\n  ]\n}"
            }
          },
          "metadata": {},
          "execution_count": 4
        }
      ]
    },
    {
      "cell_type": "markdown",
      "source": [
        "### Calculos necessários para obter  Dcal:\n",
        "Primeiramente, calculamos o Zi, para isso é necessário calcular o valor da expressão abaixo e observar  o resultado em uma tabela, nesse caso, há um biblioteca: $$\n",
        "\\frac{X_i - μ}{σ}$$\n",
        "A partir do valor de Z, nós podemos obter um valor para frequência esperada. Por fim, nós realizamos os sequintes calculos e adicionamos na tabela."
      ],
      "metadata": {
        "id": "ygiBj0dLzroc"
      }
    },
    {
      "cell_type": "code",
      "source": [
        "def calculos_Dcal(df, amostra):\n",
        "  df['Zi'] = (df['X_i'] - np.mean(amostra)) / np.std(amostra)\n",
        "  df['Frequência Esperada'] = norm.cdf(df['Zi'])\n",
        "  df['|F_esp(X_i)-F_obs(X_i)|'] = abs(df['Frequência Esperada']- df['Frequência Observada'])\n",
        "  df['|F_esp(X_i)-F_obs(X_{i-1})|'] = abs(df['Frequência Esperada'] - df['Frequência Observada'].shift(fill_value=0))\n",
        "  return df\n",
        "\n",
        "df = calculos_Dcal(df,amostra)\n",
        "df"
      ],
      "metadata": {
        "colab": {
          "base_uri": "https://localhost:8080/",
          "height": 394
        },
        "id": "hRNZQ9JS345D",
        "outputId": "ed3b8bae-4783-4805-d556-475175a9c704"
      },
      "execution_count": null,
      "outputs": [
        {
          "output_type": "execute_result",
          "data": {
            "text/plain": [
              "    X_i  Frequência Absoluta  Frequência Acumulada  Frequência Relativa  \\\n",
              "0     1                    9                     9                 0.09   \n",
              "1     2                   13                    22                 0.13   \n",
              "2     3                    9                    31                 0.09   \n",
              "3     4                   13                    44                 0.13   \n",
              "4     5                   11                    55                 0.11   \n",
              "5     6                    4                    59                 0.04   \n",
              "6     7                    9                    68                 0.09   \n",
              "7     8                   12                    80                 0.12   \n",
              "8     9                    6                    86                 0.06   \n",
              "9    10                    6                    92                 0.06   \n",
              "10   11                    8                   100                 0.08   \n",
              "\n",
              "    Frequência Observada        Zi  Frequência Esperada  \\\n",
              "0                   0.09 -1.463116             0.071718   \n",
              "1                   0.22 -1.140844             0.126967   \n",
              "2                   0.31 -0.818572             0.206515   \n",
              "3                   0.44 -0.496299             0.309842   \n",
              "4                   0.55 -0.174027             0.430922   \n",
              "5                   0.59  0.148245             0.558925   \n",
              "6                   0.68  0.470518             0.681007   \n",
              "7                   0.80  0.792790             0.786050   \n",
              "8                   0.86  1.115062             0.867588   \n",
              "9                   0.92  1.437334             0.924688   \n",
              "10                  1.00  1.759607             0.960763   \n",
              "\n",
              "    |F_esp(X_i)-F_obs(X_i)|  |F_esp(X_i)-F_obs(X_{i-1})|  \n",
              "0                  0.018282                     0.071718  \n",
              "1                  0.093033                     0.036967  \n",
              "2                  0.103485                     0.013485  \n",
              "3                  0.130158                     0.000158  \n",
              "4                  0.119078                     0.009078  \n",
              "5                  0.031075                     0.008925  \n",
              "6                  0.001007                     0.091007  \n",
              "7                  0.013950                     0.106050  \n",
              "8                  0.007588                     0.067588  \n",
              "9                  0.004688                     0.064688  \n",
              "10                 0.039237                     0.040763  "
            ],
            "text/html": [
              "\n",
              "  <div id=\"df-47ccdb06-317a-4597-a575-b60377c7792c\" class=\"colab-df-container\">\n",
              "    <div>\n",
              "<style scoped>\n",
              "    .dataframe tbody tr th:only-of-type {\n",
              "        vertical-align: middle;\n",
              "    }\n",
              "\n",
              "    .dataframe tbody tr th {\n",
              "        vertical-align: top;\n",
              "    }\n",
              "\n",
              "    .dataframe thead th {\n",
              "        text-align: right;\n",
              "    }\n",
              "</style>\n",
              "<table border=\"1\" class=\"dataframe\">\n",
              "  <thead>\n",
              "    <tr style=\"text-align: right;\">\n",
              "      <th></th>\n",
              "      <th>X_i</th>\n",
              "      <th>Frequência Absoluta</th>\n",
              "      <th>Frequência Acumulada</th>\n",
              "      <th>Frequência Relativa</th>\n",
              "      <th>Frequência Observada</th>\n",
              "      <th>Zi</th>\n",
              "      <th>Frequência Esperada</th>\n",
              "      <th>|F_esp(X_i)-F_obs(X_i)|</th>\n",
              "      <th>|F_esp(X_i)-F_obs(X_{i-1})|</th>\n",
              "    </tr>\n",
              "  </thead>\n",
              "  <tbody>\n",
              "    <tr>\n",
              "      <th>0</th>\n",
              "      <td>1</td>\n",
              "      <td>9</td>\n",
              "      <td>9</td>\n",
              "      <td>0.09</td>\n",
              "      <td>0.09</td>\n",
              "      <td>-1.463116</td>\n",
              "      <td>0.071718</td>\n",
              "      <td>0.018282</td>\n",
              "      <td>0.071718</td>\n",
              "    </tr>\n",
              "    <tr>\n",
              "      <th>1</th>\n",
              "      <td>2</td>\n",
              "      <td>13</td>\n",
              "      <td>22</td>\n",
              "      <td>0.13</td>\n",
              "      <td>0.22</td>\n",
              "      <td>-1.140844</td>\n",
              "      <td>0.126967</td>\n",
              "      <td>0.093033</td>\n",
              "      <td>0.036967</td>\n",
              "    </tr>\n",
              "    <tr>\n",
              "      <th>2</th>\n",
              "      <td>3</td>\n",
              "      <td>9</td>\n",
              "      <td>31</td>\n",
              "      <td>0.09</td>\n",
              "      <td>0.31</td>\n",
              "      <td>-0.818572</td>\n",
              "      <td>0.206515</td>\n",
              "      <td>0.103485</td>\n",
              "      <td>0.013485</td>\n",
              "    </tr>\n",
              "    <tr>\n",
              "      <th>3</th>\n",
              "      <td>4</td>\n",
              "      <td>13</td>\n",
              "      <td>44</td>\n",
              "      <td>0.13</td>\n",
              "      <td>0.44</td>\n",
              "      <td>-0.496299</td>\n",
              "      <td>0.309842</td>\n",
              "      <td>0.130158</td>\n",
              "      <td>0.000158</td>\n",
              "    </tr>\n",
              "    <tr>\n",
              "      <th>4</th>\n",
              "      <td>5</td>\n",
              "      <td>11</td>\n",
              "      <td>55</td>\n",
              "      <td>0.11</td>\n",
              "      <td>0.55</td>\n",
              "      <td>-0.174027</td>\n",
              "      <td>0.430922</td>\n",
              "      <td>0.119078</td>\n",
              "      <td>0.009078</td>\n",
              "    </tr>\n",
              "    <tr>\n",
              "      <th>5</th>\n",
              "      <td>6</td>\n",
              "      <td>4</td>\n",
              "      <td>59</td>\n",
              "      <td>0.04</td>\n",
              "      <td>0.59</td>\n",
              "      <td>0.148245</td>\n",
              "      <td>0.558925</td>\n",
              "      <td>0.031075</td>\n",
              "      <td>0.008925</td>\n",
              "    </tr>\n",
              "    <tr>\n",
              "      <th>6</th>\n",
              "      <td>7</td>\n",
              "      <td>9</td>\n",
              "      <td>68</td>\n",
              "      <td>0.09</td>\n",
              "      <td>0.68</td>\n",
              "      <td>0.470518</td>\n",
              "      <td>0.681007</td>\n",
              "      <td>0.001007</td>\n",
              "      <td>0.091007</td>\n",
              "    </tr>\n",
              "    <tr>\n",
              "      <th>7</th>\n",
              "      <td>8</td>\n",
              "      <td>12</td>\n",
              "      <td>80</td>\n",
              "      <td>0.12</td>\n",
              "      <td>0.80</td>\n",
              "      <td>0.792790</td>\n",
              "      <td>0.786050</td>\n",
              "      <td>0.013950</td>\n",
              "      <td>0.106050</td>\n",
              "    </tr>\n",
              "    <tr>\n",
              "      <th>8</th>\n",
              "      <td>9</td>\n",
              "      <td>6</td>\n",
              "      <td>86</td>\n",
              "      <td>0.06</td>\n",
              "      <td>0.86</td>\n",
              "      <td>1.115062</td>\n",
              "      <td>0.867588</td>\n",
              "      <td>0.007588</td>\n",
              "      <td>0.067588</td>\n",
              "    </tr>\n",
              "    <tr>\n",
              "      <th>9</th>\n",
              "      <td>10</td>\n",
              "      <td>6</td>\n",
              "      <td>92</td>\n",
              "      <td>0.06</td>\n",
              "      <td>0.92</td>\n",
              "      <td>1.437334</td>\n",
              "      <td>0.924688</td>\n",
              "      <td>0.004688</td>\n",
              "      <td>0.064688</td>\n",
              "    </tr>\n",
              "    <tr>\n",
              "      <th>10</th>\n",
              "      <td>11</td>\n",
              "      <td>8</td>\n",
              "      <td>100</td>\n",
              "      <td>0.08</td>\n",
              "      <td>1.00</td>\n",
              "      <td>1.759607</td>\n",
              "      <td>0.960763</td>\n",
              "      <td>0.039237</td>\n",
              "      <td>0.040763</td>\n",
              "    </tr>\n",
              "  </tbody>\n",
              "</table>\n",
              "</div>\n",
              "    <div class=\"colab-df-buttons\">\n",
              "\n",
              "  <div class=\"colab-df-container\">\n",
              "    <button class=\"colab-df-convert\" onclick=\"convertToInteractive('df-47ccdb06-317a-4597-a575-b60377c7792c')\"\n",
              "            title=\"Convert this dataframe to an interactive table.\"\n",
              "            style=\"display:none;\">\n",
              "\n",
              "  <svg xmlns=\"http://www.w3.org/2000/svg\" height=\"24px\" viewBox=\"0 -960 960 960\">\n",
              "    <path d=\"M120-120v-720h720v720H120Zm60-500h600v-160H180v160Zm220 220h160v-160H400v160Zm0 220h160v-160H400v160ZM180-400h160v-160H180v160Zm440 0h160v-160H620v160ZM180-180h160v-160H180v160Zm440 0h160v-160H620v160Z\"/>\n",
              "  </svg>\n",
              "    </button>\n",
              "\n",
              "  <style>\n",
              "    .colab-df-container {\n",
              "      display:flex;\n",
              "      gap: 12px;\n",
              "    }\n",
              "\n",
              "    .colab-df-convert {\n",
              "      background-color: #E8F0FE;\n",
              "      border: none;\n",
              "      border-radius: 50%;\n",
              "      cursor: pointer;\n",
              "      display: none;\n",
              "      fill: #1967D2;\n",
              "      height: 32px;\n",
              "      padding: 0 0 0 0;\n",
              "      width: 32px;\n",
              "    }\n",
              "\n",
              "    .colab-df-convert:hover {\n",
              "      background-color: #E2EBFA;\n",
              "      box-shadow: 0px 1px 2px rgba(60, 64, 67, 0.3), 0px 1px 3px 1px rgba(60, 64, 67, 0.15);\n",
              "      fill: #174EA6;\n",
              "    }\n",
              "\n",
              "    .colab-df-buttons div {\n",
              "      margin-bottom: 4px;\n",
              "    }\n",
              "\n",
              "    [theme=dark] .colab-df-convert {\n",
              "      background-color: #3B4455;\n",
              "      fill: #D2E3FC;\n",
              "    }\n",
              "\n",
              "    [theme=dark] .colab-df-convert:hover {\n",
              "      background-color: #434B5C;\n",
              "      box-shadow: 0px 1px 3px 1px rgba(0, 0, 0, 0.15);\n",
              "      filter: drop-shadow(0px 1px 2px rgba(0, 0, 0, 0.3));\n",
              "      fill: #FFFFFF;\n",
              "    }\n",
              "  </style>\n",
              "\n",
              "    <script>\n",
              "      const buttonEl =\n",
              "        document.querySelector('#df-47ccdb06-317a-4597-a575-b60377c7792c button.colab-df-convert');\n",
              "      buttonEl.style.display =\n",
              "        google.colab.kernel.accessAllowed ? 'block' : 'none';\n",
              "\n",
              "      async function convertToInteractive(key) {\n",
              "        const element = document.querySelector('#df-47ccdb06-317a-4597-a575-b60377c7792c');\n",
              "        const dataTable =\n",
              "          await google.colab.kernel.invokeFunction('convertToInteractive',\n",
              "                                                    [key], {});\n",
              "        if (!dataTable) return;\n",
              "\n",
              "        const docLinkHtml = 'Like what you see? Visit the ' +\n",
              "          '<a target=\"_blank\" href=https://colab.research.google.com/notebooks/data_table.ipynb>data table notebook</a>'\n",
              "          + ' to learn more about interactive tables.';\n",
              "        element.innerHTML = '';\n",
              "        dataTable['output_type'] = 'display_data';\n",
              "        await google.colab.output.renderOutput(dataTable, element);\n",
              "        const docLink = document.createElement('div');\n",
              "        docLink.innerHTML = docLinkHtml;\n",
              "        element.appendChild(docLink);\n",
              "      }\n",
              "    </script>\n",
              "  </div>\n",
              "\n",
              "\n",
              "<div id=\"df-2ff4c834-eedf-4dca-9575-5bbf2a0af908\">\n",
              "  <button class=\"colab-df-quickchart\" onclick=\"quickchart('df-2ff4c834-eedf-4dca-9575-5bbf2a0af908')\"\n",
              "            title=\"Suggest charts\"\n",
              "            style=\"display:none;\">\n",
              "\n",
              "<svg xmlns=\"http://www.w3.org/2000/svg\" height=\"24px\"viewBox=\"0 0 24 24\"\n",
              "     width=\"24px\">\n",
              "    <g>\n",
              "        <path d=\"M19 3H5c-1.1 0-2 .9-2 2v14c0 1.1.9 2 2 2h14c1.1 0 2-.9 2-2V5c0-1.1-.9-2-2-2zM9 17H7v-7h2v7zm4 0h-2V7h2v10zm4 0h-2v-4h2v4z\"/>\n",
              "    </g>\n",
              "</svg>\n",
              "  </button>\n",
              "\n",
              "<style>\n",
              "  .colab-df-quickchart {\n",
              "      --bg-color: #E8F0FE;\n",
              "      --fill-color: #1967D2;\n",
              "      --hover-bg-color: #E2EBFA;\n",
              "      --hover-fill-color: #174EA6;\n",
              "      --disabled-fill-color: #AAA;\n",
              "      --disabled-bg-color: #DDD;\n",
              "  }\n",
              "\n",
              "  [theme=dark] .colab-df-quickchart {\n",
              "      --bg-color: #3B4455;\n",
              "      --fill-color: #D2E3FC;\n",
              "      --hover-bg-color: #434B5C;\n",
              "      --hover-fill-color: #FFFFFF;\n",
              "      --disabled-bg-color: #3B4455;\n",
              "      --disabled-fill-color: #666;\n",
              "  }\n",
              "\n",
              "  .colab-df-quickchart {\n",
              "    background-color: var(--bg-color);\n",
              "    border: none;\n",
              "    border-radius: 50%;\n",
              "    cursor: pointer;\n",
              "    display: none;\n",
              "    fill: var(--fill-color);\n",
              "    height: 32px;\n",
              "    padding: 0;\n",
              "    width: 32px;\n",
              "  }\n",
              "\n",
              "  .colab-df-quickchart:hover {\n",
              "    background-color: var(--hover-bg-color);\n",
              "    box-shadow: 0 1px 2px rgba(60, 64, 67, 0.3), 0 1px 3px 1px rgba(60, 64, 67, 0.15);\n",
              "    fill: var(--button-hover-fill-color);\n",
              "  }\n",
              "\n",
              "  .colab-df-quickchart-complete:disabled,\n",
              "  .colab-df-quickchart-complete:disabled:hover {\n",
              "    background-color: var(--disabled-bg-color);\n",
              "    fill: var(--disabled-fill-color);\n",
              "    box-shadow: none;\n",
              "  }\n",
              "\n",
              "  .colab-df-spinner {\n",
              "    border: 2px solid var(--fill-color);\n",
              "    border-color: transparent;\n",
              "    border-bottom-color: var(--fill-color);\n",
              "    animation:\n",
              "      spin 1s steps(1) infinite;\n",
              "  }\n",
              "\n",
              "  @keyframes spin {\n",
              "    0% {\n",
              "      border-color: transparent;\n",
              "      border-bottom-color: var(--fill-color);\n",
              "      border-left-color: var(--fill-color);\n",
              "    }\n",
              "    20% {\n",
              "      border-color: transparent;\n",
              "      border-left-color: var(--fill-color);\n",
              "      border-top-color: var(--fill-color);\n",
              "    }\n",
              "    30% {\n",
              "      border-color: transparent;\n",
              "      border-left-color: var(--fill-color);\n",
              "      border-top-color: var(--fill-color);\n",
              "      border-right-color: var(--fill-color);\n",
              "    }\n",
              "    40% {\n",
              "      border-color: transparent;\n",
              "      border-right-color: var(--fill-color);\n",
              "      border-top-color: var(--fill-color);\n",
              "    }\n",
              "    60% {\n",
              "      border-color: transparent;\n",
              "      border-right-color: var(--fill-color);\n",
              "    }\n",
              "    80% {\n",
              "      border-color: transparent;\n",
              "      border-right-color: var(--fill-color);\n",
              "      border-bottom-color: var(--fill-color);\n",
              "    }\n",
              "    90% {\n",
              "      border-color: transparent;\n",
              "      border-bottom-color: var(--fill-color);\n",
              "    }\n",
              "  }\n",
              "</style>\n",
              "\n",
              "  <script>\n",
              "    async function quickchart(key) {\n",
              "      const quickchartButtonEl =\n",
              "        document.querySelector('#' + key + ' button');\n",
              "      quickchartButtonEl.disabled = true;  // To prevent multiple clicks.\n",
              "      quickchartButtonEl.classList.add('colab-df-spinner');\n",
              "      try {\n",
              "        const charts = await google.colab.kernel.invokeFunction(\n",
              "            'suggestCharts', [key], {});\n",
              "      } catch (error) {\n",
              "        console.error('Error during call to suggestCharts:', error);\n",
              "      }\n",
              "      quickchartButtonEl.classList.remove('colab-df-spinner');\n",
              "      quickchartButtonEl.classList.add('colab-df-quickchart-complete');\n",
              "    }\n",
              "    (() => {\n",
              "      let quickchartButtonEl =\n",
              "        document.querySelector('#df-2ff4c834-eedf-4dca-9575-5bbf2a0af908 button');\n",
              "      quickchartButtonEl.style.display =\n",
              "        google.colab.kernel.accessAllowed ? 'block' : 'none';\n",
              "    })();\n",
              "  </script>\n",
              "</div>\n",
              "\n",
              "  <div id=\"id_be5cce9d-e635-43d8-9976-a3837d43843a\">\n",
              "    <style>\n",
              "      .colab-df-generate {\n",
              "        background-color: #E8F0FE;\n",
              "        border: none;\n",
              "        border-radius: 50%;\n",
              "        cursor: pointer;\n",
              "        display: none;\n",
              "        fill: #1967D2;\n",
              "        height: 32px;\n",
              "        padding: 0 0 0 0;\n",
              "        width: 32px;\n",
              "      }\n",
              "\n",
              "      .colab-df-generate:hover {\n",
              "        background-color: #E2EBFA;\n",
              "        box-shadow: 0px 1px 2px rgba(60, 64, 67, 0.3), 0px 1px 3px 1px rgba(60, 64, 67, 0.15);\n",
              "        fill: #174EA6;\n",
              "      }\n",
              "\n",
              "      [theme=dark] .colab-df-generate {\n",
              "        background-color: #3B4455;\n",
              "        fill: #D2E3FC;\n",
              "      }\n",
              "\n",
              "      [theme=dark] .colab-df-generate:hover {\n",
              "        background-color: #434B5C;\n",
              "        box-shadow: 0px 1px 3px 1px rgba(0, 0, 0, 0.15);\n",
              "        filter: drop-shadow(0px 1px 2px rgba(0, 0, 0, 0.3));\n",
              "        fill: #FFFFFF;\n",
              "      }\n",
              "    </style>\n",
              "    <button class=\"colab-df-generate\" onclick=\"generateWithVariable('df')\"\n",
              "            title=\"Generate code using this dataframe.\"\n",
              "            style=\"display:none;\">\n",
              "\n",
              "  <svg xmlns=\"http://www.w3.org/2000/svg\" height=\"24px\"viewBox=\"0 0 24 24\"\n",
              "       width=\"24px\">\n",
              "    <path d=\"M7,19H8.4L18.45,9,17,7.55,7,17.6ZM5,21V16.75L18.45,3.32a2,2,0,0,1,2.83,0l1.4,1.43a1.91,1.91,0,0,1,.58,1.4,1.91,1.91,0,0,1-.58,1.4L9.25,21ZM18.45,9,17,7.55Zm-12,3A5.31,5.31,0,0,0,4.9,8.1,5.31,5.31,0,0,0,1,6.5,5.31,5.31,0,0,0,4.9,4.9,5.31,5.31,0,0,0,6.5,1,5.31,5.31,0,0,0,8.1,4.9,5.31,5.31,0,0,0,12,6.5,5.46,5.46,0,0,0,6.5,12Z\"/>\n",
              "  </svg>\n",
              "    </button>\n",
              "    <script>\n",
              "      (() => {\n",
              "      const buttonEl =\n",
              "        document.querySelector('#id_be5cce9d-e635-43d8-9976-a3837d43843a button.colab-df-generate');\n",
              "      buttonEl.style.display =\n",
              "        google.colab.kernel.accessAllowed ? 'block' : 'none';\n",
              "\n",
              "      buttonEl.onclick = () => {\n",
              "        google.colab.notebook.generateWithVariable('df');\n",
              "      }\n",
              "      })();\n",
              "    </script>\n",
              "  </div>\n",
              "\n",
              "    </div>\n",
              "  </div>\n"
            ],
            "application/vnd.google.colaboratory.intrinsic+json": {
              "type": "dataframe",
              "variable_name": "df",
              "summary": "{\n  \"name\": \"df\",\n  \"rows\": 11,\n  \"fields\": [\n    {\n      \"column\": \"X_i\",\n      \"properties\": {\n        \"dtype\": \"number\",\n        \"std\": 3,\n        \"min\": 1,\n        \"max\": 11,\n        \"num_unique_values\": 11,\n        \"samples\": [\n          6,\n          1,\n          10\n        ],\n        \"semantic_type\": \"\",\n        \"description\": \"\"\n      }\n    },\n    {\n      \"column\": \"Frequ\\u00eancia Absoluta\",\n      \"properties\": {\n        \"dtype\": \"number\",\n        \"std\": 2,\n        \"min\": 4,\n        \"max\": 13,\n        \"num_unique_values\": 7,\n        \"samples\": [\n          9,\n          13,\n          6\n        ],\n        \"semantic_type\": \"\",\n        \"description\": \"\"\n      }\n    },\n    {\n      \"column\": \"Frequ\\u00eancia Acumulada\",\n      \"properties\": {\n        \"dtype\": \"number\",\n        \"std\": 29,\n        \"min\": 9,\n        \"max\": 100,\n        \"num_unique_values\": 11,\n        \"samples\": [\n          59,\n          9,\n          92\n        ],\n        \"semantic_type\": \"\",\n        \"description\": \"\"\n      }\n    },\n    {\n      \"column\": \"Frequ\\u00eancia Relativa\",\n      \"properties\": {\n        \"dtype\": \"number\",\n        \"std\": 0.029817627489304194,\n        \"min\": 0.04,\n        \"max\": 0.13,\n        \"num_unique_values\": 7,\n        \"samples\": [\n          0.09,\n          0.13,\n          0.06\n        ],\n        \"semantic_type\": \"\",\n        \"description\": \"\"\n      }\n    },\n    {\n      \"column\": \"Frequ\\u00eancia Observada\",\n      \"properties\": {\n        \"dtype\": \"number\",\n        \"std\": 0.29856627100497846,\n        \"min\": 0.09,\n        \"max\": 1.0000000000000002,\n        \"num_unique_values\": 11,\n        \"samples\": [\n          0.5900000000000001,\n          0.09,\n          0.9200000000000002\n        ],\n        \"semantic_type\": \"\",\n        \"description\": \"\"\n      }\n    },\n    {\n      \"column\": \"Zi\",\n      \"properties\": {\n        \"dtype\": \"number\",\n        \"std\": 1.0688561993276247,\n        \"min\": -1.4631161049807582,\n        \"max\": 1.7596065932147444,\n        \"num_unique_values\": 11,\n        \"samples\": [\n          0.1482452441169931,\n          -1.4631161049807582,\n          1.4373343233951943\n        ],\n        \"semantic_type\": \"\",\n        \"description\": \"\"\n      }\n    },\n    {\n      \"column\": \"Frequ\\u00eancia Esperada\",\n      \"properties\": {\n        \"dtype\": \"number\",\n        \"std\": 0.3284918020935508,\n        \"min\": 0.07171780587924803,\n        \"max\": 0.9607627335686901,\n        \"num_unique_values\": 11,\n        \"samples\": [\n          0.5589253866908087,\n          0.07171780587924803,\n          0.924688489729486\n        ],\n        \"semantic_type\": \"\",\n        \"description\": \"\"\n      }\n    },\n    {\n      \"column\": \"|F_esp(X_i)-F_obs(X_i)|\",\n      \"properties\": {\n        \"dtype\": \"number\",\n        \"std\": 0.04992907343458478,\n        \"min\": 0.001007337812310105,\n        \"max\": 0.1301583683744792,\n        \"num_unique_values\": 11,\n        \"samples\": [\n          0.031074613309191368,\n          0.018282194120751966,\n          0.0046884897294858785\n        ],\n        \"semantic_type\": \"\",\n        \"description\": \"\"\n      }\n    },\n    {\n      \"column\": \"|F_esp(X_i)-F_obs(X_{i-1})|\",\n      \"properties\": {\n        \"dtype\": \"number\",\n        \"std\": 0.03621058835230253,\n        \"min\": 0.00015836837447918972,\n        \"max\": 0.10604984515083882,\n        \"num_unique_values\": 11,\n        \"samples\": [\n          0.008925386690808668,\n          0.07171780587924803,\n          0.06468848972948593\n        ],\n        \"semantic_type\": \"\",\n        \"description\": \"\"\n      }\n    }\n  ]\n}"
            }
          },
          "metadata": {},
          "execution_count": 5
        }
      ]
    },
    {
      "cell_type": "markdown",
      "source": [
        "### Função ```result_DCal``` para obter o valor do Dcal:\n",
        "O cálculo feito está abaixo e será feito utilizando a tabela obtida nos passos anteriores.\n",
        "$$𝐷𝑐𝑎𝑙 = 𝑚𝑎𝑥\\left\\lbrace|𝐹𝑒𝑠𝑝(𝑋_i) - 𝐹𝑜𝑏𝑠(𝑋_i)|, |𝐹𝑒𝑠𝑝(𝑋_i) - 𝐹𝑜𝑏𝑠(𝑋_{i-1})|\\right\\rbrace\n",
        "$$"
      ],
      "metadata": {
        "id": "-ted_vkt5nkF"
      }
    },
    {
      "cell_type": "code",
      "source": [
        "def result_Dcal(df):\n",
        "  max_Fesp_Fobs = (df['|F_esp(X_i)-F_obs(X_i)|']).max()\n",
        "  max_Fesp_Fobs1 =(df['|F_esp(X_i)-F_obs(X_{i-1})|']).max()\n",
        "  listaMax = [max_Fesp_Fobs,max_Fesp_Fobs1]\n",
        "  Dcalc = np.max(listaMax)\n",
        "  return Dcalc\n",
        "Dcalc = result_Dcal(df)\n",
        "print(f\"Dcal = {Dcalc}\")"
      ],
      "metadata": {
        "colab": {
          "base_uri": "https://localhost:8080/"
        },
        "id": "NKUgczF15m-_",
        "outputId": "1f3cc82e-6362-41c1-a74a-fe2bb3da4fc2"
      },
      "execution_count": null,
      "outputs": [
        {
          "output_type": "stream",
          "name": "stdout",
          "text": [
            "Dcal = 0.1301583683744792\n"
          ]
        }
      ]
    },
    {
      "cell_type": "markdown",
      "source": [
        "### Calculando o valor crítico do teste de Kolmogorov Smirnov:\n",
        "A função ```kolmogorov_smirnov_critico(n)``` calcula o valor crítico do teste de Kolmogorov-Smirnov dependendo do tamanho da amostra n. Para amostras com tamanho menor ou igual a 40, os valores críticos são obtidos de uma tabela predefinida. Para amostras com tamanho maior que 40, o valor crítico é calculado de acordo com uma fórmula específica. Tal função retorna o valor crítico do teste de Kolmogorov-Smirnov. Nesse caso o nivel de significância observado α é de 0,05."
      ],
      "metadata": {
        "id": "l2hGERl2Baej"
      }
    },
    {
      "cell_type": "code",
      "source": [
        "# Checking the critical value of the Kolmogorov-Smirnov test\n",
        "def kolmogorov_smirnov_critico(n):\n",
        "    # table of critical values for the kolmogorov-smirnov test - 95% confidence\n",
        "    # Source: http://www.real-statistics.com/statistics-tables/kolmogorov-smirnov-table/\n",
        "    # alpha = 0.05 (95% confidential level)\n",
        "\n",
        "    if n <= 40:\n",
        "        # values between 1 and 40\n",
        "        kolmogorov_critico = [0.97500, 0.84189, 0.70760, 0.62394, 0.56328, 0.51926, 0.48342, 0.45427, 0.43001, 0.40925,\n",
        "                      0.39122, 0.37543, 0.36143, 0.34890, 0.33760, 0.32733, 0.31796, 0.30936, 0.30143, 0.29408,\n",
        "                      0.28724, 0.28087, 0.27490, 0.26931, 0.26404, 0.25907, 0.25438, 0.24993, 0.24571, 0.24170,\n",
        "                      0.23788, 0.23424, 0.23076, 0.22743, 0.22425, 0.22119, 0.21826, 0.21544, 0.21273, 0.21012]\n",
        "        ks_critico = kolmogorov_critico[n - 1]\n",
        "    elif n > 40:\n",
        "        # values > 40:\n",
        "        kolmogorov_critico = 1.36/(np.sqrt(n))\n",
        "        ks_critico = kolmogorov_critico\n",
        "    else:\n",
        "        pass\n",
        "\n",
        "    return ks_critico\n",
        "\n",
        "Dc = kolmogorov_smirnov_critico(len(amostra))\n",
        "print(f\"Dc = {Dc}\")"
      ],
      "metadata": {
        "id": "TKfje_d6BZ8Q",
        "colab": {
          "base_uri": "https://localhost:8080/"
        },
        "outputId": "603d1fdc-eff2-464d-9272-aba2d59c026f"
      },
      "execution_count": null,
      "outputs": [
        {
          "output_type": "stream",
          "name": "stdout",
          "text": [
            "Dc = 0.136\n"
          ]
        }
      ]
    },
    {
      "cell_type": "markdown",
      "source": [
        "### Resultados:"
      ],
      "metadata": {
        "id": "DLQ28cy5ClRm"
      }
    },
    {
      "cell_type": "markdown",
      "source": [
        "Com os valores de Dcalc e Dc basta compararmos. Se Dcal< Dc então não temos motivos para descartar a Hipotese nula com 95% de confiabilidade. Caso Dcal >=  Dc então podemos afirmar que com 95% de confiabilidade não é uma distribuição normal(assume-se a Hipotese 1)."
      ],
      "metadata": {
        "id": "2mAiVb-BNBoj"
      }
    },
    {
      "cell_type": "code",
      "source": [
        "print(f\"Com 95% de confianca, o valor critico do teste de Kolmogorov-Smirnov é de = {Dc}\")\n",
        "print(f\"O valor calculado do teste de Kolmogorov-Smirnov é de = {Dcalc}\")\n",
        "# Conclusion\n",
        "if Dc >= Dcalc:\n",
        "    print(\"Com 95% de confianca, não temos evidências para rejeitar a hipótese de normalidade dos dados, segundo o teste de Kolmogorov-Smirnov\")\n",
        "else:\n",
        "    print(\"Com 95% de confianca, temos evidências para rejeitar a hipótese de normalidade dos dados, segundo o teste de Kolmogorov-Smirnov\")"
      ],
      "metadata": {
        "colab": {
          "base_uri": "https://localhost:8080/"
        },
        "id": "a5a_VKk8OB8b",
        "outputId": "0f407f3f-c21f-49c8-befc-bf322707dccd"
      },
      "execution_count": null,
      "outputs": [
        {
          "output_type": "stream",
          "name": "stdout",
          "text": [
            "Com 95% de confianca, o valor critico do teste de Kolmogorov-Smirnov é de = 0.136\n",
            "O valor calculado do teste de Kolmogorov-Smirnov é de = 0.1301583683744792\n",
            "Com 95% de confianca, não temos evidências para rejeitar a hipótese de normalidade dos dados, segundo o teste de Kolmogorov-Smirnov\n"
          ]
        }
      ]
    },
    {
      "cell_type": "markdown",
      "source": [
        "### Função ```plotar_comparacao_frequencias``` para plotar graficos com a frequência observada e esperada."
      ],
      "metadata": {
        "id": "uYuKOUylIn4a"
      }
    },
    {
      "cell_type": "code",
      "source": [
        "import seaborn as sns\n",
        "import matplotlib.pyplot as plt\n",
        "\n",
        "def plotar_comparacao_frequencias(df):\n",
        "    plt.figure(figsize=(10, 6))\n",
        "    sns.lineplot(data=df, x='X_i', y='Frequência Observada', label='Frequência Observada', color='blue')\n",
        "    sns.lineplot(data=df, x='X_i', y='Frequência Esperada', label='Frequência Esperada', color='orange')\n",
        "    plt.xlabel('Valores')\n",
        "    plt.ylabel('Frequência')\n",
        "    plt.title('Comparação entre Frequência Observada e Frequência Esperada')\n",
        "    plt.legend()\n",
        "    plt.grid(True)\n",
        "    plt.show()\n",
        "plotar_comparacao_frequencias(df)"
      ],
      "metadata": {
        "colab": {
          "base_uri": "https://localhost:8080/",
          "height": 565
        },
        "id": "lMsfmS4G8ch8",
        "outputId": "fc438e14-38f5-485d-e052-d90902ac9016"
      },
      "execution_count": null,
      "outputs": [
        {
          "output_type": "display_data",
          "data": {
            "text/plain": [
              "<Figure size 1000x600 with 1 Axes>"
            ],
            "image/png": "[encoded data removed]"
          },
          "metadata": {}
        }
      ]
    },
    {
      "cell_type": "markdown",
      "source": [
        "### Função ```distribuicao``` para ver como os valores estão distribuidos:"
      ],
      "metadata": {
        "id": "sHAMArzQJD6H"
      }
    },
    {
      "cell_type": "code",
      "source": [
        "def distribuicao(amostra):\n",
        "    plt.figure(figsize=(10, 6))\n",
        "    sns.histplot(amostra, kde=False, color='skyblue', bins=10)\n",
        "    plt.xlabel('Valores')\n",
        "    plt.ylabel('Frequência')\n",
        "    plt.title('Histograma da Amostra Aleatória')\n",
        "    plt.grid(True)\n",
        "    plt.show()\n",
        "distribuicao(amostra)"
      ],
      "metadata": {
        "id": "nUX5P8ySPulm",
        "colab": {
          "base_uri": "https://localhost:8080/",
          "height": 565
        },
        "outputId": "049afe7f-39d5-4d70-cc26-98c8627be294"
      },
      "execution_count": null,
      "outputs": [
        {
          "output_type": "display_data",
          "data": {
            "text/plain": [
              "<Figure size 1000x600 with 1 Axes>"
            ],
            "image/png": "[encoded data removed]"
          },
          "metadata": {}
        }
      ]
    },
    {
      "cell_type": "markdown",
      "source": [
        "## Outra abordagem utilizando Scypy"
      ],
      "metadata": {
        "id": "nscYIQwC8oRr"
      }
    },
    {
      "cell_type": "code",
      "source": [
        "# Calculating the value of the Kolmogorov-Smirnov statistic for the data\n",
        "media = np.mean(amostra)\n",
        "std = np.std(amostra)\n",
        "tamanho_amostra = len(amostra)\n",
        "ks_critico = kolmogorov_smirnov_critico(tamanho_amostra)\n",
        "ks_stat, ks_p_valor = stats.kstest(amostra, cdf='norm', args=(media, std), N = tamanho_amostra)\n",
        "print(\"A media dos dados é = \" + str(media))\n",
        "print(\"O desvio padrao dos dados é = \" + str(std))\n",
        "print(\"Com 95% de confianca, o valor critico do teste de Kolmogorov-Smirnov é de = \" + str(ks_critico))\n",
        "print(\"O valor calculado do teste de Kolmogorov-Smirnov é de = \" + str(ks_stat))\n",
        "# Conclusion\n",
        "if ks_critico >= ks_stat:\n",
        "    print(\"Com 95% de confianca, não temos evidências para rejeitar a hipótese de normalidade dos dados, segundo o teste de Kolmogorov-Smirnov\")\n",
        "else:\n",
        "    print(\"Com 95% de confianca, temos evidências para rejeitar a hipótese de normalidade dos dados, segundo o teste de Kolmogorov-Smirnov\")"
      ],
      "metadata": {
        "colab": {
          "base_uri": "https://localhost:8080/"
        },
        "id": "9DAOkR0UB9wj",
        "outputId": "ee4b9f37-8235-49e2-b298-83ab8f394d56"
      },
      "execution_count": null,
      "outputs": [
        {
          "output_type": "stream",
          "name": "stdout",
          "text": [
            "A media dos dados é = 5.54\n",
            "O desvio padrao dos dados é = 3.1029663227305577\n",
            "Com 95% de confianca, o valor critico do teste de Kolmogorov-Smirnov é de = 0.136\n",
            "O valor calculado do teste de Kolmogorov-Smirnov é de = 0.1301583683744792\n",
            "Com 95% de confianca, não temos evidências para rejeitar a hipótese de normalidade dos dados, segundo o teste de Kolmogorov-Smirnov\n"
          ]
        }
      ]
    },
    {
      "cell_type": "markdown",
      "source": [
        "### Para as cinquenta amostras aleatórias:"
      ],
      "metadata": {
        "id": "z9fwuHetchUq"
      }
    },
    {
      "cell_type": "code",
      "source": [
        "#Cinquenta amostras para serem testadas\n",
        "amostras = []\n",
        "for i in range(20):\n",
        "  amostras.append(amostra_aleatoria(1,11,200, probabilidades))\n",
        "for i in range(20):\n",
        "  amostras.append(amostra_aleatoria(20, 54, 200))\n",
        "for _ in range(10):\n",
        "    amostra = np.random.normal(loc=10, scale=2, size=200)\n",
        "    amostras.append(amostra)\n",
        "print(f'Foram geradas {len(amostras)} amostras aleatórias')"
      ],
      "metadata": {
        "colab": {
          "base_uri": "https://localhost:8080/"
        },
        "id": "1f74E0ahcg7a",
        "outputId": "fc1cecbd-50e1-422f-ebe5-cccbe2a8a9c5"
      },
      "execution_count": null,
      "outputs": [
        {
          "output_type": "stream",
          "name": "stdout",
          "text": [
            "Foram geradas 50 amostras aleatórias\n"
          ]
        }
      ]
    },
    {
      "cell_type": "markdown",
      "source": [
        "### Aplicando as funções criadas"
      ],
      "metadata": {
        "id": "xGNg6wUehYKE"
      }
    },
    {
      "cell_type": "code",
      "source": [
        "Dc = kolmogorov_smirnov_critico(200)\n",
        "dfs = []\n",
        "dCals = []\n",
        "resultados = []\n",
        "# Calculando as frequências\n",
        "for i in amostras:\n",
        "  dfs.append(calcular_frequencias(i))\n",
        "# Caculando a Dcals\n",
        "for i in range(50):\n",
        "  dCals.append(calculos_Dcal(dfs[i],amostras[i]))\n",
        "for i in dCals:\n",
        "  resultados.append(result_Dcal(i))\n",
        "\n",
        "print(resultados)\n"
      ],
      "metadata": {
        "id": "1kUrQSkhcuMs",
        "colab": {
          "base_uri": "https://localhost:8080/"
        },
        "outputId": "ab26b0be-71df-4e9d-e2d4-a0f441e8bd00"
      },
      "execution_count": null,
      "outputs": [
        {
          "output_type": "stream",
          "name": "stdout",
          "text": [
            "[0.08185015382003025, 0.09068101893631891, 0.09662095274908578, 0.12443624524184693, 0.09538147840756983, 0.10004567022409638, 0.11699589059962501, 0.09019850941841528, 0.1057767356150639, 0.10799630244734948, 0.10543336085461597, 0.11139570663004772, 0.15072216282422157, 0.09979788253847632, 0.10344642212932231, 0.10006901128919943, 0.09369047362392702, 0.10600604546772896, 0.11528382293040007, 0.10398514186452912, 0.09435749986939507, 0.07830801019881395, 0.1053094809061858, 0.11043675697555588, 0.08292450523123185, 0.09782387610860499, 0.12309102623449664, 0.09300229694842566, 0.08800194060684108, 0.09225758552651331, 0.06782663139838818, 0.1095696513173603, 0.09719036643508583, 0.1113014578270316, 0.1294091449819882, 0.11168883242499855, 0.09550933473447532, 0.0893033070876908, 0.08301168469194176, 0.07224992809585318, 0.044185838647260584, 0.036453322485904494, 0.03581316868155471, 0.05443249795104749, 0.05184932070273013, 0.0332541357131898, 0.046743182865379124, 0.03805454121706142, 0.03662765886079167, 0.05421908143947152]\n"
          ]
        }
      ]
    },
    {
      "cell_type": "code",
      "source": [
        "!pip install reportlab"
      ],
      "metadata": {
        "colab": {
          "base_uri": "https://localhost:8080/"
        },
        "id": "x5bYUVu5U6C1",
        "outputId": "6ab660ae-ca58-48b0-838d-d2abf7537b3a"
      },
      "execution_count": null,
      "outputs": [
        {
          "output_type": "stream",
          "name": "stdout",
          "text": [
            "Collecting reportlab\n",
            "  Downloading reportlab-4.2.0-py3-none-any.whl (1.9 MB)\n",
            "\u001b[2K     \u001b[90m━━━━━━━━━━━━━━━━━━━━━━━━━━━━━━━━━━━━━━━━\u001b[0m \u001b[32m1.9/1.9 MB\u001b[0m \u001b[31m6.4 MB/s\u001b[0m eta \u001b[36m0:00:00\u001b[0m\n",
            "\u001b[?25hRequirement already satisfied: pillow>=9.0.0 in /usr/local/lib/python3.10/dist-packages (from reportlab) (9.4.0)\n",
            "Requirement already satisfied: chardet in /usr/local/lib/python3.10/dist-packages (from reportlab) (5.2.0)\n",
            "Installing collected packages: reportlab\n",
            "Successfully installed reportlab-4.2.0\n"
          ]
        }
      ]
    },
    {
      "cell_type": "markdown",
      "source": [
        "### Gerando pdf com as infos de um df\n"
      ],
      "metadata": {
        "id": "079QUKOJc35M"
      }
    },
    {
      "cell_type": "code",
      "source": [
        "from reportlab.lib import colors\n",
        "from reportlab.lib.pagesizes import letter\n",
        "from reportlab.platypus import SimpleDocTemplate, Table, TableStyle\n",
        "\n",
        "def gerar_pdf(df,nome_arquivo):\n",
        "  # Definindo o nome do arquivo PDF\n",
        "  pdf_filename = f\"{nome_arquivo}.pdf\"\n",
        "\n",
        "  # Criando um documento PDF\n",
        "  doc = SimpleDocTemplate(pdf_filename, pagesize=letter)\n",
        "\n",
        "  # Criando uma lista para conter os elementos do PDF\n",
        "  elements = []\n",
        "\n",
        "  # Convertendo o DataFrame para uma lista de listas\n",
        "  data = [df.columns.tolist()] + df.values.tolist()\n",
        "\n",
        "  # Criando a tabela com os dados do DataFrame\n",
        "  t = Table(data)\n",
        "\n",
        "  # Estilizando a tabela\n",
        "  t.setStyle(TableStyle([('BACKGROUND', (0, 0), (-1, 0), colors.grey),\n",
        "                        ('TEXTCOLOR', (0, 0), (-1, 0), colors.whitesmoke),\n",
        "                        ('ALIGN', (0, 0), (-1, -1), 'CENTER'),\n",
        "                        ('FONTNAME', (0, 0), (-1, 0), 'Helvetica-Bold'),\n",
        "                        ('BOTTOMPADDING', (0, 0), (-1, 0), 12),\n",
        "                        ('BACKGROUND', (0, 1), (-1, -1), colors.beige),\n",
        "                        ('GRID', (0, 0), (-1, -1), 1, colors.black)]))\n",
        "\n",
        "  # Adicionando a tabela à lista de elementos do PDF\n",
        "  elements.append(t)\n",
        "\n",
        "  # Construindo o PDF\n",
        "  doc.build(elements)\n"
      ],
      "metadata": {
        "id": "1klxcR_VUdYI"
      },
      "execution_count": null,
      "outputs": []
    },
    {
      "cell_type": "markdown",
      "source": [
        "### Gerando relatório das 50 amostras"
      ],
      "metadata": {
        "id": "7ZNAVpeddGWP"
      }
    },
    {
      "cell_type": "code",
      "source": [
        "Dc = kolmogorov_smirnov_critico(200)\n",
        "df = pd.DataFrame({\n",
        "    'Amostra': [i+1 for i in range(len(amostras))],\n",
        "    'Resultados': resultados,\n",
        "    'Dc': Dc,\n",
        "    'Hipotese(95% de confiança)': ['Temos evidências para rejeitar a hipótese de normalidade dos dados' if dcalc <= Dc else 'Não temos evidências para rejeitar a hipótese de normalidade dos dados' for dcalc in resultados]\n",
        "})\n",
        "df.head(5)\n",
        "gerar_pdf(df,'teste')"
      ],
      "metadata": {
        "id": "QnmDZJNKWDYR"
      },
      "execution_count": null,
      "outputs": []
    },
    {
      "cell_type": "markdown",
      "source": [
        "### Resultados:"
      ],
      "metadata": {
        "id": "7PfKPPFlixf3"
      }
    },
    {
      "cell_type": "code",
      "source": [
        "Dc = kolmogorov_smirnov_critico(200)\n",
        "for i in range(50):\n",
        "  if  resultados[i] < Dc :\n",
        "    print(f\"{i}) Com 95% de confianca, não temos evidências para rejeitar a hipótese de normalidade dos dados, segundo o teste de Kolmogorov-Smirnov\")\n",
        "    print(f\"{resultados[i]} < {Dc}\")\n",
        "  else:\n",
        "    print(f\"{i}) Com 95% de confianca, temos evidências para rejeitar a hipótese de normalidade dos dados, segundo o teste de Kolmogorov-Smirnov\")\n",
        "    print(f\"{resultados[i]} >= {Dc}\")"
      ],
      "metadata": {
        "id": "mAcFp_AYixC2"
      },
      "execution_count": null,
      "outputs": []
    },
    {
      "cell_type": "markdown",
      "source": [
        "## Shapiro -Wilk"
      ],
      "metadata": {
        "id": "-9ZnUMDXQmYp"
      }
    },
    {
      "cell_type": "markdown",
      "source": [
        "Usei esse site para obter as tabelas: https://real-statistics.com/statistics-tables/shapiro-wilk-table/"
      ],
      "metadata": {
        "id": "SRsYvMrMXR-0"
      }
    },
    {
      "cell_type": "code",
      "source": [
        "amostra = [15,19,23,24,28,30,32,36,16,20,23,25,29,31,34,39,18,22,24,28,30,32,36,46]"
      ],
      "metadata": {
        "id": "pLXLbjyGQ4Qo"
      },
      "execution_count": null,
      "outputs": []
    },
    {
      "cell_type": "markdown",
      "source": [
        "### Tabela dos coeficientes"
      ],
      "metadata": {
        "id": "7aIB3FW5ZYi8"
      }
    },
    {
      "cell_type": "code",
      "source": [
        "df = pd.read_excel(\"Sw1.xlsx\")\n",
        "df = df.fillna(0)\n",
        "df.head(5)"
      ],
      "metadata": {
        "id": "tVCuc4gzXAqj",
        "colab": {
          "base_uri": "https://localhost:8080/",
          "height": 236
        },
        "outputId": "ea462858-e3e5-4dc2-ed71-db0fc1a999fc"
      },
      "execution_count": null,
      "outputs": [
        {
          "output_type": "execute_result",
          "data": {
            "text/plain": [
              "  n =       2       3       4       5       6       7       8       9      10  \\\n",
              "0  a1  0.7071  0.7071  0.6872  0.6646  0.6431  0.6233  0.6052  0.5888  0.5739   \n",
              "1  a2  0.0000  0.0000  0.1677  0.2413  0.2806  0.3031  0.3164  0.3244  0.3291   \n",
              "2  a3  0.0000  0.0000  0.0000  0.0000  0.0875  0.1401  0.1743  0.1976  0.2141   \n",
              "3  a4  0.0000  0.0000  0.0000  0.0000  0.0000  0.0000  0.0561  0.0947  0.1224   \n",
              "4  a5  0.0000  0.0000  0.0000  0.0000  0.0000  0.0000  0.0000  0.0000  0.0399   \n",
              "\n",
              "   ...      29      30      31      32      33      34      35      36  \\\n",
              "0  ...  0.4291  0.4254  0.4220  0.4188  0.4156  0.4127  0.4096  0.4068   \n",
              "1  ...  0.2968  0.2944  0.2921  0.2898  0.2876  0.2854  0.2834  0.2813   \n",
              "2  ...  0.2499  0.2487  0.2475  0.2463  0.2451  0.2439  0.2427  0.2415   \n",
              "3  ...  0.2150  0.2148  0.2145  0.2141  0.2137  0.2132  0.2127  0.2121   \n",
              "4  ...  0.1864  0.1870  0.1874  0.1878  0.1880  0.1882  0.1883  0.1883   \n",
              "\n",
              "       37      38  \n",
              "0  0.4040  0.4015  \n",
              "1  0.2794  0.2774  \n",
              "2  0.2403  0.2391  \n",
              "3  0.2116  0.2110  \n",
              "4  0.1883  0.1881  \n",
              "\n",
              "[5 rows x 38 columns]"
            ],
            "text/html": [
              "\n",
              "  <div id=\"df-33f04515-0b4f-49b9-9e54-08b9abd930f9\" class=\"colab-df-container\">\n",
              "    <div>\n",
              "<style scoped>\n",
              "    .dataframe tbody tr th:only-of-type {\n",
              "        vertical-align: middle;\n",
              "    }\n",
              "\n",
              "    .dataframe tbody tr th {\n",
              "        vertical-align: top;\n",
              "    }\n",
              "\n",
              "    .dataframe thead th {\n",
              "        text-align: right;\n",
              "    }\n",
              "</style>\n",
              "<table border=\"1\" class=\"dataframe\">\n",
              "  <thead>\n",
              "    <tr style=\"text-align: right;\">\n",
              "      <th></th>\n",
              "      <th>n =</th>\n",
              "      <th>2</th>\n",
              "      <th>3</th>\n",
              "      <th>4</th>\n",
              "      <th>5</th>\n",
              "      <th>6</th>\n",
              "      <th>7</th>\n",
              "      <th>8</th>\n",
              "      <th>9</th>\n",
              "      <th>10</th>\n",
              "      <th>...</th>\n",
              "      <th>29</th>\n",
              "      <th>30</th>\n",
              "      <th>31</th>\n",
              "      <th>32</th>\n",
              "      <th>33</th>\n",
              "      <th>34</th>\n",
              "      <th>35</th>\n",
              "      <th>36</th>\n",
              "      <th>37</th>\n",
              "      <th>38</th>\n",
              "    </tr>\n",
              "  </thead>\n",
              "  <tbody>\n",
              "    <tr>\n",
              "      <th>0</th>\n",
              "      <td>a1</td>\n",
              "      <td>0.7071</td>\n",
              "      <td>0.7071</td>\n",
              "      <td>0.6872</td>\n",
              "      <td>0.6646</td>\n",
              "      <td>0.6431</td>\n",
              "      <td>0.6233</td>\n",
              "      <td>0.6052</td>\n",
              "      <td>0.5888</td>\n",
              "      <td>0.5739</td>\n",
              "      <td>...</td>\n",
              "      <td>0.4291</td>\n",
              "      <td>0.4254</td>\n",
              "      <td>0.4220</td>\n",
              "      <td>0.4188</td>\n",
              "      <td>0.4156</td>\n",
              "      <td>0.4127</td>\n",
              "      <td>0.4096</td>\n",
              "      <td>0.4068</td>\n",
              "      <td>0.4040</td>\n",
              "      <td>0.4015</td>\n",
              "    </tr>\n",
              "    <tr>\n",
              "      <th>1</th>\n",
              "      <td>a2</td>\n",
              "      <td>0.0000</td>\n",
              "      <td>0.0000</td>\n",
              "      <td>0.1677</td>\n",
              "      <td>0.2413</td>\n",
              "      <td>0.2806</td>\n",
              "      <td>0.3031</td>\n",
              "      <td>0.3164</td>\n",
              "      <td>0.3244</td>\n",
              "      <td>0.3291</td>\n",
              "      <td>...</td>\n",
              "      <td>0.2968</td>\n",
              "      <td>0.2944</td>\n",
              "      <td>0.2921</td>\n",
              "      <td>0.2898</td>\n",
              "      <td>0.2876</td>\n",
              "      <td>0.2854</td>\n",
              "      <td>0.2834</td>\n",
              "      <td>0.2813</td>\n",
              "      <td>0.2794</td>\n",
              "      <td>0.2774</td>\n",
              "    </tr>\n",
              "    <tr>\n",
              "      <th>2</th>\n",
              "      <td>a3</td>\n",
              "      <td>0.0000</td>\n",
              "      <td>0.0000</td>\n",
              "      <td>0.0000</td>\n",
              "      <td>0.0000</td>\n",
              "      <td>0.0875</td>\n",
              "      <td>0.1401</td>\n",
              "      <td>0.1743</td>\n",
              "      <td>0.1976</td>\n",
              "      <td>0.2141</td>\n",
              "      <td>...</td>\n",
              "      <td>0.2499</td>\n",
              "      <td>0.2487</td>\n",
              "      <td>0.2475</td>\n",
              "      <td>0.2463</td>\n",
              "      <td>0.2451</td>\n",
              "      <td>0.2439</td>\n",
              "      <td>0.2427</td>\n",
              "      <td>0.2415</td>\n",
              "      <td>0.2403</td>\n",
              "      <td>0.2391</td>\n",
              "    </tr>\n",
              "    <tr>\n",
              "      <th>3</th>\n",
              "      <td>a4</td>\n",
              "      <td>0.0000</td>\n",
              "      <td>0.0000</td>\n",
              "      <td>0.0000</td>\n",
              "      <td>0.0000</td>\n",
              "      <td>0.0000</td>\n",
              "      <td>0.0000</td>\n",
              "      <td>0.0561</td>\n",
              "      <td>0.0947</td>\n",
              "      <td>0.1224</td>\n",
              "      <td>...</td>\n",
              "      <td>0.2150</td>\n",
              "      <td>0.2148</td>\n",
              "      <td>0.2145</td>\n",
              "      <td>0.2141</td>\n",
              "      <td>0.2137</td>\n",
              "      <td>0.2132</td>\n",
              "      <td>0.2127</td>\n",
              "      <td>0.2121</td>\n",
              "      <td>0.2116</td>\n",
              "      <td>0.2110</td>\n",
              "    </tr>\n",
              "    <tr>\n",
              "      <th>4</th>\n",
              "      <td>a5</td>\n",
              "      <td>0.0000</td>\n",
              "      <td>0.0000</td>\n",
              "      <td>0.0000</td>\n",
              "      <td>0.0000</td>\n",
              "      <td>0.0000</td>\n",
              "      <td>0.0000</td>\n",
              "      <td>0.0000</td>\n",
              "      <td>0.0000</td>\n",
              "      <td>0.0399</td>\n",
              "      <td>...</td>\n",
              "      <td>0.1864</td>\n",
              "      <td>0.1870</td>\n",
              "      <td>0.1874</td>\n",
              "      <td>0.1878</td>\n",
              "      <td>0.1880</td>\n",
              "      <td>0.1882</td>\n",
              "      <td>0.1883</td>\n",
              "      <td>0.1883</td>\n",
              "      <td>0.1883</td>\n",
              "      <td>0.1881</td>\n",
              "    </tr>\n",
              "  </tbody>\n",
              "</table>\n",
              "<p>5 rows × 38 columns</p>\n",
              "</div>\n",
              "    <div class=\"colab-df-buttons\">\n",
              "\n",
              "  <div class=\"colab-df-container\">\n",
              "    <button class=\"colab-df-convert\" onclick=\"convertToInteractive('df-33f04515-0b4f-49b9-9e54-08b9abd930f9')\"\n",
              "            title=\"Convert this dataframe to an interactive table.\"\n",
              "            style=\"display:none;\">\n",
              "\n",
              "  <svg xmlns=\"http://www.w3.org/2000/svg\" height=\"24px\" viewBox=\"0 -960 960 960\">\n",
              "    <path d=\"M120-120v-720h720v720H120Zm60-500h600v-160H180v160Zm220 220h160v-160H400v160Zm0 220h160v-160H400v160ZM180-400h160v-160H180v160Zm440 0h160v-160H620v160ZM180-180h160v-160H180v160Zm440 0h160v-160H620v160Z\"/>\n",
              "  </svg>\n",
              "    </button>\n",
              "\n",
              "  <style>\n",
              "    .colab-df-container {\n",
              "      display:flex;\n",
              "      gap: 12px;\n",
              "    }\n",
              "\n",
              "    .colab-df-convert {\n",
              "      background-color: #E8F0FE;\n",
              "      border: none;\n",
              "      border-radius: 50%;\n",
              "      cursor: pointer;\n",
              "      display: none;\n",
              "      fill: #1967D2;\n",
              "      height: 32px;\n",
              "      padding: 0 0 0 0;\n",
              "      width: 32px;\n",
              "    }\n",
              "\n",
              "    .colab-df-convert:hover {\n",
              "      background-color: #E2EBFA;\n",
              "      box-shadow: 0px 1px 2px rgba(60, 64, 67, 0.3), 0px 1px 3px 1px rgba(60, 64, 67, 0.15);\n",
              "      fill: #174EA6;\n",
              "    }\n",
              "\n",
              "    .colab-df-buttons div {\n",
              "      margin-bottom: 4px;\n",
              "    }\n",
              "\n",
              "    [theme=dark] .colab-df-convert {\n",
              "      background-color: #3B4455;\n",
              "      fill: #D2E3FC;\n",
              "    }\n",
              "\n",
              "    [theme=dark] .colab-df-convert:hover {\n",
              "      background-color: #434B5C;\n",
              "      box-shadow: 0px 1px 3px 1px rgba(0, 0, 0, 0.15);\n",
              "      filter: drop-shadow(0px 1px 2px rgba(0, 0, 0, 0.3));\n",
              "      fill: #FFFFFF;\n",
              "    }\n",
              "  </style>\n",
              "\n",
              "    <script>\n",
              "      const buttonEl =\n",
              "        document.querySelector('#df-33f04515-0b4f-49b9-9e54-08b9abd930f9 button.colab-df-convert');\n",
              "      buttonEl.style.display =\n",
              "        google.colab.kernel.accessAllowed ? 'block' : 'none';\n",
              "\n",
              "      async function convertToInteractive(key) {\n",
              "        const element = document.querySelector('#df-33f04515-0b4f-49b9-9e54-08b9abd930f9');\n",
              "        const dataTable =\n",
              "          await google.colab.kernel.invokeFunction('convertToInteractive',\n",
              "                                                    [key], {});\n",
              "        if (!dataTable) return;\n",
              "\n",
              "        const docLinkHtml = 'Like what you see? Visit the ' +\n",
              "          '<a target=\"_blank\" href=https://colab.research.google.com/notebooks/data_table.ipynb>data table notebook</a>'\n",
              "          + ' to learn more about interactive tables.';\n",
              "        element.innerHTML = '';\n",
              "        dataTable['output_type'] = 'display_data';\n",
              "        await google.colab.output.renderOutput(dataTable, element);\n",
              "        const docLink = document.createElement('div');\n",
              "        docLink.innerHTML = docLinkHtml;\n",
              "        element.appendChild(docLink);\n",
              "      }\n",
              "    </script>\n",
              "  </div>\n",
              "\n",
              "\n",
              "<div id=\"df-aad36860-b5b4-4645-be5f-5e6884e1cc02\">\n",
              "  <button class=\"colab-df-quickchart\" onclick=\"quickchart('df-aad36860-b5b4-4645-be5f-5e6884e1cc02')\"\n",
              "            title=\"Suggest charts\"\n",
              "            style=\"display:none;\">\n",
              "\n",
              "<svg xmlns=\"http://www.w3.org/2000/svg\" height=\"24px\"viewBox=\"0 0 24 24\"\n",
              "     width=\"24px\">\n",
              "    <g>\n",
              "        <path d=\"M19 3H5c-1.1 0-2 .9-2 2v14c0 1.1.9 2 2 2h14c1.1 0 2-.9 2-2V5c0-1.1-.9-2-2-2zM9 17H7v-7h2v7zm4 0h-2V7h2v10zm4 0h-2v-4h2v4z\"/>\n",
              "    </g>\n",
              "</svg>\n",
              "  </button>\n",
              "\n",
              "<style>\n",
              "  .colab-df-quickchart {\n",
              "      --bg-color: #E8F0FE;\n",
              "      --fill-color: #1967D2;\n",
              "      --hover-bg-color: #E2EBFA;\n",
              "      --hover-fill-color: #174EA6;\n",
              "      --disabled-fill-color: #AAA;\n",
              "      --disabled-bg-color: #DDD;\n",
              "  }\n",
              "\n",
              "  [theme=dark] .colab-df-quickchart {\n",
              "      --bg-color: #3B4455;\n",
              "      --fill-color: #D2E3FC;\n",
              "      --hover-bg-color: #434B5C;\n",
              "      --hover-fill-color: #FFFFFF;\n",
              "      --disabled-bg-color: #3B4455;\n",
              "      --disabled-fill-color: #666;\n",
              "  }\n",
              "\n",
              "  .colab-df-quickchart {\n",
              "    background-color: var(--bg-color);\n",
              "    border: none;\n",
              "    border-radius: 50%;\n",
              "    cursor: pointer;\n",
              "    display: none;\n",
              "    fill: var(--fill-color);\n",
              "    height: 32px;\n",
              "    padding: 0;\n",
              "    width: 32px;\n",
              "  }\n",
              "\n",
              "  .colab-df-quickchart:hover {\n",
              "    background-color: var(--hover-bg-color);\n",
              "    box-shadow: 0 1px 2px rgba(60, 64, 67, 0.3), 0 1px 3px 1px rgba(60, 64, 67, 0.15);\n",
              "    fill: var(--button-hover-fill-color);\n",
              "  }\n",
              "\n",
              "  .colab-df-quickchart-complete:disabled,\n",
              "  .colab-df-quickchart-complete:disabled:hover {\n",
              "    background-color: var(--disabled-bg-color);\n",
              "    fill: var(--disabled-fill-color);\n",
              "    box-shadow: none;\n",
              "  }\n",
              "\n",
              "  .colab-df-spinner {\n",
              "    border: 2px solid var(--fill-color);\n",
              "    border-color: transparent;\n",
              "    border-bottom-color: var(--fill-color);\n",
              "    animation:\n",
              "      spin 1s steps(1) infinite;\n",
              "  }\n",
              "\n",
              "  @keyframes spin {\n",
              "    0% {\n",
              "      border-color: transparent;\n",
              "      border-bottom-color: var(--fill-color);\n",
              "      border-left-color: var(--fill-color);\n",
              "    }\n",
              "    20% {\n",
              "      border-color: transparent;\n",
              "      border-left-color: var(--fill-color);\n",
              "      border-top-color: var(--fill-color);\n",
              "    }\n",
              "    30% {\n",
              "      border-color: transparent;\n",
              "      border-left-color: var(--fill-color);\n",
              "      border-top-color: var(--fill-color);\n",
              "      border-right-color: var(--fill-color);\n",
              "    }\n",
              "    40% {\n",
              "      border-color: transparent;\n",
              "      border-right-color: var(--fill-color);\n",
              "      border-top-color: var(--fill-color);\n",
              "    }\n",
              "    60% {\n",
              "      border-color: transparent;\n",
              "      border-right-color: var(--fill-color);\n",
              "    }\n",
              "    80% {\n",
              "      border-color: transparent;\n",
              "      border-right-color: var(--fill-color);\n",
              "      border-bottom-color: var(--fill-color);\n",
              "    }\n",
              "    90% {\n",
              "      border-color: transparent;\n",
              "      border-bottom-color: var(--fill-color);\n",
              "    }\n",
              "  }\n",
              "</style>\n",
              "\n",
              "  <script>\n",
              "    async function quickchart(key) {\n",
              "      const quickchartButtonEl =\n",
              "        document.querySelector('#' + key + ' button');\n",
              "      quickchartButtonEl.disabled = true;  // To prevent multiple clicks.\n",
              "      quickchartButtonEl.classList.add('colab-df-spinner');\n",
              "      try {\n",
              "        const charts = await google.colab.kernel.invokeFunction(\n",
              "            'suggestCharts', [key], {});\n",
              "      } catch (error) {\n",
              "        console.error('Error during call to suggestCharts:', error);\n",
              "      }\n",
              "      quickchartButtonEl.classList.remove('colab-df-spinner');\n",
              "      quickchartButtonEl.classList.add('colab-df-quickchart-complete');\n",
              "    }\n",
              "    (() => {\n",
              "      let quickchartButtonEl =\n",
              "        document.querySelector('#df-aad36860-b5b4-4645-be5f-5e6884e1cc02 button');\n",
              "      quickchartButtonEl.style.display =\n",
              "        google.colab.kernel.accessAllowed ? 'block' : 'none';\n",
              "    })();\n",
              "  </script>\n",
              "</div>\n",
              "\n",
              "    </div>\n",
              "  </div>\n"
            ],
            "application/vnd.google.colaboratory.intrinsic+json": {
              "type": "dataframe",
              "variable_name": "df"
            }
          },
          "metadata": {},
          "execution_count": 77
        }
      ]
    },
    {
      "cell_type": "markdown",
      "source": [
        "### Tabela com os valores de W"
      ],
      "metadata": {
        "id": "4dRvAJ0kZcKo"
      }
    },
    {
      "cell_type": "code",
      "source": [
        "Ws = pd.read_excel('Sw2.xlsx')\n",
        "Ws.head(5)"
      ],
      "metadata": {
        "id": "bwt1CZpzZQpd",
        "colab": {
          "base_uri": "https://localhost:8080/",
          "height": 206
        },
        "outputId": "2b85e840-f956-467e-a81c-d02d6f4493ed"
      },
      "execution_count": null,
      "outputs": [
        {
          "output_type": "execute_result",
          "data": {
            "text/plain": [
              "   n \\ p   0.01   0.02   0.05    0.1    0.5    0.9   0.95   0.98   0.99\n",
              "0      3  0.753  0.756  0.767  0.789  0.959  0.998  0.999  1.000  1.000\n",
              "1      4  0.687  0.707  0.748  0.792  0.935  0.987  0.992  0.996  0.997\n",
              "2      5  0.686  0.715  0.762  0.806  0.927  0.979  0.986  0.991  0.993\n",
              "3      6  0.713  0.743  0.788  0.826  0.927  0.974  0.981  0.986  0.989\n",
              "4      7  0.730  0.760  0.803  0.838  0.928  0.972  0.979  0.985  0.988"
            ],
            "text/html": [
              "\n",
              "  <div id=\"df-60ba9d09-870a-4e75-9449-4f9e977c28c6\" class=\"colab-df-container\">\n",
              "    <div>\n",
              "<style scoped>\n",
              "    .dataframe tbody tr th:only-of-type {\n",
              "        vertical-align: middle;\n",
              "    }\n",
              "\n",
              "    .dataframe tbody tr th {\n",
              "        vertical-align: top;\n",
              "    }\n",
              "\n",
              "    .dataframe thead th {\n",
              "        text-align: right;\n",
              "    }\n",
              "</style>\n",
              "<table border=\"1\" class=\"dataframe\">\n",
              "  <thead>\n",
              "    <tr style=\"text-align: right;\">\n",
              "      <th></th>\n",
              "      <th>n \\ p</th>\n",
              "      <th>0.01</th>\n",
              "      <th>0.02</th>\n",
              "      <th>0.05</th>\n",
              "      <th>0.1</th>\n",
              "      <th>0.5</th>\n",
              "      <th>0.9</th>\n",
              "      <th>0.95</th>\n",
              "      <th>0.98</th>\n",
              "      <th>0.99</th>\n",
              "    </tr>\n",
              "  </thead>\n",
              "  <tbody>\n",
              "    <tr>\n",
              "      <th>0</th>\n",
              "      <td>3</td>\n",
              "      <td>0.753</td>\n",
              "      <td>0.756</td>\n",
              "      <td>0.767</td>\n",
              "      <td>0.789</td>\n",
              "      <td>0.959</td>\n",
              "      <td>0.998</td>\n",
              "      <td>0.999</td>\n",
              "      <td>1.000</td>\n",
              "      <td>1.000</td>\n",
              "    </tr>\n",
              "    <tr>\n",
              "      <th>1</th>\n",
              "      <td>4</td>\n",
              "      <td>0.687</td>\n",
              "      <td>0.707</td>\n",
              "      <td>0.748</td>\n",
              "      <td>0.792</td>\n",
              "      <td>0.935</td>\n",
              "      <td>0.987</td>\n",
              "      <td>0.992</td>\n",
              "      <td>0.996</td>\n",
              "      <td>0.997</td>\n",
              "    </tr>\n",
              "    <tr>\n",
              "      <th>2</th>\n",
              "      <td>5</td>\n",
              "      <td>0.686</td>\n",
              "      <td>0.715</td>\n",
              "      <td>0.762</td>\n",
              "      <td>0.806</td>\n",
              "      <td>0.927</td>\n",
              "      <td>0.979</td>\n",
              "      <td>0.986</td>\n",
              "      <td>0.991</td>\n",
              "      <td>0.993</td>\n",
              "    </tr>\n",
              "    <tr>\n",
              "      <th>3</th>\n",
              "      <td>6</td>\n",
              "      <td>0.713</td>\n",
              "      <td>0.743</td>\n",
              "      <td>0.788</td>\n",
              "      <td>0.826</td>\n",
              "      <td>0.927</td>\n",
              "      <td>0.974</td>\n",
              "      <td>0.981</td>\n",
              "      <td>0.986</td>\n",
              "      <td>0.989</td>\n",
              "    </tr>\n",
              "    <tr>\n",
              "      <th>4</th>\n",
              "      <td>7</td>\n",
              "      <td>0.730</td>\n",
              "      <td>0.760</td>\n",
              "      <td>0.803</td>\n",
              "      <td>0.838</td>\n",
              "      <td>0.928</td>\n",
              "      <td>0.972</td>\n",
              "      <td>0.979</td>\n",
              "      <td>0.985</td>\n",
              "      <td>0.988</td>\n",
              "    </tr>\n",
              "  </tbody>\n",
              "</table>\n",
              "</div>\n",
              "    <div class=\"colab-df-buttons\">\n",
              "\n",
              "  <div class=\"colab-df-container\">\n",
              "    <button class=\"colab-df-convert\" onclick=\"convertToInteractive('df-60ba9d09-870a-4e75-9449-4f9e977c28c6')\"\n",
              "            title=\"Convert this dataframe to an interactive table.\"\n",
              "            style=\"display:none;\">\n",
              "\n",
              "  <svg xmlns=\"http://www.w3.org/2000/svg\" height=\"24px\" viewBox=\"0 -960 960 960\">\n",
              "    <path d=\"M120-120v-720h720v720H120Zm60-500h600v-160H180v160Zm220 220h160v-160H400v160Zm0 220h160v-160H400v160ZM180-400h160v-160H180v160Zm440 0h160v-160H620v160ZM180-180h160v-160H180v160Zm440 0h160v-160H620v160Z\"/>\n",
              "  </svg>\n",
              "    </button>\n",
              "\n",
              "  <style>\n",
              "    .colab-df-container {\n",
              "      display:flex;\n",
              "      gap: 12px;\n",
              "    }\n",
              "\n",
              "    .colab-df-convert {\n",
              "      background-color: #E8F0FE;\n",
              "      border: none;\n",
              "      border-radius: 50%;\n",
              "      cursor: pointer;\n",
              "      display: none;\n",
              "      fill: #1967D2;\n",
              "      height: 32px;\n",
              "      padding: 0 0 0 0;\n",
              "      width: 32px;\n",
              "    }\n",
              "\n",
              "    .colab-df-convert:hover {\n",
              "      background-color: #E2EBFA;\n",
              "      box-shadow: 0px 1px 2px rgba(60, 64, 67, 0.3), 0px 1px 3px 1px rgba(60, 64, 67, 0.15);\n",
              "      fill: #174EA6;\n",
              "    }\n",
              "\n",
              "    .colab-df-buttons div {\n",
              "      margin-bottom: 4px;\n",
              "    }\n",
              "\n",
              "    [theme=dark] .colab-df-convert {\n",
              "      background-color: #3B4455;\n",
              "      fill: #D2E3FC;\n",
              "    }\n",
              "\n",
              "    [theme=dark] .colab-df-convert:hover {\n",
              "      background-color: #434B5C;\n",
              "      box-shadow: 0px 1px 3px 1px rgba(0, 0, 0, 0.15);\n",
              "      filter: drop-shadow(0px 1px 2px rgba(0, 0, 0, 0.3));\n",
              "      fill: #FFFFFF;\n",
              "    }\n",
              "  </style>\n",
              "\n",
              "    <script>\n",
              "      const buttonEl =\n",
              "        document.querySelector('#df-60ba9d09-870a-4e75-9449-4f9e977c28c6 button.colab-df-convert');\n",
              "      buttonEl.style.display =\n",
              "        google.colab.kernel.accessAllowed ? 'block' : 'none';\n",
              "\n",
              "      async function convertToInteractive(key) {\n",
              "        const element = document.querySelector('#df-60ba9d09-870a-4e75-9449-4f9e977c28c6');\n",
              "        const dataTable =\n",
              "          await google.colab.kernel.invokeFunction('convertToInteractive',\n",
              "                                                    [key], {});\n",
              "        if (!dataTable) return;\n",
              "\n",
              "        const docLinkHtml = 'Like what you see? Visit the ' +\n",
              "          '<a target=\"_blank\" href=https://colab.research.google.com/notebooks/data_table.ipynb>data table notebook</a>'\n",
              "          + ' to learn more about interactive tables.';\n",
              "        element.innerHTML = '';\n",
              "        dataTable['output_type'] = 'display_data';\n",
              "        await google.colab.output.renderOutput(dataTable, element);\n",
              "        const docLink = document.createElement('div');\n",
              "        docLink.innerHTML = docLinkHtml;\n",
              "        element.appendChild(docLink);\n",
              "      }\n",
              "    </script>\n",
              "  </div>\n",
              "\n",
              "\n",
              "<div id=\"df-3cb12dda-bd5a-486c-af0c-f72ca6bbd681\">\n",
              "  <button class=\"colab-df-quickchart\" onclick=\"quickchart('df-3cb12dda-bd5a-486c-af0c-f72ca6bbd681')\"\n",
              "            title=\"Suggest charts\"\n",
              "            style=\"display:none;\">\n",
              "\n",
              "<svg xmlns=\"http://www.w3.org/2000/svg\" height=\"24px\"viewBox=\"0 0 24 24\"\n",
              "     width=\"24px\">\n",
              "    <g>\n",
              "        <path d=\"M19 3H5c-1.1 0-2 .9-2 2v14c0 1.1.9 2 2 2h14c1.1 0 2-.9 2-2V5c0-1.1-.9-2-2-2zM9 17H7v-7h2v7zm4 0h-2V7h2v10zm4 0h-2v-4h2v4z\"/>\n",
              "    </g>\n",
              "</svg>\n",
              "  </button>\n",
              "\n",
              "<style>\n",
              "  .colab-df-quickchart {\n",
              "      --bg-color: #E8F0FE;\n",
              "      --fill-color: #1967D2;\n",
              "      --hover-bg-color: #E2EBFA;\n",
              "      --hover-fill-color: #174EA6;\n",
              "      --disabled-fill-color: #AAA;\n",
              "      --disabled-bg-color: #DDD;\n",
              "  }\n",
              "\n",
              "  [theme=dark] .colab-df-quickchart {\n",
              "      --bg-color: #3B4455;\n",
              "      --fill-color: #D2E3FC;\n",
              "      --hover-bg-color: #434B5C;\n",
              "      --hover-fill-color: #FFFFFF;\n",
              "      --disabled-bg-color: #3B4455;\n",
              "      --disabled-fill-color: #666;\n",
              "  }\n",
              "\n",
              "  .colab-df-quickchart {\n",
              "    background-color: var(--bg-color);\n",
              "    border: none;\n",
              "    border-radius: 50%;\n",
              "    cursor: pointer;\n",
              "    display: none;\n",
              "    fill: var(--fill-color);\n",
              "    height: 32px;\n",
              "    padding: 0;\n",
              "    width: 32px;\n",
              "  }\n",
              "\n",
              "  .colab-df-quickchart:hover {\n",
              "    background-color: var(--hover-bg-color);\n",
              "    box-shadow: 0 1px 2px rgba(60, 64, 67, 0.3), 0 1px 3px 1px rgba(60, 64, 67, 0.15);\n",
              "    fill: var(--button-hover-fill-color);\n",
              "  }\n",
              "\n",
              "  .colab-df-quickchart-complete:disabled,\n",
              "  .colab-df-quickchart-complete:disabled:hover {\n",
              "    background-color: var(--disabled-bg-color);\n",
              "    fill: var(--disabled-fill-color);\n",
              "    box-shadow: none;\n",
              "  }\n",
              "\n",
              "  .colab-df-spinner {\n",
              "    border: 2px solid var(--fill-color);\n",
              "    border-color: transparent;\n",
              "    border-bottom-color: var(--fill-color);\n",
              "    animation:\n",
              "      spin 1s steps(1) infinite;\n",
              "  }\n",
              "\n",
              "  @keyframes spin {\n",
              "    0% {\n",
              "      border-color: transparent;\n",
              "      border-bottom-color: var(--fill-color);\n",
              "      border-left-color: var(--fill-color);\n",
              "    }\n",
              "    20% {\n",
              "      border-color: transparent;\n",
              "      border-left-color: var(--fill-color);\n",
              "      border-top-color: var(--fill-color);\n",
              "    }\n",
              "    30% {\n",
              "      border-color: transparent;\n",
              "      border-left-color: var(--fill-color);\n",
              "      border-top-color: var(--fill-color);\n",
              "      border-right-color: var(--fill-color);\n",
              "    }\n",
              "    40% {\n",
              "      border-color: transparent;\n",
              "      border-right-color: var(--fill-color);\n",
              "      border-top-color: var(--fill-color);\n",
              "    }\n",
              "    60% {\n",
              "      border-color: transparent;\n",
              "      border-right-color: var(--fill-color);\n",
              "    }\n",
              "    80% {\n",
              "      border-color: transparent;\n",
              "      border-right-color: var(--fill-color);\n",
              "      border-bottom-color: var(--fill-color);\n",
              "    }\n",
              "    90% {\n",
              "      border-color: transparent;\n",
              "      border-bottom-color: var(--fill-color);\n",
              "    }\n",
              "  }\n",
              "</style>\n",
              "\n",
              "  <script>\n",
              "    async function quickchart(key) {\n",
              "      const quickchartButtonEl =\n",
              "        document.querySelector('#' + key + ' button');\n",
              "      quickchartButtonEl.disabled = true;  // To prevent multiple clicks.\n",
              "      quickchartButtonEl.classList.add('colab-df-spinner');\n",
              "      try {\n",
              "        const charts = await google.colab.kernel.invokeFunction(\n",
              "            'suggestCharts', [key], {});\n",
              "      } catch (error) {\n",
              "        console.error('Error during call to suggestCharts:', error);\n",
              "      }\n",
              "      quickchartButtonEl.classList.remove('colab-df-spinner');\n",
              "      quickchartButtonEl.classList.add('colab-df-quickchart-complete');\n",
              "    }\n",
              "    (() => {\n",
              "      let quickchartButtonEl =\n",
              "        document.querySelector('#df-3cb12dda-bd5a-486c-af0c-f72ca6bbd681 button');\n",
              "      quickchartButtonEl.style.display =\n",
              "        google.colab.kernel.accessAllowed ? 'block' : 'none';\n",
              "    })();\n",
              "  </script>\n",
              "</div>\n",
              "\n",
              "    </div>\n",
              "  </div>\n"
            ],
            "application/vnd.google.colaboratory.intrinsic+json": {
              "type": "dataframe",
              "variable_name": "Ws",
              "summary": "{\n  \"name\": \"Ws\",\n  \"rows\": 48,\n  \"fields\": [\n    {\n      \"column\": \"n \\\\ p\",\n      \"properties\": {\n        \"dtype\": \"number\",\n        \"std\": 14,\n        \"min\": 3,\n        \"max\": 50,\n        \"num_unique_values\": 48,\n        \"samples\": [\n          30,\n          43,\n          29\n        ],\n        \"semantic_type\": \"\",\n        \"description\": \"\"\n      }\n    },\n    {\n      \"column\": 0.01,\n      \"properties\": {\n        \"dtype\": \"number\",\n        \"std\": 0.06957293420403417,\n        \"min\": 0.686,\n        \"max\": 0.93,\n        \"num_unique_values\": 47,\n        \"samples\": [\n          0.9,\n          0.922,\n          0.898\n        ],\n        \"semantic_type\": \"\",\n        \"description\": \"\"\n      }\n    },\n    {\n      \"column\": 0.02,\n      \"properties\": {\n        \"dtype\": \"number\",\n        \"std\": 0.06392027392337832,\n        \"min\": 0.707,\n        \"max\": 0.939,\n        \"num_unique_values\": 48,\n        \"samples\": [\n          0.912,\n          0.932,\n          0.91\n        ],\n        \"semantic_type\": \"\",\n        \"description\": \"\"\n      }\n    },\n    {\n      \"column\": 0.05,\n      \"properties\": {\n        \"dtype\": \"number\",\n        \"std\": 0.05446678993362614,\n        \"min\": 0.748,\n        \"max\": 0.947,\n        \"num_unique_values\": 45,\n        \"samples\": [\n          0.942,\n          0.924,\n          0.926\n        ],\n        \"semantic_type\": \"\",\n        \"description\": \"\"\n      }\n    },\n    {\n      \"column\": 0.1,\n      \"properties\": {\n        \"dtype\": \"number\",\n        \"std\": 0.04524049212441851,\n        \"min\": 0.789,\n        \"max\": 0.955,\n        \"num_unique_values\": 44,\n        \"samples\": [\n          0.949,\n          0.935,\n          0.936\n        ],\n        \"semantic_type\": \"\",\n        \"description\": \"\"\n      }\n    },\n    {\n      \"column\": 0.5,\n      \"properties\": {\n        \"dtype\": \"number\",\n        \"std\": 0.01452326026250586,\n        \"min\": 0.927,\n        \"max\": 0.974,\n        \"num_unique_values\": 30,\n        \"samples\": [\n          0.972,\n          0.96,\n          0.968\n        ],\n        \"semantic_type\": \"\",\n        \"description\": \"\"\n      }\n    },\n    {\n      \"column\": 0.9,\n      \"properties\": {\n        \"dtype\": \"number\",\n        \"std\": 0.005179362689785344,\n        \"min\": 0.972,\n        \"max\": 0.998,\n        \"num_unique_values\": 16,\n        \"samples\": [\n          0.998,\n          0.987,\n          0.973\n        ],\n        \"semantic_type\": \"\",\n        \"description\": \"\"\n      }\n    },\n    {\n      \"column\": 0.95,\n      \"properties\": {\n        \"dtype\": \"number\",\n        \"std\": 0.00399267947144548,\n        \"min\": 0.978,\n        \"max\": 0.999,\n        \"num_unique_values\": 13,\n        \"samples\": [\n          0.987,\n          0.984,\n          0.999\n        ],\n        \"semantic_type\": \"\",\n        \"description\": \"\"\n      }\n    },\n    {\n      \"column\": 0.98,\n      \"properties\": {\n        \"dtype\": \"number\",\n        \"std\": 0.003068297631360091,\n        \"min\": 0.983,\n        \"max\": 1.0,\n        \"num_unique_values\": 11,\n        \"samples\": [\n          0.984,\n          1.0,\n          0.989\n        ],\n        \"semantic_type\": \"\",\n        \"description\": \"\"\n      }\n    },\n    {\n      \"column\": 0.99,\n      \"properties\": {\n        \"dtype\": \"number\",\n        \"std\": 0.0025990144067559212,\n        \"min\": 0.986,\n        \"max\": 1.0,\n        \"num_unique_values\": 9,\n        \"samples\": [\n          0.99,\n          0.997,\n          0.987\n        ],\n        \"semantic_type\": \"\",\n        \"description\": \"\"\n      }\n    }\n  ]\n}"
            }
          },
          "metadata": {},
          "execution_count": 43
        }
      ]
    },
    {
      "cell_type": "markdown",
      "source": [
        "### Gerando tabela importante para obtermos o valor de B, através da função ```processar_amostra```"
      ],
      "metadata": {
        "id": "u_svggOmN2XF"
      }
    },
    {
      "cell_type": "code",
      "source": [
        "def processar_amostra(amostra, df):\n",
        "    n = len(amostra)\n",
        "\n",
        "    # Ordenar a amostra\n",
        "    amostra_ordenada = sorted(amostra)\n",
        "    meio = n // 2\n",
        "\n",
        "    colunas = {\n",
        "        'i': list(range(1, meio + 1)),  # Pegar até a metade dos valores maiores\n",
        "        'n-i-1': list(range(n-1, meio-1, -1)),  # Iniciar de n-1 e ir até a metade dos valores menores\n",
        "        'a_i,n': [df.loc[i, n] for i in range(meio)],  # Pegar até a metade dos valores de a\n",
        "        'X_(n-i-1)': [amostra_ordenada[n-i-1] for i in range(meio)],  # Pegar até a metade dos valores maiores\n",
        "        'X_i': [amostra_ordenada[i] for i in range(meio)],  # Pegar até a metade dos valores menores\n",
        "        'a_i,n(X_(n-i-1)-X_i)': [df.iloc[i, n] * (amostra_ordenada[n-i-1] - amostra_ordenada[i]) for i in range(meio)]\n",
        "    }\n",
        "    tabela = pd.DataFrame(colunas)\n",
        "    return tabela\n",
        "\n",
        "\n",
        "tabela = processar_amostra(amostra,df)\n",
        "tabela"
      ],
      "metadata": {
        "id": "sOR6dwu8awy_",
        "colab": {
          "base_uri": "https://localhost:8080/",
          "height": 520
        },
        "outputId": "10914101-5bb1-46c1-e8b4-eeb6ed8835f3"
      },
      "execution_count": null,
      "outputs": [
        {
          "output_type": "execute_result",
          "data": {
            "text/plain": [
              "     i  n-i-1   a_i,n  X_(n-i-1)       X_i  a_i,n(X_(n-i-1)-X_i)\n",
              "0    1     29  0.4254  14.085589  6.270457              3.297986\n",
              "1    2     28  0.2944  13.886218  6.302632              2.215165\n",
              "2    3     27  0.2487  12.096359  6.875056              1.292273\n",
              "3    4     26  0.2148  11.754090  7.470006              0.918936\n",
              "4    5     25  0.1870  11.529435  8.036039              0.654662\n",
              "5    6     24  0.1630  11.523461  8.235361              0.539577\n",
              "6    7     23  0.1415  11.432026  8.274027              0.452541\n",
              "7    8     22  0.1219  10.798561  8.380151              0.300608\n",
              "8    9     21  0.1036  10.638537  8.580241              0.219414\n",
              "9   10     20  0.0862  10.627136  8.599159              0.182315\n",
              "10  11     19  0.0697  10.618297  8.625067              0.147300\n",
              "11  12     18  0.0537  10.444226  9.005821              0.084147\n",
              "12  13     17  0.0381   9.875257  9.178689              0.030301\n",
              "13  14     16  0.0227   9.737292  9.418376              0.009217\n",
              "14  15     15  0.0076   9.694079  9.650611              0.000626"
            ],
            "text/html": [
              "\n",
              "  <div id=\"df-b5959635-d310-484e-a99f-72cd2289483d\" class=\"colab-df-container\">\n",
              "    <div>\n",
              "<style scoped>\n",
              "    .dataframe tbody tr th:only-of-type {\n",
              "        vertical-align: middle;\n",
              "    }\n",
              "\n",
              "    .dataframe tbody tr th {\n",
              "        vertical-align: top;\n",
              "    }\n",
              "\n",
              "    .dataframe thead th {\n",
              "        text-align: right;\n",
              "    }\n",
              "</style>\n",
              "<table border=\"1\" class=\"dataframe\">\n",
              "  <thead>\n",
              "    <tr style=\"text-align: right;\">\n",
              "      <th></th>\n",
              "      <th>i</th>\n",
              "      <th>n-i-1</th>\n",
              "      <th>a_i,n</th>\n",
              "      <th>X_(n-i-1)</th>\n",
              "      <th>X_i</th>\n",
              "      <th>a_i,n(X_(n-i-1)-X_i)</th>\n",
              "    </tr>\n",
              "  </thead>\n",
              "  <tbody>\n",
              "    <tr>\n",
              "      <th>0</th>\n",
              "      <td>1</td>\n",
              "      <td>29</td>\n",
              "      <td>0.4254</td>\n",
              "      <td>14.085589</td>\n",
              "      <td>6.270457</td>\n",
              "      <td>3.297986</td>\n",
              "    </tr>\n",
              "    <tr>\n",
              "      <th>1</th>\n",
              "      <td>2</td>\n",
              "      <td>28</td>\n",
              "      <td>0.2944</td>\n",
              "      <td>13.886218</td>\n",
              "      <td>6.302632</td>\n",
              "      <td>2.215165</td>\n",
              "    </tr>\n",
              "    <tr>\n",
              "      <th>2</th>\n",
              "      <td>3</td>\n",
              "      <td>27</td>\n",
              "      <td>0.2487</td>\n",
              "      <td>12.096359</td>\n",
              "      <td>6.875056</td>\n",
              "      <td>1.292273</td>\n",
              "    </tr>\n",
              "    <tr>\n",
              "      <th>3</th>\n",
              "      <td>4</td>\n",
              "      <td>26</td>\n",
              "      <td>0.2148</td>\n",
              "      <td>11.754090</td>\n",
              "      <td>7.470006</td>\n",
              "      <td>0.918936</td>\n",
              "    </tr>\n",
              "    <tr>\n",
              "      <th>4</th>\n",
              "      <td>5</td>\n",
              "      <td>25</td>\n",
              "      <td>0.1870</td>\n",
              "      <td>11.529435</td>\n",
              "      <td>8.036039</td>\n",
              "      <td>0.654662</td>\n",
              "    </tr>\n",
              "    <tr>\n",
              "      <th>5</th>\n",
              "      <td>6</td>\n",
              "      <td>24</td>\n",
              "      <td>0.1630</td>\n",
              "      <td>11.523461</td>\n",
              "      <td>8.235361</td>\n",
              "      <td>0.539577</td>\n",
              "    </tr>\n",
              "    <tr>\n",
              "      <th>6</th>\n",
              "      <td>7</td>\n",
              "      <td>23</td>\n",
              "      <td>0.1415</td>\n",
              "      <td>11.432026</td>\n",
              "      <td>8.274027</td>\n",
              "      <td>0.452541</td>\n",
              "    </tr>\n",
              "    <tr>\n",
              "      <th>7</th>\n",
              "      <td>8</td>\n",
              "      <td>22</td>\n",
              "      <td>0.1219</td>\n",
              "      <td>10.798561</td>\n",
              "      <td>8.380151</td>\n",
              "      <td>0.300608</td>\n",
              "    </tr>\n",
              "    <tr>\n",
              "      <th>8</th>\n",
              "      <td>9</td>\n",
              "      <td>21</td>\n",
              "      <td>0.1036</td>\n",
              "      <td>10.638537</td>\n",
              "      <td>8.580241</td>\n",
              "      <td>0.219414</td>\n",
              "    </tr>\n",
              "    <tr>\n",
              "      <th>9</th>\n",
              "      <td>10</td>\n",
              "      <td>20</td>\n",
              "      <td>0.0862</td>\n",
              "      <td>10.627136</td>\n",
              "      <td>8.599159</td>\n",
              "      <td>0.182315</td>\n",
              "    </tr>\n",
              "    <tr>\n",
              "      <th>10</th>\n",
              "      <td>11</td>\n",
              "      <td>19</td>\n",
              "      <td>0.0697</td>\n",
              "      <td>10.618297</td>\n",
              "      <td>8.625067</td>\n",
              "      <td>0.147300</td>\n",
              "    </tr>\n",
              "    <tr>\n",
              "      <th>11</th>\n",
              "      <td>12</td>\n",
              "      <td>18</td>\n",
              "      <td>0.0537</td>\n",
              "      <td>10.444226</td>\n",
              "      <td>9.005821</td>\n",
              "      <td>0.084147</td>\n",
              "    </tr>\n",
              "    <tr>\n",
              "      <th>12</th>\n",
              "      <td>13</td>\n",
              "      <td>17</td>\n",
              "      <td>0.0381</td>\n",
              "      <td>9.875257</td>\n",
              "      <td>9.178689</td>\n",
              "      <td>0.030301</td>\n",
              "    </tr>\n",
              "    <tr>\n",
              "      <th>13</th>\n",
              "      <td>14</td>\n",
              "      <td>16</td>\n",
              "      <td>0.0227</td>\n",
              "      <td>9.737292</td>\n",
              "      <td>9.418376</td>\n",
              "      <td>0.009217</td>\n",
              "    </tr>\n",
              "    <tr>\n",
              "      <th>14</th>\n",
              "      <td>15</td>\n",
              "      <td>15</td>\n",
              "      <td>0.0076</td>\n",
              "      <td>9.694079</td>\n",
              "      <td>9.650611</td>\n",
              "      <td>0.000626</td>\n",
              "    </tr>\n",
              "  </tbody>\n",
              "</table>\n",
              "</div>\n",
              "    <div class=\"colab-df-buttons\">\n",
              "\n",
              "  <div class=\"colab-df-container\">\n",
              "    <button class=\"colab-df-convert\" onclick=\"convertToInteractive('df-b5959635-d310-484e-a99f-72cd2289483d')\"\n",
              "            title=\"Convert this dataframe to an interactive table.\"\n",
              "            style=\"display:none;\">\n",
              "\n",
              "  <svg xmlns=\"http://www.w3.org/2000/svg\" height=\"24px\" viewBox=\"0 -960 960 960\">\n",
              "    <path d=\"M120-120v-720h720v720H120Zm60-500h600v-160H180v160Zm220 220h160v-160H400v160Zm0 220h160v-160H400v160ZM180-400h160v-160H180v160Zm440 0h160v-160H620v160ZM180-180h160v-160H180v160Zm440 0h160v-160H620v160Z\"/>\n",
              "  </svg>\n",
              "    </button>\n",
              "\n",
              "  <style>\n",
              "    .colab-df-container {\n",
              "      display:flex;\n",
              "      gap: 12px;\n",
              "    }\n",
              "\n",
              "    .colab-df-convert {\n",
              "      background-color: #E8F0FE;\n",
              "      border: none;\n",
              "      border-radius: 50%;\n",
              "      cursor: pointer;\n",
              "      display: none;\n",
              "      fill: #1967D2;\n",
              "      height: 32px;\n",
              "      padding: 0 0 0 0;\n",
              "      width: 32px;\n",
              "    }\n",
              "\n",
              "    .colab-df-convert:hover {\n",
              "      background-color: #E2EBFA;\n",
              "      box-shadow: 0px 1px 2px rgba(60, 64, 67, 0.3), 0px 1px 3px 1px rgba(60, 64, 67, 0.15);\n",
              "      fill: #174EA6;\n",
              "    }\n",
              "\n",
              "    .colab-df-buttons div {\n",
              "      margin-bottom: 4px;\n",
              "    }\n",
              "\n",
              "    [theme=dark] .colab-df-convert {\n",
              "      background-color: #3B4455;\n",
              "      fill: #D2E3FC;\n",
              "    }\n",
              "\n",
              "    [theme=dark] .colab-df-convert:hover {\n",
              "      background-color: #434B5C;\n",
              "      box-shadow: 0px 1px 3px 1px rgba(0, 0, 0, 0.15);\n",
              "      filter: drop-shadow(0px 1px 2px rgba(0, 0, 0, 0.3));\n",
              "      fill: #FFFFFF;\n",
              "    }\n",
              "  </style>\n",
              "\n",
              "    <script>\n",
              "      const buttonEl =\n",
              "        document.querySelector('#df-b5959635-d310-484e-a99f-72cd2289483d button.colab-df-convert');\n",
              "      buttonEl.style.display =\n",
              "        google.colab.kernel.accessAllowed ? 'block' : 'none';\n",
              "\n",
              "      async function convertToInteractive(key) {\n",
              "        const element = document.querySelector('#df-b5959635-d310-484e-a99f-72cd2289483d');\n",
              "        const dataTable =\n",
              "          await google.colab.kernel.invokeFunction('convertToInteractive',\n",
              "                                                    [key], {});\n",
              "        if (!dataTable) return;\n",
              "\n",
              "        const docLinkHtml = 'Like what you see? Visit the ' +\n",
              "          '<a target=\"_blank\" href=https://colab.research.google.com/notebooks/data_table.ipynb>data table notebook</a>'\n",
              "          + ' to learn more about interactive tables.';\n",
              "        element.innerHTML = '';\n",
              "        dataTable['output_type'] = 'display_data';\n",
              "        await google.colab.output.renderOutput(dataTable, element);\n",
              "        const docLink = document.createElement('div');\n",
              "        docLink.innerHTML = docLinkHtml;\n",
              "        element.appendChild(docLink);\n",
              "      }\n",
              "    </script>\n",
              "  </div>\n",
              "\n",
              "\n",
              "<div id=\"df-68e8cb09-8dc4-4c01-b3d5-056b60ccac2f\">\n",
              "  <button class=\"colab-df-quickchart\" onclick=\"quickchart('df-68e8cb09-8dc4-4c01-b3d5-056b60ccac2f')\"\n",
              "            title=\"Suggest charts\"\n",
              "            style=\"display:none;\">\n",
              "\n",
              "<svg xmlns=\"http://www.w3.org/2000/svg\" height=\"24px\"viewBox=\"0 0 24 24\"\n",
              "     width=\"24px\">\n",
              "    <g>\n",
              "        <path d=\"M19 3H5c-1.1 0-2 .9-2 2v14c0 1.1.9 2 2 2h14c1.1 0 2-.9 2-2V5c0-1.1-.9-2-2-2zM9 17H7v-7h2v7zm4 0h-2V7h2v10zm4 0h-2v-4h2v4z\"/>\n",
              "    </g>\n",
              "</svg>\n",
              "  </button>\n",
              "\n",
              "<style>\n",
              "  .colab-df-quickchart {\n",
              "      --bg-color: #E8F0FE;\n",
              "      --fill-color: #1967D2;\n",
              "      --hover-bg-color: #E2EBFA;\n",
              "      --hover-fill-color: #174EA6;\n",
              "      --disabled-fill-color: #AAA;\n",
              "      --disabled-bg-color: #DDD;\n",
              "  }\n",
              "\n",
              "  [theme=dark] .colab-df-quickchart {\n",
              "      --bg-color: #3B4455;\n",
              "      --fill-color: #D2E3FC;\n",
              "      --hover-bg-color: #434B5C;\n",
              "      --hover-fill-color: #FFFFFF;\n",
              "      --disabled-bg-color: #3B4455;\n",
              "      --disabled-fill-color: #666;\n",
              "  }\n",
              "\n",
              "  .colab-df-quickchart {\n",
              "    background-color: var(--bg-color);\n",
              "    border: none;\n",
              "    border-radius: 50%;\n",
              "    cursor: pointer;\n",
              "    display: none;\n",
              "    fill: var(--fill-color);\n",
              "    height: 32px;\n",
              "    padding: 0;\n",
              "    width: 32px;\n",
              "  }\n",
              "\n",
              "  .colab-df-quickchart:hover {\n",
              "    background-color: var(--hover-bg-color);\n",
              "    box-shadow: 0 1px 2px rgba(60, 64, 67, 0.3), 0 1px 3px 1px rgba(60, 64, 67, 0.15);\n",
              "    fill: var(--button-hover-fill-color);\n",
              "  }\n",
              "\n",
              "  .colab-df-quickchart-complete:disabled,\n",
              "  .colab-df-quickchart-complete:disabled:hover {\n",
              "    background-color: var(--disabled-bg-color);\n",
              "    fill: var(--disabled-fill-color);\n",
              "    box-shadow: none;\n",
              "  }\n",
              "\n",
              "  .colab-df-spinner {\n",
              "    border: 2px solid var(--fill-color);\n",
              "    border-color: transparent;\n",
              "    border-bottom-color: var(--fill-color);\n",
              "    animation:\n",
              "      spin 1s steps(1) infinite;\n",
              "  }\n",
              "\n",
              "  @keyframes spin {\n",
              "    0% {\n",
              "      border-color: transparent;\n",
              "      border-bottom-color: var(--fill-color);\n",
              "      border-left-color: var(--fill-color);\n",
              "    }\n",
              "    20% {\n",
              "      border-color: transparent;\n",
              "      border-left-color: var(--fill-color);\n",
              "      border-top-color: var(--fill-color);\n",
              "    }\n",
              "    30% {\n",
              "      border-color: transparent;\n",
              "      border-left-color: var(--fill-color);\n",
              "      border-top-color: var(--fill-color);\n",
              "      border-right-color: var(--fill-color);\n",
              "    }\n",
              "    40% {\n",
              "      border-color: transparent;\n",
              "      border-right-color: var(--fill-color);\n",
              "      border-top-color: var(--fill-color);\n",
              "    }\n",
              "    60% {\n",
              "      border-color: transparent;\n",
              "      border-right-color: var(--fill-color);\n",
              "    }\n",
              "    80% {\n",
              "      border-color: transparent;\n",
              "      border-right-color: var(--fill-color);\n",
              "      border-bottom-color: var(--fill-color);\n",
              "    }\n",
              "    90% {\n",
              "      border-color: transparent;\n",
              "      border-bottom-color: var(--fill-color);\n",
              "    }\n",
              "  }\n",
              "</style>\n",
              "\n",
              "  <script>\n",
              "    async function quickchart(key) {\n",
              "      const quickchartButtonEl =\n",
              "        document.querySelector('#' + key + ' button');\n",
              "      quickchartButtonEl.disabled = true;  // To prevent multiple clicks.\n",
              "      quickchartButtonEl.classList.add('colab-df-spinner');\n",
              "      try {\n",
              "        const charts = await google.colab.kernel.invokeFunction(\n",
              "            'suggestCharts', [key], {});\n",
              "      } catch (error) {\n",
              "        console.error('Error during call to suggestCharts:', error);\n",
              "      }\n",
              "      quickchartButtonEl.classList.remove('colab-df-spinner');\n",
              "      quickchartButtonEl.classList.add('colab-df-quickchart-complete');\n",
              "    }\n",
              "    (() => {\n",
              "      let quickchartButtonEl =\n",
              "        document.querySelector('#df-68e8cb09-8dc4-4c01-b3d5-056b60ccac2f button');\n",
              "      quickchartButtonEl.style.display =\n",
              "        google.colab.kernel.accessAllowed ? 'block' : 'none';\n",
              "    })();\n",
              "  </script>\n",
              "</div>\n",
              "\n",
              "  <div id=\"id_0dd2957c-82bb-4a31-a5fc-52a40567dde4\">\n",
              "    <style>\n",
              "      .colab-df-generate {\n",
              "        background-color: #E8F0FE;\n",
              "        border: none;\n",
              "        border-radius: 50%;\n",
              "        cursor: pointer;\n",
              "        display: none;\n",
              "        fill: #1967D2;\n",
              "        height: 32px;\n",
              "        padding: 0 0 0 0;\n",
              "        width: 32px;\n",
              "      }\n",
              "\n",
              "      .colab-df-generate:hover {\n",
              "        background-color: #E2EBFA;\n",
              "        box-shadow: 0px 1px 2px rgba(60, 64, 67, 0.3), 0px 1px 3px 1px rgba(60, 64, 67, 0.15);\n",
              "        fill: #174EA6;\n",
              "      }\n",
              "\n",
              "      [theme=dark] .colab-df-generate {\n",
              "        background-color: #3B4455;\n",
              "        fill: #D2E3FC;\n",
              "      }\n",
              "\n",
              "      [theme=dark] .colab-df-generate:hover {\n",
              "        background-color: #434B5C;\n",
              "        box-shadow: 0px 1px 3px 1px rgba(0, 0, 0, 0.15);\n",
              "        filter: drop-shadow(0px 1px 2px rgba(0, 0, 0, 0.3));\n",
              "        fill: #FFFFFF;\n",
              "      }\n",
              "    </style>\n",
              "    <button class=\"colab-df-generate\" onclick=\"generateWithVariable('tabela')\"\n",
              "            title=\"Generate code using this dataframe.\"\n",
              "            style=\"display:none;\">\n",
              "\n",
              "  <svg xmlns=\"http://www.w3.org/2000/svg\" height=\"24px\"viewBox=\"0 0 24 24\"\n",
              "       width=\"24px\">\n",
              "    <path d=\"M7,19H8.4L18.45,9,17,7.55,7,17.6ZM5,21V16.75L18.45,3.32a2,2,0,0,1,2.83,0l1.4,1.43a1.91,1.91,0,0,1,.58,1.4,1.91,1.91,0,0,1-.58,1.4L9.25,21ZM18.45,9,17,7.55Zm-12,3A5.31,5.31,0,0,0,4.9,8.1,5.31,5.31,0,0,0,1,6.5,5.31,5.31,0,0,0,4.9,4.9,5.31,5.31,0,0,0,6.5,1,5.31,5.31,0,0,0,8.1,4.9,5.31,5.31,0,0,0,12,6.5,5.46,5.46,0,0,0,6.5,12Z\"/>\n",
              "  </svg>\n",
              "    </button>\n",
              "    <script>\n",
              "      (() => {\n",
              "      const buttonEl =\n",
              "        document.querySelector('#id_0dd2957c-82bb-4a31-a5fc-52a40567dde4 button.colab-df-generate');\n",
              "      buttonEl.style.display =\n",
              "        google.colab.kernel.accessAllowed ? 'block' : 'none';\n",
              "\n",
              "      buttonEl.onclick = () => {\n",
              "        google.colab.notebook.generateWithVariable('tabela');\n",
              "      }\n",
              "      })();\n",
              "    </script>\n",
              "  </div>\n",
              "\n",
              "    </div>\n",
              "  </div>\n"
            ],
            "application/vnd.google.colaboratory.intrinsic+json": {
              "type": "dataframe",
              "variable_name": "tabela",
              "summary": "{\n  \"name\": \"tabela\",\n  \"rows\": 15,\n  \"fields\": [\n    {\n      \"column\": \"i\",\n      \"properties\": {\n        \"dtype\": \"number\",\n        \"std\": 4,\n        \"min\": 1,\n        \"max\": 15,\n        \"num_unique_values\": 15,\n        \"samples\": [\n          10,\n          12,\n          1\n        ],\n        \"semantic_type\": \"\",\n        \"description\": \"\"\n      }\n    },\n    {\n      \"column\": \"n-i-1\",\n      \"properties\": {\n        \"dtype\": \"number\",\n        \"std\": 4,\n        \"min\": 15,\n        \"max\": 29,\n        \"num_unique_values\": 15,\n        \"samples\": [\n          20,\n          18,\n          29\n        ],\n        \"semantic_type\": \"\",\n        \"description\": \"\"\n      }\n    },\n    {\n      \"column\": \"a_i,n\",\n      \"properties\": {\n        \"dtype\": \"number\",\n        \"std\": 0.11453141303340571,\n        \"min\": 0.0076,\n        \"max\": 0.4254,\n        \"num_unique_values\": 15,\n        \"samples\": [\n          0.0862,\n          0.0537,\n          0.4254\n        ],\n        \"semantic_type\": \"\",\n        \"description\": \"\"\n      }\n    },\n    {\n      \"column\": \"X_(n-i-1)\",\n      \"properties\": {\n        \"dtype\": \"number\",\n        \"std\": 1.3298682353260578,\n        \"min\": 9.694078587561888,\n        \"max\": 14.085588980422433,\n        \"num_unique_values\": 15,\n        \"samples\": [\n          10.627136117036006,\n          10.444226031132725,\n          14.085588980422433\n        ],\n        \"semantic_type\": \"\",\n        \"description\": \"\"\n      }\n    },\n    {\n      \"column\": \"X_i\",\n      \"properties\": {\n        \"dtype\": \"number\",\n        \"std\": 1.0473578136034172,\n        \"min\": 6.270457100837072,\n        \"max\": 9.650611146050558,\n        \"num_unique_values\": 15,\n        \"samples\": [\n          8.599158578382584,\n          9.005820569171501,\n          6.270457100837072\n        ],\n        \"semantic_type\": \"\",\n        \"description\": \"\"\n      }\n    },\n    {\n      \"column\": \"a_i,n(X_(n-i-1)-X_i)\",\n      \"properties\": {\n        \"dtype\": \"number\",\n        \"std\": 0.9369186510232395,\n        \"min\": 0.0006259311577631564,\n        \"max\": 3.297985653185022,\n        \"num_unique_values\": 15,\n        \"samples\": [\n          0.18231518072494265,\n          0.08414671952473163,\n          3.297985653185022\n        ],\n        \"semantic_type\": \"\",\n        \"description\": \"\"\n      }\n    }\n  ]\n}"
            }
          },
          "metadata": {},
          "execution_count": 63
        }
      ]
    },
    {
      "cell_type": "markdown",
      "source": [
        "### Valor de B e cálculo de Wcalc"
      ],
      "metadata": {
        "id": "3IYR_cTDO1q2"
      }
    },
    {
      "cell_type": "code",
      "source": [
        "calcular_medidas(amostra)"
      ],
      "metadata": {
        "id": "lBaXd8htO1Px",
        "colab": {
          "base_uri": "https://localhost:8080/"
        },
        "outputId": "7bf83027-a831-4ded-e6af-1f69725c7e58"
      },
      "execution_count": null,
      "outputs": [
        {
          "output_type": "stream",
          "name": "stdout",
          "text": [
            "Estatísticas da Amostra:\n",
            "Média: 27.5\n",
            "Desvio Padrão: 7.466592261534039\n",
            "Erro Padrão: 1.5241117631809902\n",
            "Contagem: 24\n",
            "Variância: 55.75\n",
            "Máximo: 46\n",
            "Mínimo: 15\n"
          ]
        }
      ]
    },
    {
      "cell_type": "markdown",
      "source": [
        "Função ```Wcalc```"
      ],
      "metadata": {
        "id": "3nEr0fhcVfg0"
      }
    },
    {
      "cell_type": "code",
      "source": [
        "def Wcalc(amostra,tabela):\n",
        "  B = tabela['a_i,n(X_(n-i-1)-X_i)'].sum()\n",
        "  soma = 0\n",
        "  for i in amostra:\n",
        "    soma += (i - np.mean(amostra))**2\n",
        "  return B**2 / soma\n",
        "Wcalc(amostra,tabela)"
      ],
      "metadata": {
        "id": "ItkK7Hs_PcyW",
        "colab": {
          "base_uri": "https://localhost:8080/"
        },
        "outputId": "8256c7f3-2096-4485-9582-51a4064af597"
      },
      "execution_count": null,
      "outputs": [
        {
          "output_type": "execute_result",
          "data": {
            "text/plain": [
              "0.9715248414070247"
            ]
          },
          "metadata": {},
          "execution_count": 64
        }
      ]
    },
    {
      "cell_type": "code",
      "source": [
        "distribuicao(amostra)"
      ],
      "metadata": {
        "id": "7CerN3ffTeIr",
        "colab": {
          "base_uri": "https://localhost:8080/",
          "height": 565
        },
        "outputId": "91b7dce2-ba84-409c-cc84-b1e4b8370c14"
      },
      "execution_count": null,
      "outputs": [
        {
          "output_type": "display_data",
          "data": {
            "text/plain": [
              "<Figure size 1000x600 with 1 Axes>"
            ],
            "image/png": "[encoded data removed]"
          },
          "metadata": {}
        }
      ]
    },
    {
      "cell_type": "markdown",
      "source": [
        "### Conclusão"
      ],
      "metadata": {
        "id": "6XUc7NosSn2Y"
      }
    },
    {
      "cell_type": "code",
      "source": [
        "if Wcalc(amostra,tabela) >= Ws[0.05][len(amostra)]:\n",
        "  print(\"A hipótese nula não é rejeitada, podemos concluir com 90% de confiança que a amostra obtida é de uma população com distribuição normal\")\n",
        "else:\n",
        "  print(\"Podemos concluir com 90% de confiança que a amostra obtida não é de uma população com distribuição normal\")"
      ],
      "metadata": {
        "id": "-J6_N_sOSlCx",
        "colab": {
          "base_uri": "https://localhost:8080/"
        },
        "outputId": "d3b977af-c659-4483-9761-c66905717998"
      },
      "execution_count": null,
      "outputs": [
        {
          "output_type": "stream",
          "name": "stdout",
          "text": [
            "A hipótese nula não é rejeitada, podemos concluir com 90% de confiança que a amostra obtida é de uma população com distribuição normal\n"
          ]
        }
      ]
    },
    {
      "cell_type": "markdown",
      "source": [
        "### Fazendo para cinquenta amostras:"
      ],
      "metadata": {
        "id": "zoVsZCAfTMVy"
      }
    },
    {
      "cell_type": "code",
      "source": [
        "#Cinquenta amostras para serem testadas\n",
        "amostras = []\n",
        "for i in range(20):\n",
        "  amostras.append(amostra_aleatoria(1,11,30, probabilidades))\n",
        "for i in range(20):\n",
        "  amostras.append(amostra_aleatoria(20, 54, 30))\n",
        "for _ in range(10):\n",
        "    amostra = np.random.normal(loc=10, scale=2, size=30)\n",
        "    amostras.append(amostra)\n",
        "print(f'Foram geradas {len(amostras)} amostras aleatórias')"
      ],
      "metadata": {
        "id": "69sBbPk3TT4K",
        "colab": {
          "base_uri": "https://localhost:8080/"
        },
        "outputId": "73979d67-e56e-465d-a7ee-7b872d31b306"
      },
      "execution_count": null,
      "outputs": [
        {
          "output_type": "stream",
          "name": "stdout",
          "text": [
            "Foram geradas 50 amostras aleatórias\n"
          ]
        }
      ]
    },
    {
      "cell_type": "markdown",
      "source": [
        "### Gerando relátorio das 50 amostras"
      ],
      "metadata": {
        "id": "cLkRodeXcqX2"
      }
    },
    {
      "cell_type": "code",
      "source": [
        "import pandas as pd\n",
        "\n",
        "wcalcs = []\n",
        "ws = []\n",
        "\n",
        "for i in range(len(amostras)):\n",
        "    tabela = processar_amostra(amostras[i], df)\n",
        "    wcalc = Wcalc(amostras[i], tabela)\n",
        "    wcalcs.append(wcalc)\n",
        "    w = Ws[0.05][len(amostras[i])]\n",
        "    ws.append(w)\n",
        "\n",
        "\n",
        "\n",
        "\n",
        "tabela_sw = pd.DataFrame({\n",
        "    'Amostra': [i + 1 for i in range(len(amostras))],\n",
        "    'Wcals': wcalcs,\n",
        "    'Ws': ws,\n",
        "    'Hipotese(95% de confiança)': ['Temos evidências para rejeitar a hipótese de normalidade dos dados' if wcalcs[i] < ws[i] else 'Não temos evidências para rejeitar a hipótese de normalidade dos dados' for i in range(len(amostras))]\n",
        "})\n",
        "gerar_pdf(tabela_sw,'Tabela_sw')"
      ],
      "metadata": {
        "id": "SzntD-LtX4cN"
      },
      "execution_count": null,
      "outputs": []
    },
    {
      "cell_type": "markdown",
      "source": [
        "## O teste χ² de Bartlett\n"
      ],
      "metadata": {
        "id": "siu95YY6Qram"
      }
    },
    {
      "cell_type": "markdown",
      "source": [
        "O teste de Bartlett é uma técnica estatística utilizada para testar a igualdade das variâncias de duas ou mais populações. Ele é uma extensão do teste F de Fisher e é especialmente útil quando as amostras têm tamanhos diferentes e a suposição de homogeneidade das variâncias não pode ser garantida. Além disso, a aplicação do teste de Bartlett pressupõe que as amostras são independentes e que as populações subjacentes são normalmente distribuídas.\n",
        "\n",
        "**Formulação da hipótese nula (H0):** A hipótese nula do teste de Bartlett é que as variâncias das populações são iguais.\n",
        "\n",
        "**Formulação da hipótese alternativa (H1):** A hipótese alternativa é que pelo menos duas das populações têm variâncias diferentes.\n",
        "\n",
        "**Cálculo da estatística de teste:** A estatística de teste segue uma distribuição qui-quadrado (χ²) com\n",
        "𝑘\n",
        "−\n",
        "1\n",
        "graus de liberdade, onde\n",
        "𝑘\n",
        " é o número de grupos.\n",
        "\n",
        "**Tomada de decisão:** Se o valor-p associado à estatística de teste for menor que um nível de significância pré-determinado (geralmente 0,05), a hipótese nula é rejeitada, indicando que há evidências suficientes para concluir que as variâncias das populações não são todas iguais."
      ],
      "metadata": {
        "id": "aogZqfcrnSaq"
      }
    },
    {
      "cell_type": "code",
      "source": [
        "np.random.seed(0)\n",
        "group1 = np.random.normal(loc=0, scale=1, size=100)   #grupo1: desvio padrão = 1\n",
        "group2 = np.random.normal(loc=0, scale=1.5, size=100) #grupo2:desvio padrão = 1.5\n",
        "group3 = np.random.normal(loc=0, scale=2, size=100)   #grupo3: desvio padrão = 2\n",
        "\n",
        "statistic, p_value = bartlett(group1, group2, group3) #a função Bartlett calcula a estatística do teste de Bartlett para testar a hipótese de que as variâncias das populações subjacentes são iguais\n",
        "\n",
        "\n",
        "print(\"Estatística do teste de Bartlett:\", statistic)\n",
        "print(\"Valor-p:\", p_value)\n",
        "\n",
        "#Tomada de decisão da hipótese\n",
        "alpha = 0.05  #nível de significância padrão (5%)\n",
        "if p_value < alpha:\n",
        "    print(\"Rejeitar H0: As variâncias não são iguais.\")\n",
        "else:\n",
        "    print(\"Aceitar H0: Não há evidências suficientes para concluir que as variâncias são diferentes.\")"
      ],
      "metadata": {
        "id": "bIn8wbNhQswY",
        "colab": {
          "base_uri": "https://localhost:8080/"
        },
        "outputId": "0d7cc880-809a-425c-f5c4-d2df3790d215"
      },
      "execution_count": null,
      "outputs": [
        {
          "output_type": "stream",
          "name": "stdout",
          "text": [
            "Estatística do teste de Bartlett: 37.49481359606159\n",
            "Valor-p: 7.21281308036949e-09\n",
            "Rejeitar H0: As variâncias não são iguais.\n"
          ]
        }
      ]
    },
    {
      "cell_type": "markdown",
      "source": [
        "Interpretação: se o valor-p associado à estatística do teste for menor que um determinado nível de significância, então rejeitamos a hipótese nula de igualdade de variâncias, indicando que há evidências suficientes para concluir que pelo menos duas das populações têm variâncias diferentes."
      ],
      "metadata": {
        "id": "-PeONHSaqwUD"
      }
    },
    {
      "cell_type": "markdown",
      "source": [
        "##Exemplo de aplicação real do Teste De Bartlett\n"
      ],
      "metadata": {
        "id": "2gNPfDamtjHB"
      }
    },
    {
      "cell_type": "markdown",
      "source": [
        "Um exemplo real de aplicação do teste de Bartlett pode ser encontrado em estudos que comparam a variabilidade de medidas ou observações entre diferentes grupos ou condições. Por exemplo, um estudo para avaliar a eficácia de três tipos diferentes de tratamentos para reduzir a pressão arterial em pacientes com hipertensão, onde há três grupos (A, B e C) recebendo um tipo diferente de tratamento. O pesquisador deseja saber se existe uma diferença significativa na variabilidade da pressão arterial entre os três grupos após o tratamento"
      ],
      "metadata": {
        "id": "ebHqE8qAt6Uq"
      }
    },
    {
      "cell_type": "code",
      "source": [
        "#Simulação de dados de pressão arterial antes e depois do tratamento para cada grupo\n",
        "np.random.seed(0)\n",
        "\n",
        "#Grupo A: pressão arterial antes do tratamento\n",
        "groupA_before = np.random.normal(loc=140, scale=10, size=100)    #loc= média de distribuição normal (milímetros de mercúrio(mmHg))\n",
        "#Grupo A: pressão arterial depois do tratamento                #scale = desvio padrão da distribuição normal\n",
        "groupA_after = np.random.normal(loc=130, scale=10, size=100)\n",
        "\n",
        "#Grupo B: pressão arterial antes do tratamento\n",
        "groupB_before = np.random.normal(loc=150, scale=12, size=100)\n",
        "#Grupo B: pressão arterial depois do tratamento\n",
        "groupB_after = np.random.normal(loc=135, scale=12, size=100)\n",
        "\n",
        "#Grupo C: pressão arterial antes do tratamento\n",
        "groupC_before = np.random.normal(loc=145, scale=8, size=100)\n",
        "#Grupo C: pressão arterial depois do tratamento\n",
        "groupC_after = np.random.normal(loc=125, scale=8, size=100)\n",
        "\n",
        "#Teste de Bartlett para comparar a variabilidade entre os grupos\n",
        "statistic, p_value = bartlett(groupA_before, groupA_after,\n",
        "                               groupB_before, groupB_after,\n",
        "                               groupC_before, groupC_after)\n",
        "\n",
        "print(\"Estatística do teste de Bartlett:\", statistic)\n",
        "print(\"Valor-p:\", p_value)\n",
        "\n",
        "#Tomada de decisão\n",
        "alpha = 0.05\n",
        "if p_value < alpha:\n",
        "    print(\"Rejeitar H0: As variâncias não são iguais.\")\n",
        "else:\n",
        "    print(\"Aceitar H0: Não há evidências suficientes para concluir que as variâncias são diferentes.\")"
      ],
      "metadata": {
        "id": "KE79CbZ5vvVQ",
        "colab": {
          "base_uri": "https://localhost:8080/"
        },
        "outputId": "a660e5f0-5179-4cc4-a94b-4d7cf8616f72"
      },
      "execution_count": null,
      "outputs": [
        {
          "output_type": "stream",
          "name": "stdout",
          "text": [
            "Estatística do teste de Bartlett: 20.038394238217556\n",
            "Valor-p: 0.0012291661579761966\n",
            "Rejeitar H0: As variâncias não são iguais.\n"
          ]
        }
      ]
    },
    {
      "cell_type": "markdown",
      "source": [
        "Valor-p menor que 0,05: Se o valor-p for menor que 0,05, então rejeitaríamos a hipótese nula. Isso significaria que há evidências suficientes para sugerir que pelo menos duas das populações têm variâncias diferentes.\n",
        "\n",
        "Valor-p maior que 0,05: Se o valor-p for maior que 0,05, então não rejeitaríamos a hipótese nula. Isso significaria que não há evidências suficientes para concluir que as variâncias são diferentes entre os grupos.\n",
        "\n",
        "Portanto, ao interpretar os resultados do teste de Bartlett, estaríamos interessados em saber se há uma diferença significativa na variabilidade da pressão arterial entre os grupos de pacientes. Se o valor-p for significativamente menor que 0,05, isso indicaria que a variabilidade da pressão arterial difere entre os grupos, o que pode ter implicações importantes para a escolha do tratamento mais adequado para pacientes com hipertensão."
      ],
      "metadata": {
        "id": "_wS6ASPayC7v"
      }
    },
    {
      "cell_type": "markdown",
      "source": [
        "##Gráfico Boxplot para visualizar a distribuição dos dados de pressão arterial antes e depois don tratamento"
      ],
      "metadata": {
        "id": "E6q8yo6Y1Pvr"
      }
    },
    {
      "cell_type": "code",
      "source": [
        "#Gráficos antes e depois do tratamento em cada grupo\n",
        "plt.figure(figsize=(10, 6))\n",
        "plt.boxplot([groupA_before, groupA_after, groupB_before, groupB_after, groupC_before, groupC_after],\n",
        "            labels=['Grupo A (antes)', 'Grupo A (depois)', 'Grupo B (antes)', 'Grupo B (depois)', 'Grupo C (antes)', 'Grupo C (depois)'])\n",
        "\n",
        "plt.title('Distribuição da pressão arterial antes e depois do tratamento')\n",
        "plt.ylabel('Pressão arterial')\n",
        "plt.xlabel('Grupos')\n",
        "plt.grid(True)\n",
        "plt.show()\n",
        "\n",
        "#Teste de Bartlett para comparar a variabilidade entre os grupos\n",
        "statistic, p_value = bartlett(groupA_before, groupA_after,\n",
        "                               groupB_before, groupB_after,\n",
        "                               groupC_before, groupC_after)\n",
        "\n",
        "#Tabela de resumo\n",
        "summary_table = pd.DataFrame({\n",
        "    'Estatística do teste de Bartlett': [statistic],\n",
        "    'Valor-p': [p_value],\n",
        "    'Resultado': ['Diferentes' if p_value < 0.05 else 'Sem diferença']\n",
        "})\n",
        "\n",
        "print(summary_table)"
      ],
      "metadata": {
        "id": "4wO-C40Oz2K0",
        "colab": {
          "base_uri": "https://localhost:8080/",
          "height": 599
        },
        "outputId": "98e2c33b-34dc-48ce-ec84-da721a76e97b"
      },
      "execution_count": null,
      "outputs": [
        {
          "output_type": "display_data",
          "data": {
            "text/plain": [
              "<Figure size 1000x600 with 1 Axes>"
            ],
            "image/png": "[encoded data removed]"
          },
          "metadata": {}
        },
        {
          "output_type": "stream",
          "name": "stdout",
          "text": [
            "   Estatística do teste de Bartlett   Valor-p   Resultado\n",
            "0                         20.038394  0.001229  Diferentes\n"
          ]
        }
      ]
    },
    {
      "cell_type": "markdown",
      "source": [
        "##Gráfico histograma para a visualização dos dados de pressão arterial de antes e depois do tratamento no grupo A"
      ],
      "metadata": {
        "id": "n257zfWn1lmg"
      }
    },
    {
      "cell_type": "code",
      "source": [
        "\n",
        "plt.figure(figsize=(10, 6))\n",
        "\n",
        "plt.hist(groupA_before, bins=15, alpha=0.5, color='blue', label='Antes do tratamento')\n",
        "plt.hist(groupA_after, bins=15, alpha=0.5, color='green', label='Depois do tratamento')\n",
        "\n",
        "plt.title('Distribuição da pressão arterial no Grupo A antes e depois do tratamento')\n",
        "plt.xlabel('Pressão arterial')\n",
        "plt.ylabel('Frequência')\n",
        "plt.legend()\n",
        "plt.grid(False)\n",
        "plt.show()"
      ],
      "metadata": {
        "id": "VGlY9g4X1gZC"
      },
      "execution_count": null,
      "outputs": []
    },
    {
      "cell_type": "markdown",
      "source": [
        "##Gráfico histograma para a visualização dos dados de pressão arterial de antes e depois do tratamento no grupo B"
      ],
      "metadata": {
        "id": "KBJGcWay987F"
      }
    },
    {
      "cell_type": "code",
      "source": [
        "plt.figure(figsize=(10, 6))\n",
        "\n",
        "plt.hist(groupB_before, bins=15, alpha=0.5, color='blue', label='Antes do tratamento')\n",
        "plt.hist(groupB_after, bins=15, alpha=0.5, color='green', label='Depois do tratamento')\n",
        "\n",
        "plt.title('Distribuição da pressão arterial no Grupo B antes e depois do tratamento')\n",
        "plt.xlabel('Pressão arterial')\n",
        "plt.ylabel('Frequência')\n",
        "plt.legend()\n",
        "plt.grid(False)\n",
        "plt.show()"
      ],
      "metadata": {
        "id": "Zl7ELdLf9V4w"
      },
      "execution_count": null,
      "outputs": []
    },
    {
      "cell_type": "markdown",
      "source": [
        "##Gráfico histograma para a visualização dos dados de pressão arterial de antes e depois do tratamento no grupo C"
      ],
      "metadata": {
        "id": "FE6ufrXV-Ea9"
      }
    },
    {
      "cell_type": "code",
      "source": [
        "plt.figure(figsize=(10, 6))\n",
        "\n",
        "plt.hist(groupC_before, bins=15, alpha=0.5, color='blue', label='Antes do tratamento')\n",
        "plt.hist(groupC_after, bins=15, alpha=0.5, color='green', label='Depois do tratamento')\n",
        "\n",
        "plt.title('Distribuição da pressão arterial no Grupo C antes e depois do tratamento')\n",
        "plt.xlabel('Pressão arterial')\n",
        "plt.ylabel('Frequência')\n",
        "plt.legend()\n",
        "plt.grid(False)\n",
        "plt.show()"
      ],
      "metadata": {
        "id": "dizJkwcU9yGj"
      },
      "execution_count": null,
      "outputs": []
    },
    {
      "cell_type": "markdown",
      "source": [
        "##Conclusão\n"
      ],
      "metadata": {
        "id": "XfKWqKR72GcK"
      }
    },
    {
      "cell_type": "markdown",
      "source": [
        "Em geral, se a estatística de Bartlett for alta, isso sugere que as variâncias entre os grupos são diferentes. Por outro lado, se a estatística de Bartlett for baixa, isso sugere que as variâncias entre os grupos são semelhantes.\n",
        "Em resumo, o resultado da estatística de Bartlett fornece uma indicação da magnitude da diferença nas variâncias entre os grupos e é usado para avaliar a homogeneidade das variâncias.\n",
        "Se as variâncias são diferentes entre os grupos, técnicas estatísticas robustas, como a análise de variâncias com correção para heterogeneidade de variâncias, podem ser mais apropriadas.\n",
        "Se as variâncias são semelhantes, isso fortalece a confiança nas conclusões do estudo, especialmente em relação às comparações entre os grupos."
      ],
      "metadata": {
        "id": "owsfgNgJ2Llq"
      }
    },
    {
      "cell_type": "markdown",
      "source": [
        "## Teste de Média Populacional (Zcalc)"
      ],
      "metadata": {
        "id": "PQbNYEiuQtMc"
      }
    },
    {
      "cell_type": "markdown",
      "source": [
        "O teste de média populacional, ou teste Z, é utilizado quando queremos comparar a média de uma amostra com a média de uma população conhecida, assumindo que a distribuição da amostra é normal ou que o tamanho da amostra é grande o suficiente para que a distribuição amostral da média seja aproximadamente normal.\n",
        "\n",
        "O teste Z calcula uma estatística Z, que representa a diferença entre a média da amostra e a média populacional, padronizada pela variabilidade da amostra e pelo tamanho da amostra. Em seguida, essa estatística Z é comparada com a distribuição normal padrão para determinar a probabilidade de observar tal diferença sob a hipótese nula de que não há diferença entre as médias."
      ],
      "metadata": {
        "id": "OJ42bW_RsIkq"
      }
    },
    {
      "cell_type": "markdown",
      "source": [
        "##Exemplo de Implementação"
      ],
      "metadata": {
        "id": "zS4GqcDvlL1o"
      }
    },
    {
      "cell_type": "markdown",
      "source": [
        "Vamos supor que queremos comparar a média de residentes por moradia na cidade de João Pessoa, com a média do Bairro de Mangabeira.\n",
        "\n",
        "Neste exemplo fica claro que teremos a média de João Pessoa como Universo, e a média de Mangabeira como amostra."
      ],
      "metadata": {
        "id": "3SayurI2lPPJ"
      }
    },
    {
      "cell_type": "markdown",
      "source": [
        "###Hipóteses"
      ],
      "metadata": {
        "id": "_HJdMgximAxB"
      }
    },
    {
      "cell_type": "markdown",
      "source": [
        "**H0**: Hipótese nula, considerando que as médias se aproximam significativamente.\n",
        "**H1**: Alternativa, considera que as médias possuem uma diferença significativa."
      ],
      "metadata": {
        "id": "q9A0TDCqmHf5"
      }
    },
    {
      "cell_type": "markdown",
      "source": [
        "##Implementação ZCalc(ou Teste Z)"
      ],
      "metadata": {
        "id": "6-gvZmXummi4"
      }
    },
    {
      "cell_type": "markdown",
      "source": [
        "###Importando Tabelas\n"
      ],
      "metadata": {
        "id": "Uz2Hp4gCmv_Q"
      }
    },
    {
      "cell_type": "code",
      "source": [
        "import random\n",
        "import numpy as np\n",
        "import scipy.stats as stats\n",
        "import matplotlib.pyplot as plt"
      ],
      "metadata": {
        "id": "pgDrrBHImvNJ"
      },
      "execution_count": null,
      "outputs": []
    },
    {
      "cell_type": "markdown",
      "source": [
        "###Gerando os dados"
      ],
      "metadata": {
        "id": "T33B_FVmm3pR"
      }
    },
    {
      "cell_type": "code",
      "source": [
        "jp = [random.randint(1,4) for i in range(200)]\n",
        "mng = [random.randint(1,6) for i in range(50)]"
      ],
      "metadata": {
        "id": "VFc1ppDEnAlm"
      },
      "execution_count": null,
      "outputs": []
    },
    {
      "cell_type": "markdown",
      "source": [
        "###Coleta de Dados"
      ],
      "metadata": {
        "id": "Qsq3watBneaH"
      }
    },
    {
      "cell_type": "code",
      "source": [
        "#Cálculo das Médias\n",
        "m_jp = np.mean(jp)\n",
        "m_mng = np.mean(mng)\n",
        "print(f\"Média Universo(João Pessoa): {m_jp}\")\n",
        "print(f\"Média Amostral(Mangabeira): {m_mng}\")\n",
        "\n",
        "#Cálculo do Desvio Padrão\n",
        "des_jp = np.std(jp)\n",
        "des_mng = np.std(mng)\n",
        "print(f\"Desvio Padrão Universo(João Pessoa): {des_jp:.2f}\")\n",
        "print(f\"Desvio Padrão Amostral(Mangabeira): {des_mng:.2f}\")"
      ],
      "metadata": {
        "colab": {
          "base_uri": "https://localhost:8080/"
        },
        "id": "ouU06uOhnlFQ",
        "outputId": "34c2c6ed-0588-4999-a45b-4c50352ccf77"
      },
      "execution_count": null,
      "outputs": [
        {
          "output_type": "stream",
          "name": "stdout",
          "text": [
            "Média Universo(João Pessoa): 2.495\n",
            "Média Amostral(Mangabeira): 3.1\n",
            "Desvio Padrão Universo(João Pessoa): 1.18\n",
            "Desvio Padrão Amostral(Mangabeira): 1.90\n"
          ]
        }
      ]
    },
    {
      "cell_type": "markdown",
      "source": [
        "###Cálculo da Estatística Teste Z"
      ],
      "metadata": {
        "id": "OgwZiZnro7V4"
      }
    },
    {
      "cell_type": "markdown",
      "source": [
        "Para calcular o teste Z, você precisa ter a média da amostra (x̄), a média populacional (μ), o desvio padrão da população (σ) e o tamanho da amostra (n). A fórmula geral para calcular o valor Z é:\n",
        "\n",
        "\\begin{equation}\n",
        "Z = \\frac{{\\bar{x} - \\mu}}{{\\frac{{\\sigma}}{{\\sqrt{n}}}}}\n",
        "\\end{equation}\n",
        "\n",
        "Onde:\n",
        "   - $\\bar{x}$ é a média da amostra\n",
        "   - $μ$ é a média populacinal\n",
        "   - $σ$ é o desvio padrão populacional\n",
        "   - $n$ é o tamanho da amostra"
      ],
      "metadata": {
        "id": "Mh4QvPmbpFxn"
      }
    },
    {
      "cell_type": "code",
      "source": [
        "z = (m_mng - m_jp) / (des_jp / (np.sqrt(len(mng))))\n",
        "print(f\"Z = {z:.2f}\")"
      ],
      "metadata": {
        "colab": {
          "base_uri": "https://localhost:8080/"
        },
        "id": "7ZLzxeqUpEUA",
        "outputId": "1837ae23-f949-49d2-adbc-1d9ede18705b"
      },
      "execution_count": null,
      "outputs": [
        {
          "output_type": "stream",
          "name": "stdout",
          "text": [
            "Z = 3.62\n"
          ]
        }
      ]
    },
    {
      "cell_type": "markdown",
      "source": [
        "###Comparação com a distribuição normal padrão"
      ],
      "metadata": {
        "id": "t37TBfj7rvF9"
      }
    },
    {
      "cell_type": "markdown",
      "source": [
        "Nivel de significância considerado: 5%"
      ],
      "metadata": {
        "id": "G1ZbA347sXL1"
      }
    },
    {
      "cell_type": "code",
      "source": [
        "#Nivel de Significancia\n",
        "a = 0.05\n",
        "\n",
        "#Encontrando o Valor critico usando a distribuição normal padrão\n",
        "z_critico = stats.norm.ppf(1 - a/2)\n",
        "#Média e o desvio padrão da distribuição normal padrão\n",
        "mu = 0\n",
        "sigma = 1\n",
        "\n",
        "# Gerar dados para plotar a distribuição normal padrão\n",
        "x = np.linspace(mu - 3*sigma, mu + 3*sigma, 100)\n",
        "y = stats.norm.pdf(x, mu, sigma)\n",
        "\n",
        "# Plotar a distribuição normal padrão\n",
        "plt.plot(x, y, label='Distribuição Normal Padrão')\n",
        "\n",
        "# Plotar uma linha vertical para o valor Z calculado\n",
        "plt.axvline(x=z, color='r', linestyle='--', label='Valor Z Calculado')\n",
        "\n",
        "# Plotar linhas verticais para os valores críticos\n",
        "plt.axvline(x=z_critico, color='g', linestyle='--', label='Valor Crítico')\n",
        "plt.axvline(x=-z_critico, color='g', linestyle='--')\n",
        "\n",
        "# Adicionar legendas e título\n",
        "plt.legend()\n",
        "plt.title('Resultado do Teste Z')\n",
        "plt.xlabel('Valor Z')\n",
        "plt.ylabel('Densidade de Probabilidade')\n",
        "\n",
        "# Mostrar o gráfico\n",
        "plt.show()\n",
        "print(\"------------------------------------------------------------\")\n",
        "print(f\"Valor Z: {z:.2f}\")\n",
        "print(f\"Valor Z Crítico: {z_critico:.3f}\")\n",
        "\n",
        "# Comparar o valor Z calculado com os valores críticos\n",
        "if z > z_critico or z < -z_critico:\n",
        "    print(\"\\nRejeitar H0: A média da amostra é significativamente diferente da média populacional.\")\n",
        "else:\n",
        "    print(\"Não rejeitar H0: Não há evidências suficientes para afirmar que a média da amostra é diferente da média populacional.\")"
      ],
      "metadata": {
        "colab": {
          "base_uri": "https://localhost:8080/",
          "height": 559
        },
        "id": "39s8N67HsWMs",
        "outputId": "0a208763-7511-48b4-e088-2a3de08000df"
      },
      "execution_count": null,
      "outputs": [
        {
          "output_type": "display_data",
          "data": {
            "text/plain": [
              "<Figure size 640x480 with 1 Axes>"
            ],
            "image/png": "[encoded data removed]"
          },
          "metadata": {}
        },
        {
          "output_type": "stream",
          "name": "stdout",
          "text": [
            "------------------------------------------------------------\n",
            "Valor Z: 3.62\n",
            "Valor Z Crítico: 1.960\n",
            "\n",
            "Rejeitar H0: A média da amostra é significativamente diferente da média populacional.\n"
          ]
        }
      ]
    },
    {
      "cell_type": "markdown",
      "source": [
        "## Teste T-student"
      ],
      "metadata": {
        "id": "2tbJSKSSQyjn"
      }
    },
    {
      "cell_type": "markdown",
      "source": [
        "O teste t de Student é uma ferramenta estatística fundamental utilizada para comparar as médias de duas amostras independentes. Ele é especialmente útil quando se deseja determinar se uma diferença observada entre duas amostras é estatisticamente significativa. Desenvolvido por William Sealy Gosset em 1908 e publicado sob o pseudônimo de \"Student\", esse teste é amplamente aplicável em diversas áreas, incluindo ciências sociais, medicina, negócios e engenharia.\n",
        "\n",
        "O teste t de Student parte da hipótese nula de que não há diferença significativa entre as médias das duas amostras. Ele calcula uma estatística t que representa a diferença entre as médias das amostras padronizada pela variabilidade das amostras e pelo tamanho das amostras. Em seguida, essa estatística t é comparada com a distribuição t de Student para determinar a probabilidade de observar tal diferença sob a hipótese nula."
      ],
      "metadata": {
        "id": "LkGvRlmgqOuh"
      }
    },
    {
      "cell_type": "markdown",
      "source": [
        "##Exemplo de Implementação"
      ],
      "metadata": {
        "id": "qqijely8rCuy"
      }
    },
    {
      "cell_type": "markdown",
      "source": [
        "Vamos considerar que o CI deseja realizar uma comparação de altura dos alunos de dois cursos do primeiro período. Os cursos de Ciência de Dados e Ciência da Computação foram os escolhidos.\n",
        "\n",
        "###Hipóteses\n",
        "\n",
        "**H0**: Será a hipótese de que não há diferença significativa entre a média de altura dos alunos dos cursos acima citados.\n",
        "\n",
        "**H1**: Será a hipótese de que há sim uma diferença entre a médias das alturas dos alunos."
      ],
      "metadata": {
        "id": "FCosuuEsPc2Y"
      }
    },
    {
      "cell_type": "markdown",
      "source": [
        "##Geração das Amostras de Altura dos Alunos"
      ],
      "metadata": {
        "id": "CQrd4jn3RAK3"
      }
    },
    {
      "cell_type": "markdown",
      "source": [
        "###Importando bibliotecas"
      ],
      "metadata": {
        "id": "fqjZ3ZWDXVJ2"
      }
    },
    {
      "cell_type": "code",
      "source": [
        "import random\n",
        "import numpy as np\n",
        "from scipy.stats import t as t_student\n",
        "import matplotlib.pyplot as plt"
      ],
      "metadata": {
        "id": "KU2e6MD1XS0e"
      },
      "execution_count": null,
      "outputs": []
    },
    {
      "cell_type": "code",
      "source": [
        "\n",
        "\n",
        "# Criando amostras aleatória de tamanho 25 e 20 com valores minimos e\n",
        "# maximos de 160 e 200, e 150 e 200, respectivamente.\n",
        "cdia = [random.randint(160,200) for i in range(25)]\n",
        "cdc = [random.randint(150,190) for j in range(20)]\n",
        "print(f\"Alturas CDIA: {cdia}\")\n",
        "print(f\"Alturas CDC: {cdc}\")"
      ],
      "metadata": {
        "id": "2Z-c3_TUQwWE",
        "colab": {
          "base_uri": "https://localhost:8080/"
        },
        "outputId": "40057d31-ac52-4836-923a-4a5510006fd7"
      },
      "execution_count": null,
      "outputs": [
        {
          "output_type": "stream",
          "name": "stdout",
          "text": [
            "Alturas CDIA: [192, 192, 197, 193, 189, 182, 162, 199, 164, 160, 170, 194, 178, 188, 190, 169, 171, 168, 197, 174, 166, 200, 179, 162, 169]\n",
            "Alturas CDC: [185, 174, 184, 162, 181, 177, 182, 174, 157, 155, 188, 163, 165, 173, 189, 173, 174, 188, 187, 159]\n"
          ]
        }
      ]
    },
    {
      "cell_type": "code",
      "source": [
        "# Plotagem dos histogramas das alturas\n",
        "plt.hist(cdia, bins=10, alpha=0.5, color='blue', label='Grupo CDIA')\n",
        "plt.hist(cdc, bins=10, alpha=0.5, color='green', label='Grupo CDC')\n",
        "\n",
        "# Configurações do gráfico\n",
        "plt.xlabel('Altura (cm)')\n",
        "plt.ylabel('Frequência')\n",
        "plt.title('Distribuição das Alturas entre Grupos')\n",
        "plt.legend()\n",
        "plt.grid(True)\n",
        "\n",
        "# Exibição do gráfico\n",
        "plt.show()\n"
      ],
      "metadata": {
        "colab": {
          "base_uri": "https://localhost:8080/",
          "height": 472
        },
        "id": "Mc3TUxIqjHef",
        "outputId": "1b51144b-db70-47e6-ed0e-b652582fd60f"
      },
      "execution_count": null,
      "outputs": [
        {
          "output_type": "display_data",
          "data": {
            "text/plain": [
              "<Figure size 640x480 with 1 Axes>"
            ],
            "image/png": "[encoded data removed]"
          },
          "metadata": {}
        }
      ]
    },
    {
      "cell_type": "markdown",
      "source": [
        "##Coleta de Dados das Amostras"
      ],
      "metadata": {
        "id": "HXqZbp8msnjq"
      }
    },
    {
      "cell_type": "code",
      "source": [
        "#Cálculo da média das amostras\n",
        "m_cdia = np.mean(cdia)\n",
        "m_cdc = np.mean(cdc)\n",
        "\n",
        "#Cálculo do desvio padrão\n",
        "des_cdia = np.std(cdia)\n",
        "des_cdc = np.std(cdc)\n",
        "\n",
        "print('--------CDIA---------')\n",
        "print(f\"Média de altura: {m_cdia}\")\n",
        "print(f\"Desvio Padrão: {des_cdia:.2f}\\n\")\n",
        "\n",
        "print('--------CDC---------')\n",
        "print(f\"Média de altura: {m_cdc}\")\n",
        "print(f\"Desvio Padrão: {des_cdc:.2f}\\n\")\n"
      ],
      "metadata": {
        "colab": {
          "base_uri": "https://localhost:8080/"
        },
        "id": "AL29dCl2VOiT",
        "outputId": "dd22285d-dfae-4332-bea0-89bf77d5c05a"
      },
      "execution_count": null,
      "outputs": [
        {
          "output_type": "stream",
          "name": "stdout",
          "text": [
            "--------CDIA---------\n",
            "Média de altura: 180.2\n",
            "Desvio Padrão: 13.19\n",
            "\n",
            "--------CDC---------\n",
            "Média de altura: 174.5\n",
            "Desvio Padrão: 10.83\n",
            "\n"
          ]
        }
      ]
    },
    {
      "cell_type": "markdown",
      "source": [],
      "metadata": {
        "id": "3zaDO5TEfenh"
      }
    },
    {
      "cell_type": "markdown",
      "source": [
        "##Cálculo da Estatística T"
      ],
      "metadata": {
        "id": "0_Fv2EzZYhaL"
      }
    },
    {
      "cell_type": "markdown",
      "source": [
        "Fórmula para calcular a estatística t para duas amostras independentes:\n",
        "\n",
        "\\begin{equation}\n",
        "t = \\frac{\\bar{X}_1 - \\bar{X}_2}{\\sqrt{\\frac{s_1^2}{n_1} + \\frac{s_2^2}{n_2}}}\n",
        "\\end{equation}\n",
        "\n",
        "\n",
        "Onde:\n",
        "- 𝑥̅₁ e 𝑥̅₂ são as médias das duas amostras.\n",
        "- 𝑠₁ e 𝑠₂ são os desvios padrão das duas amostras.\n",
        "- 𝑛₁ e 𝑛₂ são os tamanhos das duas amostras."
      ],
      "metadata": {
        "id": "7dT3bWTCYm11"
      }
    },
    {
      "cell_type": "markdown",
      "source": [
        "##Aplicação em Python"
      ],
      "metadata": {
        "id": "BnU5ob9raBGF"
      }
    },
    {
      "cell_type": "code",
      "source": [
        "# Fórmula estatística T\n",
        "t = (m_cdia-m_cdc)/np.sqrt((((des_cdia)**2)/len(cdia)) + (((des_cdc)**2)/len(cdc)))\n",
        "print(f\"t = {t:.3f}\")"
      ],
      "metadata": {
        "colab": {
          "base_uri": "https://localhost:8080/"
        },
        "id": "eeQvFdkEYj6c",
        "outputId": "2c669eb3-7568-4327-ad12-0db990e9cd53"
      },
      "execution_count": null,
      "outputs": [
        {
          "output_type": "stream",
          "name": "stdout",
          "text": [
            "t = 1.592\n"
          ]
        }
      ]
    },
    {
      "cell_type": "markdown",
      "source": [
        "##Determinação do Grau de Liberdade"
      ],
      "metadata": {
        "id": "C_1wQQQCbQ9i"
      }
    },
    {
      "cell_type": "markdown",
      "source": [
        "O grau de liberdade é uma medida estatística que está associada à variabilidade dos dados e é importante para calcular valores críticos de t e interpretar os resultados do teste.\n",
        "\n",
        "Para o teste t de Student de duas amostras independentes, o cálculo do grau de liberdade é feito da seguinte maneira:\n",
        "\n",
        "\\begin{equation}\n",
        "df = n_1 + n_2 - 2\n",
        "\\end{equation}\n",
        "\n",
        "- Onde:\n",
        "- $n_1$ é o tamanho da primeira amostra.\n",
        "- $n_2$ é o tamanho da segunda amostra.\n",
        "\n"
      ],
      "metadata": {
        "id": "zoy6tyM4beST"
      }
    },
    {
      "cell_type": "code",
      "source": [
        "gl = len(cdia) + len(cdc) - 2\n",
        "print(f'Grau de Liberdade: {gl}')"
      ],
      "metadata": {
        "colab": {
          "base_uri": "https://localhost:8080/"
        },
        "id": "aU072i7KbWOU",
        "outputId": "132d0c79-4251-4b38-ec8b-20e5b5677939"
      },
      "execution_count": null,
      "outputs": [
        {
          "output_type": "stream",
          "name": "stdout",
          "text": [
            "Grau de Liberdade: 43\n"
          ]
        }
      ]
    },
    {
      "cell_type": "markdown",
      "source": [
        "##Cálculo do Valor Crítico"
      ],
      "metadata": {
        "id": "rfXoL8nac6gj"
      }
    },
    {
      "cell_type": "markdown",
      "source": [
        "Nivel de significância considerado: 5%"
      ],
      "metadata": {
        "id": "tFnfZrmkdEhj"
      }
    },
    {
      "cell_type": "code",
      "source": [
        "#Cálculo de Valor Crítico realizado com biblioteca SciPy\n",
        "a = 0.05\n",
        "\n",
        "valor_critico = t_student.ppf(1 - a/2, gl)\n",
        "print(f\"Valor crítico de t: {valor_critico:.3f}\")"
      ],
      "metadata": {
        "colab": {
          "base_uri": "https://localhost:8080/"
        },
        "id": "FyKEmQi2dVrS",
        "outputId": "c190af23-1dd4-4db8-8068-f31616722d8d"
      },
      "execution_count": null,
      "outputs": [
        {
          "output_type": "stream",
          "name": "stdout",
          "text": [
            "Valor crítico de t: 2.017\n"
          ]
        }
      ]
    },
    {
      "cell_type": "markdown",
      "source": [
        "##Plotagem dos Resultados"
      ],
      "metadata": {
        "id": "S1Vg25w6euUZ"
      }
    },
    {
      "cell_type": "code",
      "source": [
        "x = np.linspace(-4, 4, 1000)  # Intervalo de valores para t\n",
        "y = t_student.pdf(x, df=gl)\n",
        "\n",
        "plt.figure(figsize=(10, 6))\n",
        "plt.plot(x, y, label=f'Distribuição t ({gl} graus de liberdade)')\n",
        "plt.axvline(valor_critico, color='red', linestyle='--', label=f'Valor crítico de t: {valor_critico:.3f}')\n",
        "plt.fill_between(x, 0, y, where=(x >= valor_critico), color='red', alpha=0.3)\n",
        "plt.grid(True)\n",
        "plt.show()\n",
        "\n",
        "print(f'Estatística t calculada: {t:.3f}\\n')\n",
        "if abs(t) > valor_critico:\n",
        "    print('Resultado do teste: Rejeitamos a hipótese nula, há uma diferença significativa nas alturas médias entre estudantes')\n",
        "else:\n",
        "    print('Resultado do teste: Não rejeitamos a hipótese nula, não há uma diferença significativa nas alturas médias entre estudantes')\n"
      ],
      "metadata": {
        "colab": {
          "base_uri": "https://localhost:8080/",
          "height": 574
        },
        "id": "G26DyJ_uexuj",
        "outputId": "f0b89538-d493-4b60-edbc-3de105d2b5d4"
      },
      "execution_count": null,
      "outputs": [
        {
          "output_type": "display_data",
          "data": {
            "text/plain": [
              "<Figure size 1000x600 with 1 Axes>"
            ],
            "image/png": "[encoded data removed]"
          },
          "metadata": {}
        },
        {
          "output_type": "stream",
          "name": "stdout",
          "text": [
            "Estatística t calculada: 1.592\n",
            "\n",
            "Resultado do teste: Não rejeitamos a hipótese nula, não há uma diferença significativa nas alturas médias entre estudantes\n"
          ]
        }
      ]
    },
    {
      "cell_type": "markdown",
      "source": [
        "## Teste T-Student Para Valores Emparelhados"
      ],
      "metadata": {
        "id": "1rpfnmRc1ZFV"
      }
    },
    {
      "cell_type": "markdown",
      "source": [
        "Vamos considerar que a direção da UFPB quer calcular a taxa de evasão dos alunos dos cursos superiores após o 1º período."
      ],
      "metadata": {
        "id": "BO5pg9z11oOX"
      }
    },
    {
      "cell_type": "markdown",
      "source": [
        "![image.png](data:image/png;base64,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)"
      ],
      "metadata": {
        "id": "lBGI4V7B5csp"
      }
    },
    {
      "cell_type": "code",
      "source": [
        "# Criando amostras aleatórias\n",
        "qnt_alunos1 = [random.randint(35,50) for i in range(15)]\n",
        "for i in range(15):\n",
        "  print(f'Alunos Curso{i+1}: {qnt_alunos1[i]}')\n",
        "\n",
        "# Criar o gráfico de barras\n",
        "plt.figure(figsize=(10, 6))  # Define o tamanho da figura\n",
        "plt.bar(range(1, 16), qnt_alunos1, color='skyblue')  # Cria as barras\n",
        "plt.xlabel('Cursos')  # Legenda do eixo x\n",
        "plt.ylabel('Quantidade de Alunos')  # Legenda do eixo y\n",
        "plt.title('Quantidade de Alunos por Curso')  # Título do gráfico\n",
        "plt.grid(True)  # Adiciona uma grade ao gráfico\n",
        "plt.show()  # Mostra o gráfico"
      ],
      "metadata": {
        "colab": {
          "base_uri": "https://localhost:8080/",
          "height": 824
        },
        "id": "WzzA6JcH1lX0",
        "outputId": "6a00e41c-5435-4499-96de-33344dd0fd69"
      },
      "execution_count": null,
      "outputs": [
        {
          "output_type": "stream",
          "name": "stdout",
          "text": [
            "Alunos Curso1: 47\n",
            "Alunos Curso2: 48\n",
            "Alunos Curso3: 44\n",
            "Alunos Curso4: 43\n",
            "Alunos Curso5: 49\n",
            "Alunos Curso6: 40\n",
            "Alunos Curso7: 41\n",
            "Alunos Curso8: 50\n",
            "Alunos Curso9: 49\n",
            "Alunos Curso10: 38\n",
            "Alunos Curso11: 50\n",
            "Alunos Curso12: 43\n",
            "Alunos Curso13: 48\n",
            "Alunos Curso14: 43\n",
            "Alunos Curso15: 46\n"
          ]
        },
        {
          "output_type": "display_data",
          "data": {
            "text/plain": [
              "<Figure size 1000x600 with 1 Axes>"
            ],
            "image/png": "[encoded data removed]"
          },
          "metadata": {}
        }
      ]
    },
    {
      "cell_type": "markdown",
      "source": [
        "## Amostras após o primeiro período de aulas"
      ],
      "metadata": {
        "id": "cqdHba-p5Jfk"
      }
    },
    {
      "cell_type": "code",
      "source": [
        "# Criando amostras aleatórias\n",
        "qnt_alunos2 = [random.randint(10,34) for i in range(15)]\n",
        "for i in range(15):\n",
        "  print(f'Alunos Curso{i+1}: {qnt_alunos2[i]}')\n",
        "\n",
        "# Criar o gráfico de barras\n",
        "plt.figure(figsize=(10, 6))  # Define o tamanho da figura\n",
        "plt.bar(range(1, 16), qnt_alunos2, color='skyblue')  # Cria as barras\n",
        "plt.xlabel('Cursos')  # Legenda do eixo x\n",
        "plt.ylabel('Quantidade de Alunos')  # Legenda do eixo y\n",
        "plt.title('Quantidade de Alunos por Curso')  # Título do gráfico\n",
        "plt.grid(True)  # Adiciona uma grade ao gráfico\n",
        "plt.show()  # Mostra o gráfico"
      ],
      "metadata": {
        "colab": {
          "base_uri": "https://localhost:8080/",
          "height": 824
        },
        "id": "LT7QOBCI6E38",
        "outputId": "76878432-64ee-4bff-bd66-9771fd39f509"
      },
      "execution_count": null,
      "outputs": [
        {
          "output_type": "stream",
          "name": "stdout",
          "text": [
            "Alunos Curso1: 11\n",
            "Alunos Curso2: 16\n",
            "Alunos Curso3: 12\n",
            "Alunos Curso4: 14\n",
            "Alunos Curso5: 24\n",
            "Alunos Curso6: 17\n",
            "Alunos Curso7: 26\n",
            "Alunos Curso8: 16\n",
            "Alunos Curso9: 31\n",
            "Alunos Curso10: 15\n",
            "Alunos Curso11: 10\n",
            "Alunos Curso12: 13\n",
            "Alunos Curso13: 20\n",
            "Alunos Curso14: 32\n",
            "Alunos Curso15: 10\n"
          ]
        },
        {
          "output_type": "display_data",
          "data": {
            "text/plain": [
              "<Figure size 1000x600 with 1 Axes>"
            ],
            "image/png": "[encoded data removed]"
          },
          "metadata": {}
        }
      ]
    },
    {
      "cell_type": "markdown",
      "source": [
        "![image.png](data:image/png;base64,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)"
      ],
      "metadata": {
        "id": "XtgSP0t2395d"
      }
    },
    {
      "cell_type": "code",
      "source": [
        "import numpy as np\n",
        "from scipy import stats\n",
        "\n",
        "diferencas = []\n",
        "\n",
        "# Calculando as diferenças entre as amostras emparelhadas\n",
        "for i in range(len(qnt_alunos1)):\n",
        "    diferenca = qnt_alunos1[i] - qnt_alunos2[i]\n",
        "    diferencas.append(diferenca)\n",
        "\n",
        "# Número de pares emparelhados\n",
        "n = len(qnt_alunos1)\n",
        "\n",
        "# Média das diferenças\n",
        "media_diferencas = np.mean(diferencas)\n",
        "\n",
        "# Desvio padrão das diferenças\n",
        "desvio_padrao_diferencas = np.std(diferencas, ddof=1)\n",
        "\n",
        "# Calculando a estatística t\n",
        "t_statistic, p_valor = stats.ttest_rel(qnt_alunos1, qnt_alunos2)\n",
        "\n"
      ],
      "metadata": {
        "id": "2u2GO1rc62re"
      },
      "execution_count": null,
      "outputs": []
    },
    {
      "cell_type": "markdown",
      "source": [
        "## Plotagem dos Resultados"
      ],
      "metadata": {
        "id": "WA9QAcnF8ux6"
      }
    },
    {
      "cell_type": "code",
      "source": [
        "import seaborn as sns\n",
        "print(\"Estatística t:\", t_statistic)\n",
        "print(\"Valor p:\", p_valor)\n",
        "\n",
        "if p_valor < 0.05:\n",
        "    print(\"Rejeitamos H0. Há uma diferença significativa entre as médias de alunos.\")\n",
        "else:\n",
        "    print(\"Não rejeitamos H0. Não há uma diferença significativa entre as médias de alunos.\\n\")\n",
        "\n",
        "sns.set(style=\"whitegrid\")\n",
        "plt.figure(figsize=(10, 6))\n",
        "plt.bar(np.arange(len(qnt_alunos1)), qnt_alunos1, width=0.4, label='1º Período')\n",
        "plt.bar(np.arange(len(qnt_alunos2)) + 0.4, qnt_alunos2, width=0.4, label='2º Período')\n",
        "plt.xlabel('Curso')\n",
        "plt.ylabel('Quantidade de Alunos')\n",
        "plt.title('Comparação da Quantidade de Alunos por Curso nos Dois Períodos')\n",
        "plt.legend()\n",
        "plt.xticks(np.arange(len(qnt_alunos1)), [f'C{i+1}' for i in range(len(qnt_alunos1))])\n",
        "plt.show()\n"
      ],
      "metadata": {
        "colab": {
          "base_uri": "https://localhost:8080/",
          "height": 625
        },
        "id": "SkJ8LKRu8x7R",
        "outputId": "e20b6b65-e88b-45c0-f632-c9ece9e36914"
      },
      "execution_count": null,
      "outputs": [
        {
          "output_type": "stream",
          "name": "stdout",
          "text": [
            "Estatística t: 12.861549775204974\n",
            "Valor p: 3.822141588911004e-09\n",
            "Rejeitamos H0. Há uma diferença significativa entre as médias de alunos.\n"
          ]
        },
        {
          "output_type": "display_data",
          "data": {
            "text/plain": [
              "<Figure size 1000x600 with 1 Axes>"
            ],
            "image/png": "[encoded data removed]"
          },
          "metadata": {}
        }
      ]
    }
  ]
}