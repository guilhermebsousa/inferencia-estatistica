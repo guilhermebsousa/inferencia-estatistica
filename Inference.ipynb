{
  "nbformat": 4,
  "nbformat_minor": 0,
  "metadata": {
    "colab": {
      "provenance": []
    },
    "kernelspec": {
      "name": "python3",
      "display_name": "Python 3"
    },
    "language_info": {
      "name": "python"
    }
  },
  "cells": [
    {
      "cell_type": "markdown",
      "source": [
        "# Testes de hipóteses\n",
        "## Grupo: Thiago Rodrigues, Guilherme Barboza, Gisele de Freitas\n",
        "O objetivo é implementar testes de hipoteses com Python, na mesma medida que aprendemos os assuntos. Abaixo está uma lista dos testes de hipóteses implementados:\n",
        "- Kolmogorov Smirnov\n",
        "- Shapiro -Wilk\n",
        "- O teste x^2 de Bortlett\n",
        "- Teste de Média Populacional (Zcalc)\n",
        "- Teste T-student\n",
        "\n",
        "Utilizamos materiais  e aulas produzidas e ministradas pelo professor Roberto Quirino do Nascimento para aprender e desenvolver os códigos abaixo. Algo importante sobre o tema e os seguintes testes é que uma **hipótese estatística**  é uma suposição sobre determinado parâmetro da população, como média, desvio-padrão, coeficiente de correlação, etc. Já um **teste de hipótese** é um procedimento para decisão sobre a veracidade ou falsidade de determinada hipótese. Para que uma hipótese estatística seja validada ou rejeitada com certeza, seria necessário examinarmos toda a população, o que na prática é inviável. Como alternativa, extraímos uma amostra aleatória da população de interesse. Como a decisão é tomada com base na amostra, podem ocorrer erros (rejeitar uma hipótese\n",
        "quando ela for verdadeira ou não rejeitar uma hipótese quando ela for falsa), como será visto mais adiante. Ademais, o procedimento para a construção dos testes de hipóteses envolve as seguintes etapas:\n",
        "\n",
        "- Passo 1: Escolher o teste estatístico adequado, dado o intuito do pesquisador.\n",
        "- Passo 2: Apresentar a hipótese nula H0 e a hipótese alternativa H1 do teste.\n",
        "- Passo 3: Fixar o nível de significância α.\n",
        "- Passo 4: Calcular o valor observado da estatística do teste com base na amostra extraída da população.\n",
        "- Passo 5: Determinar a região crítica do teste em função do valor de α fixado no passo 3.\n",
        "- Passo 6: Decidir - se o valor da estatística pertencer à região crítica, rejeitar H0; caso contrário, não rejeitar H0.\n"
      ],
      "metadata": {
        "id": "7gJCLaayP_5M"
      }
    },
    {
      "cell_type": "markdown",
      "source": [
        "## Kolmogorov Smirnov\n",
        "O teste de Kolmogorov-Smirnov (K-S) é um teste de aderência, isto é, compara a distribuição de frequências acumuladas de um conjunto de valores\n",
        "amostrais (valores observados) com uma distribuição teórica. O objetivo é testar se os valores amostrais são oriundos de uma população com\n",
        "suposta distribuição teórica ou esperada, neste caso a distribuição normal. A estatística do teste é o ponto de maior diferença (em valor absoluto)\n",
        "entre as duas distribuições.\n",
        "Para utilização do teste de K-S, a média e o desvio-padrão da população devem ser conhecidos. Para pequenas amostras, o teste perde potência, de\n",
        "modo que deve ser utilizado em amostras grandes (n≥ 30). Obs: para esse tipo de amostra pequena, anteriormente utilizamos uma função e uma tabela prefinida para esses \"Valores críticos\"\n",
        "\n",
        "Para utilização do teste de K-S, a média e o desvio-padrão da população devem ser conhecidos. Para pequenas amostras, o teste perde potência, de\n",
        "modo que deve ser utilizado em amostras grandes (n≥ 30).\n",
        "O teste de K-S assume as seguintes hipóteses:\n",
        "\n",
        "H0.: a amostra provém de uma população com distribuição N (µ, σ)\n",
        "\n",
        "H1: a amostra não provém de uma população com distribuição N (µ, σ)\n",
        "Seja Fesp(X) uma função de distribuição esperada (normal) de frequências relativas acumuladas da variável X, em que Fesp(X) ~ N (µ, σ), e Fobs,(X)\n",
        "a distribuição de frequências relativas acumuladas observada da variável X.\n",
        "\n",
        "O objetivo é testar se\n",
        "H0.: Fobs(X) = Fesp(X)\n",
        "contra a alternativa de que\n",
        "H1: Fobs(X) ≠Fesp(X).\n",
        "\n",
        "A estatística do teste é:\n",
        "𝐷𝑐𝑎𝑙 = 𝑚𝑎𝑥{|𝐹𝑒𝑠𝑝(𝑋𝑖\n",
        ") −𝐹𝑜𝑏𝑠(𝑋𝑖\n",
        ")|,|𝐹𝑒𝑠𝑝(𝑋𝑖\n",
        ") −𝐹𝑜𝑏𝑠(𝑋𝑖−1\n",
        ")|}, 𝑖 = 1,2 … , 𝑛.\n",
        "em que:\n",
        "𝐹𝑒𝑠𝑝(𝑋𝑖\n",
        ") : frequência relativa acumulada esperada na categoria i;\n",
        "𝐹𝑜𝑏𝑠(𝑋𝑖\n",
        ") : frequência relativa acumulada observada na categoria i;\n",
        "𝐹𝑜𝑏𝑠(𝑋𝑖−1\n",
        ") : frequência relativa acumulada observada na categoria i - 1."
      ],
      "metadata": {
        "id": "MMfFnGzVQiNg"
      }
    },
    {
      "cell_type": "markdown",
      "source": [
        "### Bibliotecas usadas:"
      ],
      "metadata": {
        "id": "J6b49N8YBAVu"
      }
    },
    {
      "cell_type": "code",
      "source": [
        "import scipy.stats as stats\n",
        "import numpy as np\n",
        "from scipy.stats import bartlett\n",
        "import matplotlib.pyplot as plt\n",
        "import random\n",
        "from scipy.stats import norm\n",
        "import pandas as pd"
      ],
      "metadata": {
        "id": "g96qnhC8BEP8"
      },
      "execution_count": null,
      "outputs": []
    },
    {
      "cell_type": "markdown",
      "source": [
        "### Função ```amostra_aleatoria``` para gerar amostras aleatórias:"
      ],
      "metadata": {
        "id": "yowVUPkXnDYQ"
      }
    },
    {
      "cell_type": "code",
      "source": [
        "def amostra_aleatoria(limite_inferior, limite_superior, tamanho_amostra, probabilidades=None):\n",
        "    if probabilidades is None:\n",
        "        return [random.randint(limite_inferior, limite_superior) for _ in range(tamanho_amostra)]\n",
        "    else:\n",
        "        amostra = []\n",
        "        probabilidades_normalizadas = [p / sum(probabilidades) for p in probabilidades]\n",
        "\n",
        "        for _ in range(tamanho_amostra):\n",
        "            valor = random.choices(range(limite_inferior, limite_superior + 1), weights=probabilidades_normalizadas)[0]\n",
        "            amostra.append(valor)\n",
        "\n",
        "        return amostra\n",
        "\n",
        "# Exemplo de uso\n",
        "limite_inferior = 1\n",
        "limite_superior = 11\n",
        "tamanho_amostra = 200\n",
        "probabilidades = [1, 2, 3, 4, 5, 6, 5, 4, 3, 2, 1]\n",
        "amostra = amostra_aleatoria(limite_inferior, limite_superior, tamanho_amostra, probabilidades)\n",
        "amostra = amostra_aleatoria(1,11,100)"
      ],
      "metadata": {
        "id": "n6CF8MGDm9vv"
      },
      "execution_count": null,
      "outputs": []
    },
    {
      "cell_type": "markdown",
      "source": [
        "### Função ```calcular_medidas``` para mostrar medidas\n",
        "\n",
        "---\n",
        "\n",
        "da amostra:"
      ],
      "metadata": {
        "id": "-ZcrfWKnrAc4"
      }
    },
    {
      "cell_type": "code",
      "source": [
        "def calcular_medidas(amostra):\n",
        "    media = np.mean(amostra)\n",
        "    desvio_padrao = np.std(amostra)\n",
        "    erro_padrao = desvio_padrao / np.sqrt(len(amostra))\n",
        "    count = len(amostra)\n",
        "    variancia = np.var(amostra)\n",
        "    maximo = np.max(amostra)\n",
        "    minimo = np.min(amostra)\n",
        "\n",
        "    print(\"Estatísticas da Amostra:\")\n",
        "    print(f\"Média: {media}\")\n",
        "    print(f\"Desvio Padrão: {desvio_padrao}\")\n",
        "    print(f\"Erro Padrão: {erro_padrao}\")\n",
        "    print(f\"Contagem: {count}\")\n",
        "    print(f\"Variância: {variancia}\")\n",
        "    print(f\"Máximo: {maximo}\")\n",
        "    print(f\"Mínimo: {minimo}\")\n",
        "\n",
        "#Exemplo uso:\n",
        "calcular_medidas(amostra)"
      ],
      "metadata": {
        "colab": {
          "base_uri": "https://localhost:8080/"
        },
        "id": "QZrMgBxpspYO",
        "outputId": "ed8c9488-b21c-4ca3-dd01-c41ac3d12464"
      },
      "execution_count": null,
      "outputs": [
        {
          "output_type": "stream",
          "name": "stdout",
          "text": [
            "Estatísticas da Amostra:\n",
            "Média: 5.79\n",
            "Desvio Padrão: 3.1537120984642844\n",
            "Erro Padrão: 0.3153712098464284\n",
            "Contagem: 100\n",
            "Variância: 9.9459\n",
            "Máximo: 11\n",
            "Mínimo: 1\n"
          ]
        }
      ]
    },
    {
      "cell_type": "markdown",
      "source": [
        "### Função ```calcular_frequencias ``` para obter uma tabela com frequências acumalada, absoluta, relativa, acumulada observada."
      ],
      "metadata": {
        "id": "6O9SuPFEwpdD"
      }
    },
    {
      "cell_type": "code",
      "source": [
        "def calcular_frequencias(amostra):\n",
        "    # Contagem dos valores únicos na amostra\n",
        "    contagem_valores = pd.Series(amostra).value_counts().sort_index()\n",
        "\n",
        "    # Frequência acumulada\n",
        "    frequencia_acumulada = contagem_valores.cumsum()\n",
        "\n",
        "    # Frequência absoluta\n",
        "    frequencia_absoluta = contagem_valores.values\n",
        "\n",
        "    # Frequência relativa\n",
        "    tamanho_amostra = len(amostra)\n",
        "    frequencia_relativa = frequencia_absoluta / tamanho_amostra\n",
        "\n",
        "    # Frequência relativa acumulada\n",
        "    frequencia_relativa_acumulada = frequencia_relativa.cumsum()\n",
        "\n",
        "    # Criar DataFrame com os valores calculados\n",
        "    df = pd.DataFrame({\n",
        "        'X_i': contagem_valores.index,\n",
        "        'Frequência Absoluta': frequencia_absoluta,\n",
        "        'Frequência Acumulada': frequencia_acumulada.values,\n",
        "        'Frequência Relativa': frequencia_relativa,\n",
        "        'Frequência Observada': frequencia_relativa_acumulada\n",
        "    })\n",
        "\n",
        "    return df\n",
        "df = calcular_frequencias(amostra)\n",
        "df"
      ],
      "metadata": {
        "colab": {
          "base_uri": "https://localhost:8080/",
          "height": 390
        },
        "id": "hYIH4uCywn4T",
        "outputId": "6a9bc99b-6f62-4228-c069-72b0cb4f292c"
      },
      "execution_count": null,
      "outputs": [
        {
          "output_type": "execute_result",
          "data": {
            "text/plain": [
              "    X_i  Frequência Absoluta  Frequência Acumulada  Frequência Relativa  \\\n",
              "0     1                   14                    14                 0.14   \n",
              "1     2                    5                    19                 0.05   \n",
              "2     3                   11                    30                 0.11   \n",
              "3     4                    9                    39                 0.09   \n",
              "4     5                    6                    45                 0.06   \n",
              "5     6                   11                    56                 0.11   \n",
              "6     7                    6                    62                 0.06   \n",
              "7     8                   14                    76                 0.14   \n",
              "8     9                    9                    85                 0.09   \n",
              "9    10                   10                    95                 0.10   \n",
              "10   11                    5                   100                 0.05   \n",
              "\n",
              "    Frequência Observada  \n",
              "0                   0.14  \n",
              "1                   0.19  \n",
              "2                   0.30  \n",
              "3                   0.39  \n",
              "4                   0.45  \n",
              "5                   0.56  \n",
              "6                   0.62  \n",
              "7                   0.76  \n",
              "8                   0.85  \n",
              "9                   0.95  \n",
              "10                  1.00  "
            ],
            "text/html": [
              "\n",
              "  <div id=\"df-ec71d9de-4b7f-45c6-b45a-7720d960eeb8\" class=\"colab-df-container\">\n",
              "    <div>\n",
              "<style scoped>\n",
              "    .dataframe tbody tr th:only-of-type {\n",
              "        vertical-align: middle;\n",
              "    }\n",
              "\n",
              "    .dataframe tbody tr th {\n",
              "        vertical-align: top;\n",
              "    }\n",
              "\n",
              "    .dataframe thead th {\n",
              "        text-align: right;\n",
              "    }\n",
              "</style>\n",
              "<table border=\"1\" class=\"dataframe\">\n",
              "  <thead>\n",
              "    <tr style=\"text-align: right;\">\n",
              "      <th></th>\n",
              "      <th>X_i</th>\n",
              "      <th>Frequência Absoluta</th>\n",
              "      <th>Frequência Acumulada</th>\n",
              "      <th>Frequência Relativa</th>\n",
              "      <th>Frequência Observada</th>\n",
              "    </tr>\n",
              "  </thead>\n",
              "  <tbody>\n",
              "    <tr>\n",
              "      <th>0</th>\n",
              "      <td>1</td>\n",
              "      <td>14</td>\n",
              "      <td>14</td>\n",
              "      <td>0.14</td>\n",
              "      <td>0.14</td>\n",
              "    </tr>\n",
              "    <tr>\n",
              "      <th>1</th>\n",
              "      <td>2</td>\n",
              "      <td>5</td>\n",
              "      <td>19</td>\n",
              "      <td>0.05</td>\n",
              "      <td>0.19</td>\n",
              "    </tr>\n",
              "    <tr>\n",
              "      <th>2</th>\n",
              "      <td>3</td>\n",
              "      <td>11</td>\n",
              "      <td>30</td>\n",
              "      <td>0.11</td>\n",
              "      <td>0.30</td>\n",
              "    </tr>\n",
              "    <tr>\n",
              "      <th>3</th>\n",
              "      <td>4</td>\n",
              "      <td>9</td>\n",
              "      <td>39</td>\n",
              "      <td>0.09</td>\n",
              "      <td>0.39</td>\n",
              "    </tr>\n",
              "    <tr>\n",
              "      <th>4</th>\n",
              "      <td>5</td>\n",
              "      <td>6</td>\n",
              "      <td>45</td>\n",
              "      <td>0.06</td>\n",
              "      <td>0.45</td>\n",
              "    </tr>\n",
              "    <tr>\n",
              "      <th>5</th>\n",
              "      <td>6</td>\n",
              "      <td>11</td>\n",
              "      <td>56</td>\n",
              "      <td>0.11</td>\n",
              "      <td>0.56</td>\n",
              "    </tr>\n",
              "    <tr>\n",
              "      <th>6</th>\n",
              "      <td>7</td>\n",
              "      <td>6</td>\n",
              "      <td>62</td>\n",
              "      <td>0.06</td>\n",
              "      <td>0.62</td>\n",
              "    </tr>\n",
              "    <tr>\n",
              "      <th>7</th>\n",
              "      <td>8</td>\n",
              "      <td>14</td>\n",
              "      <td>76</td>\n",
              "      <td>0.14</td>\n",
              "      <td>0.76</td>\n",
              "    </tr>\n",
              "    <tr>\n",
              "      <th>8</th>\n",
              "      <td>9</td>\n",
              "      <td>9</td>\n",
              "      <td>85</td>\n",
              "      <td>0.09</td>\n",
              "      <td>0.85</td>\n",
              "    </tr>\n",
              "    <tr>\n",
              "      <th>9</th>\n",
              "      <td>10</td>\n",
              "      <td>10</td>\n",
              "      <td>95</td>\n",
              "      <td>0.10</td>\n",
              "      <td>0.95</td>\n",
              "    </tr>\n",
              "    <tr>\n",
              "      <th>10</th>\n",
              "      <td>11</td>\n",
              "      <td>5</td>\n",
              "      <td>100</td>\n",
              "      <td>0.05</td>\n",
              "      <td>1.00</td>\n",
              "    </tr>\n",
              "  </tbody>\n",
              "</table>\n",
              "</div>\n",
              "    <div class=\"colab-df-buttons\">\n",
              "\n",
              "  <div class=\"colab-df-container\">\n",
              "    <button class=\"colab-df-convert\" onclick=\"convertToInteractive('df-ec71d9de-4b7f-45c6-b45a-7720d960eeb8')\"\n",
              "            title=\"Convert this dataframe to an interactive table.\"\n",
              "            style=\"display:none;\">\n",
              "\n",
              "  <svg xmlns=\"http://www.w3.org/2000/svg\" height=\"24px\" viewBox=\"0 -960 960 960\">\n",
              "    <path d=\"M120-120v-720h720v720H120Zm60-500h600v-160H180v160Zm220 220h160v-160H400v160Zm0 220h160v-160H400v160ZM180-400h160v-160H180v160Zm440 0h160v-160H620v160ZM180-180h160v-160H180v160Zm440 0h160v-160H620v160Z\"/>\n",
              "  </svg>\n",
              "    </button>\n",
              "\n",
              "  <style>\n",
              "    .colab-df-container {\n",
              "      display:flex;\n",
              "      gap: 12px;\n",
              "    }\n",
              "\n",
              "    .colab-df-convert {\n",
              "      background-color: #E8F0FE;\n",
              "      border: none;\n",
              "      border-radius: 50%;\n",
              "      cursor: pointer;\n",
              "      display: none;\n",
              "      fill: #1967D2;\n",
              "      height: 32px;\n",
              "      padding: 0 0 0 0;\n",
              "      width: 32px;\n",
              "    }\n",
              "\n",
              "    .colab-df-convert:hover {\n",
              "      background-color: #E2EBFA;\n",
              "      box-shadow: 0px 1px 2px rgba(60, 64, 67, 0.3), 0px 1px 3px 1px rgba(60, 64, 67, 0.15);\n",
              "      fill: #174EA6;\n",
              "    }\n",
              "\n",
              "    .colab-df-buttons div {\n",
              "      margin-bottom: 4px;\n",
              "    }\n",
              "\n",
              "    [theme=dark] .colab-df-convert {\n",
              "      background-color: #3B4455;\n",
              "      fill: #D2E3FC;\n",
              "    }\n",
              "\n",
              "    [theme=dark] .colab-df-convert:hover {\n",
              "      background-color: #434B5C;\n",
              "      box-shadow: 0px 1px 3px 1px rgba(0, 0, 0, 0.15);\n",
              "      filter: drop-shadow(0px 1px 2px rgba(0, 0, 0, 0.3));\n",
              "      fill: #FFFFFF;\n",
              "    }\n",
              "  </style>\n",
              "\n",
              "    <script>\n",
              "      const buttonEl =\n",
              "        document.querySelector('#df-ec71d9de-4b7f-45c6-b45a-7720d960eeb8 button.colab-df-convert');\n",
              "      buttonEl.style.display =\n",
              "        google.colab.kernel.accessAllowed ? 'block' : 'none';\n",
              "\n",
              "      async function convertToInteractive(key) {\n",
              "        const element = document.querySelector('#df-ec71d9de-4b7f-45c6-b45a-7720d960eeb8');\n",
              "        const dataTable =\n",
              "          await google.colab.kernel.invokeFunction('convertToInteractive',\n",
              "                                                    [key], {});\n",
              "        if (!dataTable) return;\n",
              "\n",
              "        const docLinkHtml = 'Like what you see? Visit the ' +\n",
              "          '<a target=\"_blank\" href=https://colab.research.google.com/notebooks/data_table.ipynb>data table notebook</a>'\n",
              "          + ' to learn more about interactive tables.';\n",
              "        element.innerHTML = '';\n",
              "        dataTable['output_type'] = 'display_data';\n",
              "        await google.colab.output.renderOutput(dataTable, element);\n",
              "        const docLink = document.createElement('div');\n",
              "        docLink.innerHTML = docLinkHtml;\n",
              "        element.appendChild(docLink);\n",
              "      }\n",
              "    </script>\n",
              "  </div>\n",
              "\n",
              "\n",
              "<div id=\"df-be477956-a00b-4143-8106-c2a05ea25e6b\">\n",
              "  <button class=\"colab-df-quickchart\" onclick=\"quickchart('df-be477956-a00b-4143-8106-c2a05ea25e6b')\"\n",
              "            title=\"Suggest charts\"\n",
              "            style=\"display:none;\">\n",
              "\n",
              "<svg xmlns=\"http://www.w3.org/2000/svg\" height=\"24px\"viewBox=\"0 0 24 24\"\n",
              "     width=\"24px\">\n",
              "    <g>\n",
              "        <path d=\"M19 3H5c-1.1 0-2 .9-2 2v14c0 1.1.9 2 2 2h14c1.1 0 2-.9 2-2V5c0-1.1-.9-2-2-2zM9 17H7v-7h2v7zm4 0h-2V7h2v10zm4 0h-2v-4h2v4z\"/>\n",
              "    </g>\n",
              "</svg>\n",
              "  </button>\n",
              "\n",
              "<style>\n",
              "  .colab-df-quickchart {\n",
              "      --bg-color: #E8F0FE;\n",
              "      --fill-color: #1967D2;\n",
              "      --hover-bg-color: #E2EBFA;\n",
              "      --hover-fill-color: #174EA6;\n",
              "      --disabled-fill-color: #AAA;\n",
              "      --disabled-bg-color: #DDD;\n",
              "  }\n",
              "\n",
              "  [theme=dark] .colab-df-quickchart {\n",
              "      --bg-color: #3B4455;\n",
              "      --fill-color: #D2E3FC;\n",
              "      --hover-bg-color: #434B5C;\n",
              "      --hover-fill-color: #FFFFFF;\n",
              "      --disabled-bg-color: #3B4455;\n",
              "      --disabled-fill-color: #666;\n",
              "  }\n",
              "\n",
              "  .colab-df-quickchart {\n",
              "    background-color: var(--bg-color);\n",
              "    border: none;\n",
              "    border-radius: 50%;\n",
              "    cursor: pointer;\n",
              "    display: none;\n",
              "    fill: var(--fill-color);\n",
              "    height: 32px;\n",
              "    padding: 0;\n",
              "    width: 32px;\n",
              "  }\n",
              "\n",
              "  .colab-df-quickchart:hover {\n",
              "    background-color: var(--hover-bg-color);\n",
              "    box-shadow: 0 1px 2px rgba(60, 64, 67, 0.3), 0 1px 3px 1px rgba(60, 64, 67, 0.15);\n",
              "    fill: var(--button-hover-fill-color);\n",
              "  }\n",
              "\n",
              "  .colab-df-quickchart-complete:disabled,\n",
              "  .colab-df-quickchart-complete:disabled:hover {\n",
              "    background-color: var(--disabled-bg-color);\n",
              "    fill: var(--disabled-fill-color);\n",
              "    box-shadow: none;\n",
              "  }\n",
              "\n",
              "  .colab-df-spinner {\n",
              "    border: 2px solid var(--fill-color);\n",
              "    border-color: transparent;\n",
              "    border-bottom-color: var(--fill-color);\n",
              "    animation:\n",
              "      spin 1s steps(1) infinite;\n",
              "  }\n",
              "\n",
              "  @keyframes spin {\n",
              "    0% {\n",
              "      border-color: transparent;\n",
              "      border-bottom-color: var(--fill-color);\n",
              "      border-left-color: var(--fill-color);\n",
              "    }\n",
              "    20% {\n",
              "      border-color: transparent;\n",
              "      border-left-color: var(--fill-color);\n",
              "      border-top-color: var(--fill-color);\n",
              "    }\n",
              "    30% {\n",
              "      border-color: transparent;\n",
              "      border-left-color: var(--fill-color);\n",
              "      border-top-color: var(--fill-color);\n",
              "      border-right-color: var(--fill-color);\n",
              "    }\n",
              "    40% {\n",
              "      border-color: transparent;\n",
              "      border-right-color: var(--fill-color);\n",
              "      border-top-color: var(--fill-color);\n",
              "    }\n",
              "    60% {\n",
              "      border-color: transparent;\n",
              "      border-right-color: var(--fill-color);\n",
              "    }\n",
              "    80% {\n",
              "      border-color: transparent;\n",
              "      border-right-color: var(--fill-color);\n",
              "      border-bottom-color: var(--fill-color);\n",
              "    }\n",
              "    90% {\n",
              "      border-color: transparent;\n",
              "      border-bottom-color: var(--fill-color);\n",
              "    }\n",
              "  }\n",
              "</style>\n",
              "\n",
              "  <script>\n",
              "    async function quickchart(key) {\n",
              "      const quickchartButtonEl =\n",
              "        document.querySelector('#' + key + ' button');\n",
              "      quickchartButtonEl.disabled = true;  // To prevent multiple clicks.\n",
              "      quickchartButtonEl.classList.add('colab-df-spinner');\n",
              "      try {\n",
              "        const charts = await google.colab.kernel.invokeFunction(\n",
              "            'suggestCharts', [key], {});\n",
              "      } catch (error) {\n",
              "        console.error('Error during call to suggestCharts:', error);\n",
              "      }\n",
              "      quickchartButtonEl.classList.remove('colab-df-spinner');\n",
              "      quickchartButtonEl.classList.add('colab-df-quickchart-complete');\n",
              "    }\n",
              "    (() => {\n",
              "      let quickchartButtonEl =\n",
              "        document.querySelector('#df-be477956-a00b-4143-8106-c2a05ea25e6b button');\n",
              "      quickchartButtonEl.style.display =\n",
              "        google.colab.kernel.accessAllowed ? 'block' : 'none';\n",
              "    })();\n",
              "  </script>\n",
              "</div>\n",
              "\n",
              "  <div id=\"id_849d8e8e-e500-49d8-970d-57ef8b5b2aac\">\n",
              "    <style>\n",
              "      .colab-df-generate {\n",
              "        background-color: #E8F0FE;\n",
              "        border: none;\n",
              "        border-radius: 50%;\n",
              "        cursor: pointer;\n",
              "        display: none;\n",
              "        fill: #1967D2;\n",
              "        height: 32px;\n",
              "        padding: 0 0 0 0;\n",
              "        width: 32px;\n",
              "      }\n",
              "\n",
              "      .colab-df-generate:hover {\n",
              "        background-color: #E2EBFA;\n",
              "        box-shadow: 0px 1px 2px rgba(60, 64, 67, 0.3), 0px 1px 3px 1px rgba(60, 64, 67, 0.15);\n",
              "        fill: #174EA6;\n",
              "      }\n",
              "\n",
              "      [theme=dark] .colab-df-generate {\n",
              "        background-color: #3B4455;\n",
              "        fill: #D2E3FC;\n",
              "      }\n",
              "\n",
              "      [theme=dark] .colab-df-generate:hover {\n",
              "        background-color: #434B5C;\n",
              "        box-shadow: 0px 1px 3px 1px rgba(0, 0, 0, 0.15);\n",
              "        filter: drop-shadow(0px 1px 2px rgba(0, 0, 0, 0.3));\n",
              "        fill: #FFFFFF;\n",
              "      }\n",
              "    </style>\n",
              "    <button class=\"colab-df-generate\" onclick=\"generateWithVariable('df')\"\n",
              "            title=\"Generate code using this dataframe.\"\n",
              "            style=\"display:none;\">\n",
              "\n",
              "  <svg xmlns=\"http://www.w3.org/2000/svg\" height=\"24px\"viewBox=\"0 0 24 24\"\n",
              "       width=\"24px\">\n",
              "    <path d=\"M7,19H8.4L18.45,9,17,7.55,7,17.6ZM5,21V16.75L18.45,3.32a2,2,0,0,1,2.83,0l1.4,1.43a1.91,1.91,0,0,1,.58,1.4,1.91,1.91,0,0,1-.58,1.4L9.25,21ZM18.45,9,17,7.55Zm-12,3A5.31,5.31,0,0,0,4.9,8.1,5.31,5.31,0,0,0,1,6.5,5.31,5.31,0,0,0,4.9,4.9,5.31,5.31,0,0,0,6.5,1,5.31,5.31,0,0,0,8.1,4.9,5.31,5.31,0,0,0,12,6.5,5.46,5.46,0,0,0,6.5,12Z\"/>\n",
              "  </svg>\n",
              "    </button>\n",
              "    <script>\n",
              "      (() => {\n",
              "      const buttonEl =\n",
              "        document.querySelector('#id_849d8e8e-e500-49d8-970d-57ef8b5b2aac button.colab-df-generate');\n",
              "      buttonEl.style.display =\n",
              "        google.colab.kernel.accessAllowed ? 'block' : 'none';\n",
              "\n",
              "      buttonEl.onclick = () => {\n",
              "        google.colab.notebook.generateWithVariable('df');\n",
              "      }\n",
              "      })();\n",
              "    </script>\n",
              "  </div>\n",
              "\n",
              "    </div>\n",
              "  </div>\n"
            ],
            "application/vnd.google.colaboratory.intrinsic+json": {
              "type": "dataframe",
              "variable_name": "df",
              "summary": "{\n  \"name\": \"df\",\n  \"rows\": 11,\n  \"fields\": [\n    {\n      \"column\": \"X_i\",\n      \"properties\": {\n        \"dtype\": \"number\",\n        \"std\": 3,\n        \"min\": 1,\n        \"max\": 11,\n        \"num_unique_values\": 11,\n        \"samples\": [\n          6,\n          1,\n          10\n        ],\n        \"semantic_type\": \"\",\n        \"description\": \"\"\n      }\n    },\n    {\n      \"column\": \"Frequ\\u00eancia Absoluta\",\n      \"properties\": {\n        \"dtype\": \"number\",\n        \"std\": 3,\n        \"min\": 5,\n        \"max\": 14,\n        \"num_unique_values\": 6,\n        \"samples\": [\n          14,\n          5,\n          10\n        ],\n        \"semantic_type\": \"\",\n        \"description\": \"\"\n      }\n    },\n    {\n      \"column\": \"Frequ\\u00eancia Acumulada\",\n      \"properties\": {\n        \"dtype\": \"number\",\n        \"std\": 29,\n        \"min\": 14,\n        \"max\": 100,\n        \"num_unique_values\": 11,\n        \"samples\": [\n          56,\n          14,\n          95\n        ],\n        \"semantic_type\": \"\",\n        \"description\": \"\"\n      }\n    },\n    {\n      \"column\": \"Frequ\\u00eancia Relativa\",\n      \"properties\": {\n        \"dtype\": \"number\",\n        \"std\": 0.033001377381723165,\n        \"min\": 0.05,\n        \"max\": 0.14,\n        \"num_unique_values\": 6,\n        \"samples\": [\n          0.14,\n          0.05,\n          0.1\n        ],\n        \"semantic_type\": \"\",\n        \"description\": \"\"\n      }\n    },\n    {\n      \"column\": \"Frequ\\u00eancia Observada\",\n      \"properties\": {\n        \"dtype\": \"number\",\n        \"std\": 0.29917766080921343,\n        \"min\": 0.14,\n        \"max\": 1.0,\n        \"num_unique_values\": 11,\n        \"samples\": [\n          0.56,\n          0.14,\n          0.9500000000000001\n        ],\n        \"semantic_type\": \"\",\n        \"description\": \"\"\n      }\n    }\n  ]\n}"
            }
          },
          "metadata": {},
          "execution_count": 24
        }
      ]
    },
    {
      "cell_type": "markdown",
      "source": [
        "### Calculos necessários para obter  Dcal:\n",
        "Primeiramente, calculamos o Zi, para isso é necessário calcular o valor da expressão abaixo e observar  o resultado em uma tabela, nesse caso, há um biblioteca: $$\n",
        "\\frac{X_i - μ}{σ}$$\n",
        "A partir do valor de Z, nós podemos obter um valor para frequência esperada. Por fim, nós realizamos os sequintes calculos e adicionamos na tabela."
      ],
      "metadata": {
        "id": "ygiBj0dLzroc"
      }
    },
    {
      "cell_type": "code",
      "source": [
        "def calculos_Dcal(df, amostra):\n",
        "  df['Zi'] = (df['X_i'] - np.mean(amostra)) / np.std(amostra)\n",
        "  df['Frequência Esperada'] = norm.cdf(df['Zi'])\n",
        "  df['|F_esp(X_i)-F_obs(X_i)|'] = abs(df['Frequência Esperada']- df['Frequência Observada'])\n",
        "  df['|F_esp(X_i)-F_obs(X_{i-1})|'] = abs(df['Frequência Esperada'] - df['Frequência Observada'].shift(fill_value=0))\n",
        "  return df\n",
        "\n",
        "df = calculos_Dcal(df,amostra)\n",
        "df"
      ],
      "metadata": {
        "colab": {
          "base_uri": "https://localhost:8080/",
          "height": 407
        },
        "id": "hRNZQ9JS345D",
        "outputId": "60422707-ba7b-4228-a9d4-e5586a89e278"
      },
      "execution_count": null,
      "outputs": [
        {
          "output_type": "execute_result",
          "data": {
            "text/plain": [
              "    X_i  Frequência Absoluta  Frequência Acumulada  Frequência Relativa  \\\n",
              "0     1                   14                    14                 0.14   \n",
              "1     2                    5                    19                 0.05   \n",
              "2     3                   11                    30                 0.11   \n",
              "3     4                    9                    39                 0.09   \n",
              "4     5                    6                    45                 0.06   \n",
              "5     6                   11                    56                 0.11   \n",
              "6     7                    6                    62                 0.06   \n",
              "7     8                   14                    76                 0.14   \n",
              "8     9                    9                    85                 0.09   \n",
              "9    10                   10                    95                 0.10   \n",
              "10   11                    5                   100                 0.05   \n",
              "\n",
              "    Frequência Observada        Zi  Frequência Esperada  \\\n",
              "0                   0.14 -1.518845             0.064401   \n",
              "1                   0.19 -1.201758             0.114729   \n",
              "2                   0.30 -0.884672             0.188167   \n",
              "3                   0.39 -0.567585             0.285158   \n",
              "4                   0.45 -0.250498             0.401101   \n",
              "5                   0.56  0.066588             0.526545   \n",
              "6                   0.62  0.383675             0.649390   \n",
              "7                   0.76  0.700761             0.758274   \n",
              "8                   0.85  1.017848             0.845625   \n",
              "9                   0.95  1.334935             0.909051   \n",
              "10                  1.00  1.652021             0.950735   \n",
              "\n",
              "    |F_esp(X_i)-F_obs(X_i)|  |F_esp(X_i)-F_obs(X_{i-1})|  \n",
              "0                  0.075599                     0.064401  \n",
              "1                  0.075271                     0.025271  \n",
              "2                  0.111833                     0.001833  \n",
              "3                  0.104842                     0.014842  \n",
              "4                  0.048899                     0.011101  \n",
              "5                  0.033455                     0.076545  \n",
              "6                  0.029390                     0.089390  \n",
              "7                  0.001726                     0.138274  \n",
              "8                  0.004375                     0.085625  \n",
              "9                  0.040949                     0.059051  \n",
              "10                 0.049265                     0.000735  "
            ],
            "text/html": [
              "\n",
              "  <div id=\"df-65a6ad93-98a3-4372-b44a-55230c0b8724\" class=\"colab-df-container\">\n",
              "    <div>\n",
              "<style scoped>\n",
              "    .dataframe tbody tr th:only-of-type {\n",
              "        vertical-align: middle;\n",
              "    }\n",
              "\n",
              "    .dataframe tbody tr th {\n",
              "        vertical-align: top;\n",
              "    }\n",
              "\n",
              "    .dataframe thead th {\n",
              "        text-align: right;\n",
              "    }\n",
              "</style>\n",
              "<table border=\"1\" class=\"dataframe\">\n",
              "  <thead>\n",
              "    <tr style=\"text-align: right;\">\n",
              "      <th></th>\n",
              "      <th>X_i</th>\n",
              "      <th>Frequência Absoluta</th>\n",
              "      <th>Frequência Acumulada</th>\n",
              "      <th>Frequência Relativa</th>\n",
              "      <th>Frequência Observada</th>\n",
              "      <th>Zi</th>\n",
              "      <th>Frequência Esperada</th>\n",
              "      <th>|F_esp(X_i)-F_obs(X_i)|</th>\n",
              "      <th>|F_esp(X_i)-F_obs(X_{i-1})|</th>\n",
              "    </tr>\n",
              "  </thead>\n",
              "  <tbody>\n",
              "    <tr>\n",
              "      <th>0</th>\n",
              "      <td>1</td>\n",
              "      <td>14</td>\n",
              "      <td>14</td>\n",
              "      <td>0.14</td>\n",
              "      <td>0.14</td>\n",
              "      <td>-1.518845</td>\n",
              "      <td>0.064401</td>\n",
              "      <td>0.075599</td>\n",
              "      <td>0.064401</td>\n",
              "    </tr>\n",
              "    <tr>\n",
              "      <th>1</th>\n",
              "      <td>2</td>\n",
              "      <td>5</td>\n",
              "      <td>19</td>\n",
              "      <td>0.05</td>\n",
              "      <td>0.19</td>\n",
              "      <td>-1.201758</td>\n",
              "      <td>0.114729</td>\n",
              "      <td>0.075271</td>\n",
              "      <td>0.025271</td>\n",
              "    </tr>\n",
              "    <tr>\n",
              "      <th>2</th>\n",
              "      <td>3</td>\n",
              "      <td>11</td>\n",
              "      <td>30</td>\n",
              "      <td>0.11</td>\n",
              "      <td>0.30</td>\n",
              "      <td>-0.884672</td>\n",
              "      <td>0.188167</td>\n",
              "      <td>0.111833</td>\n",
              "      <td>0.001833</td>\n",
              "    </tr>\n",
              "    <tr>\n",
              "      <th>3</th>\n",
              "      <td>4</td>\n",
              "      <td>9</td>\n",
              "      <td>39</td>\n",
              "      <td>0.09</td>\n",
              "      <td>0.39</td>\n",
              "      <td>-0.567585</td>\n",
              "      <td>0.285158</td>\n",
              "      <td>0.104842</td>\n",
              "      <td>0.014842</td>\n",
              "    </tr>\n",
              "    <tr>\n",
              "      <th>4</th>\n",
              "      <td>5</td>\n",
              "      <td>6</td>\n",
              "      <td>45</td>\n",
              "      <td>0.06</td>\n",
              "      <td>0.45</td>\n",
              "      <td>-0.250498</td>\n",
              "      <td>0.401101</td>\n",
              "      <td>0.048899</td>\n",
              "      <td>0.011101</td>\n",
              "    </tr>\n",
              "    <tr>\n",
              "      <th>5</th>\n",
              "      <td>6</td>\n",
              "      <td>11</td>\n",
              "      <td>56</td>\n",
              "      <td>0.11</td>\n",
              "      <td>0.56</td>\n",
              "      <td>0.066588</td>\n",
              "      <td>0.526545</td>\n",
              "      <td>0.033455</td>\n",
              "      <td>0.076545</td>\n",
              "    </tr>\n",
              "    <tr>\n",
              "      <th>6</th>\n",
              "      <td>7</td>\n",
              "      <td>6</td>\n",
              "      <td>62</td>\n",
              "      <td>0.06</td>\n",
              "      <td>0.62</td>\n",
              "      <td>0.383675</td>\n",
              "      <td>0.649390</td>\n",
              "      <td>0.029390</td>\n",
              "      <td>0.089390</td>\n",
              "    </tr>\n",
              "    <tr>\n",
              "      <th>7</th>\n",
              "      <td>8</td>\n",
              "      <td>14</td>\n",
              "      <td>76</td>\n",
              "      <td>0.14</td>\n",
              "      <td>0.76</td>\n",
              "      <td>0.700761</td>\n",
              "      <td>0.758274</td>\n",
              "      <td>0.001726</td>\n",
              "      <td>0.138274</td>\n",
              "    </tr>\n",
              "    <tr>\n",
              "      <th>8</th>\n",
              "      <td>9</td>\n",
              "      <td>9</td>\n",
              "      <td>85</td>\n",
              "      <td>0.09</td>\n",
              "      <td>0.85</td>\n",
              "      <td>1.017848</td>\n",
              "      <td>0.845625</td>\n",
              "      <td>0.004375</td>\n",
              "      <td>0.085625</td>\n",
              "    </tr>\n",
              "    <tr>\n",
              "      <th>9</th>\n",
              "      <td>10</td>\n",
              "      <td>10</td>\n",
              "      <td>95</td>\n",
              "      <td>0.10</td>\n",
              "      <td>0.95</td>\n",
              "      <td>1.334935</td>\n",
              "      <td>0.909051</td>\n",
              "      <td>0.040949</td>\n",
              "      <td>0.059051</td>\n",
              "    </tr>\n",
              "    <tr>\n",
              "      <th>10</th>\n",
              "      <td>11</td>\n",
              "      <td>5</td>\n",
              "      <td>100</td>\n",
              "      <td>0.05</td>\n",
              "      <td>1.00</td>\n",
              "      <td>1.652021</td>\n",
              "      <td>0.950735</td>\n",
              "      <td>0.049265</td>\n",
              "      <td>0.000735</td>\n",
              "    </tr>\n",
              "  </tbody>\n",
              "</table>\n",
              "</div>\n",
              "    <div class=\"colab-df-buttons\">\n",
              "\n",
              "  <div class=\"colab-df-container\">\n",
              "    <button class=\"colab-df-convert\" onclick=\"convertToInteractive('df-65a6ad93-98a3-4372-b44a-55230c0b8724')\"\n",
              "            title=\"Convert this dataframe to an interactive table.\"\n",
              "            style=\"display:none;\">\n",
              "\n",
              "  <svg xmlns=\"http://www.w3.org/2000/svg\" height=\"24px\" viewBox=\"0 -960 960 960\">\n",
              "    <path d=\"M120-120v-720h720v720H120Zm60-500h600v-160H180v160Zm220 220h160v-160H400v160Zm0 220h160v-160H400v160ZM180-400h160v-160H180v160Zm440 0h160v-160H620v160ZM180-180h160v-160H180v160Zm440 0h160v-160H620v160Z\"/>\n",
              "  </svg>\n",
              "    </button>\n",
              "\n",
              "  <style>\n",
              "    .colab-df-container {\n",
              "      display:flex;\n",
              "      gap: 12px;\n",
              "    }\n",
              "\n",
              "    .colab-df-convert {\n",
              "      background-color: #E8F0FE;\n",
              "      border: none;\n",
              "      border-radius: 50%;\n",
              "      cursor: pointer;\n",
              "      display: none;\n",
              "      fill: #1967D2;\n",
              "      height: 32px;\n",
              "      padding: 0 0 0 0;\n",
              "      width: 32px;\n",
              "    }\n",
              "\n",
              "    .colab-df-convert:hover {\n",
              "      background-color: #E2EBFA;\n",
              "      box-shadow: 0px 1px 2px rgba(60, 64, 67, 0.3), 0px 1px 3px 1px rgba(60, 64, 67, 0.15);\n",
              "      fill: #174EA6;\n",
              "    }\n",
              "\n",
              "    .colab-df-buttons div {\n",
              "      margin-bottom: 4px;\n",
              "    }\n",
              "\n",
              "    [theme=dark] .colab-df-convert {\n",
              "      background-color: #3B4455;\n",
              "      fill: #D2E3FC;\n",
              "    }\n",
              "\n",
              "    [theme=dark] .colab-df-convert:hover {\n",
              "      background-color: #434B5C;\n",
              "      box-shadow: 0px 1px 3px 1px rgba(0, 0, 0, 0.15);\n",
              "      filter: drop-shadow(0px 1px 2px rgba(0, 0, 0, 0.3));\n",
              "      fill: #FFFFFF;\n",
              "    }\n",
              "  </style>\n",
              "\n",
              "    <script>\n",
              "      const buttonEl =\n",
              "        document.querySelector('#df-65a6ad93-98a3-4372-b44a-55230c0b8724 button.colab-df-convert');\n",
              "      buttonEl.style.display =\n",
              "        google.colab.kernel.accessAllowed ? 'block' : 'none';\n",
              "\n",
              "      async function convertToInteractive(key) {\n",
              "        const element = document.querySelector('#df-65a6ad93-98a3-4372-b44a-55230c0b8724');\n",
              "        const dataTable =\n",
              "          await google.colab.kernel.invokeFunction('convertToInteractive',\n",
              "                                                    [key], {});\n",
              "        if (!dataTable) return;\n",
              "\n",
              "        const docLinkHtml = 'Like what you see? Visit the ' +\n",
              "          '<a target=\"_blank\" href=https://colab.research.google.com/notebooks/data_table.ipynb>data table notebook</a>'\n",
              "          + ' to learn more about interactive tables.';\n",
              "        element.innerHTML = '';\n",
              "        dataTable['output_type'] = 'display_data';\n",
              "        await google.colab.output.renderOutput(dataTable, element);\n",
              "        const docLink = document.createElement('div');\n",
              "        docLink.innerHTML = docLinkHtml;\n",
              "        element.appendChild(docLink);\n",
              "      }\n",
              "    </script>\n",
              "  </div>\n",
              "\n",
              "\n",
              "<div id=\"df-bb00f0d7-47fa-496b-9807-4280c2380594\">\n",
              "  <button class=\"colab-df-quickchart\" onclick=\"quickchart('df-bb00f0d7-47fa-496b-9807-4280c2380594')\"\n",
              "            title=\"Suggest charts\"\n",
              "            style=\"display:none;\">\n",
              "\n",
              "<svg xmlns=\"http://www.w3.org/2000/svg\" height=\"24px\"viewBox=\"0 0 24 24\"\n",
              "     width=\"24px\">\n",
              "    <g>\n",
              "        <path d=\"M19 3H5c-1.1 0-2 .9-2 2v14c0 1.1.9 2 2 2h14c1.1 0 2-.9 2-2V5c0-1.1-.9-2-2-2zM9 17H7v-7h2v7zm4 0h-2V7h2v10zm4 0h-2v-4h2v4z\"/>\n",
              "    </g>\n",
              "</svg>\n",
              "  </button>\n",
              "\n",
              "<style>\n",
              "  .colab-df-quickchart {\n",
              "      --bg-color: #E8F0FE;\n",
              "      --fill-color: #1967D2;\n",
              "      --hover-bg-color: #E2EBFA;\n",
              "      --hover-fill-color: #174EA6;\n",
              "      --disabled-fill-color: #AAA;\n",
              "      --disabled-bg-color: #DDD;\n",
              "  }\n",
              "\n",
              "  [theme=dark] .colab-df-quickchart {\n",
              "      --bg-color: #3B4455;\n",
              "      --fill-color: #D2E3FC;\n",
              "      --hover-bg-color: #434B5C;\n",
              "      --hover-fill-color: #FFFFFF;\n",
              "      --disabled-bg-color: #3B4455;\n",
              "      --disabled-fill-color: #666;\n",
              "  }\n",
              "\n",
              "  .colab-df-quickchart {\n",
              "    background-color: var(--bg-color);\n",
              "    border: none;\n",
              "    border-radius: 50%;\n",
              "    cursor: pointer;\n",
              "    display: none;\n",
              "    fill: var(--fill-color);\n",
              "    height: 32px;\n",
              "    padding: 0;\n",
              "    width: 32px;\n",
              "  }\n",
              "\n",
              "  .colab-df-quickchart:hover {\n",
              "    background-color: var(--hover-bg-color);\n",
              "    box-shadow: 0 1px 2px rgba(60, 64, 67, 0.3), 0 1px 3px 1px rgba(60, 64, 67, 0.15);\n",
              "    fill: var(--button-hover-fill-color);\n",
              "  }\n",
              "\n",
              "  .colab-df-quickchart-complete:disabled,\n",
              "  .colab-df-quickchart-complete:disabled:hover {\n",
              "    background-color: var(--disabled-bg-color);\n",
              "    fill: var(--disabled-fill-color);\n",
              "    box-shadow: none;\n",
              "  }\n",
              "\n",
              "  .colab-df-spinner {\n",
              "    border: 2px solid var(--fill-color);\n",
              "    border-color: transparent;\n",
              "    border-bottom-color: var(--fill-color);\n",
              "    animation:\n",
              "      spin 1s steps(1) infinite;\n",
              "  }\n",
              "\n",
              "  @keyframes spin {\n",
              "    0% {\n",
              "      border-color: transparent;\n",
              "      border-bottom-color: var(--fill-color);\n",
              "      border-left-color: var(--fill-color);\n",
              "    }\n",
              "    20% {\n",
              "      border-color: transparent;\n",
              "      border-left-color: var(--fill-color);\n",
              "      border-top-color: var(--fill-color);\n",
              "    }\n",
              "    30% {\n",
              "      border-color: transparent;\n",
              "      border-left-color: var(--fill-color);\n",
              "      border-top-color: var(--fill-color);\n",
              "      border-right-color: var(--fill-color);\n",
              "    }\n",
              "    40% {\n",
              "      border-color: transparent;\n",
              "      border-right-color: var(--fill-color);\n",
              "      border-top-color: var(--fill-color);\n",
              "    }\n",
              "    60% {\n",
              "      border-color: transparent;\n",
              "      border-right-color: var(--fill-color);\n",
              "    }\n",
              "    80% {\n",
              "      border-color: transparent;\n",
              "      border-right-color: var(--fill-color);\n",
              "      border-bottom-color: var(--fill-color);\n",
              "    }\n",
              "    90% {\n",
              "      border-color: transparent;\n",
              "      border-bottom-color: var(--fill-color);\n",
              "    }\n",
              "  }\n",
              "</style>\n",
              "\n",
              "  <script>\n",
              "    async function quickchart(key) {\n",
              "      const quickchartButtonEl =\n",
              "        document.querySelector('#' + key + ' button');\n",
              "      quickchartButtonEl.disabled = true;  // To prevent multiple clicks.\n",
              "      quickchartButtonEl.classList.add('colab-df-spinner');\n",
              "      try {\n",
              "        const charts = await google.colab.kernel.invokeFunction(\n",
              "            'suggestCharts', [key], {});\n",
              "      } catch (error) {\n",
              "        console.error('Error during call to suggestCharts:', error);\n",
              "      }\n",
              "      quickchartButtonEl.classList.remove('colab-df-spinner');\n",
              "      quickchartButtonEl.classList.add('colab-df-quickchart-complete');\n",
              "    }\n",
              "    (() => {\n",
              "      let quickchartButtonEl =\n",
              "        document.querySelector('#df-bb00f0d7-47fa-496b-9807-4280c2380594 button');\n",
              "      quickchartButtonEl.style.display =\n",
              "        google.colab.kernel.accessAllowed ? 'block' : 'none';\n",
              "    })();\n",
              "  </script>\n",
              "</div>\n",
              "\n",
              "  <div id=\"id_68da8f56-25ae-49ed-bd36-6ea2567e5ec6\">\n",
              "    <style>\n",
              "      .colab-df-generate {\n",
              "        background-color: #E8F0FE;\n",
              "        border: none;\n",
              "        border-radius: 50%;\n",
              "        cursor: pointer;\n",
              "        display: none;\n",
              "        fill: #1967D2;\n",
              "        height: 32px;\n",
              "        padding: 0 0 0 0;\n",
              "        width: 32px;\n",
              "      }\n",
              "\n",
              "      .colab-df-generate:hover {\n",
              "        background-color: #E2EBFA;\n",
              "        box-shadow: 0px 1px 2px rgba(60, 64, 67, 0.3), 0px 1px 3px 1px rgba(60, 64, 67, 0.15);\n",
              "        fill: #174EA6;\n",
              "      }\n",
              "\n",
              "      [theme=dark] .colab-df-generate {\n",
              "        background-color: #3B4455;\n",
              "        fill: #D2E3FC;\n",
              "      }\n",
              "\n",
              "      [theme=dark] .colab-df-generate:hover {\n",
              "        background-color: #434B5C;\n",
              "        box-shadow: 0px 1px 3px 1px rgba(0, 0, 0, 0.15);\n",
              "        filter: drop-shadow(0px 1px 2px rgba(0, 0, 0, 0.3));\n",
              "        fill: #FFFFFF;\n",
              "      }\n",
              "    </style>\n",
              "    <button class=\"colab-df-generate\" onclick=\"generateWithVariable('df')\"\n",
              "            title=\"Generate code using this dataframe.\"\n",
              "            style=\"display:none;\">\n",
              "\n",
              "  <svg xmlns=\"http://www.w3.org/2000/svg\" height=\"24px\"viewBox=\"0 0 24 24\"\n",
              "       width=\"24px\">\n",
              "    <path d=\"M7,19H8.4L18.45,9,17,7.55,7,17.6ZM5,21V16.75L18.45,3.32a2,2,0,0,1,2.83,0l1.4,1.43a1.91,1.91,0,0,1,.58,1.4,1.91,1.91,0,0,1-.58,1.4L9.25,21ZM18.45,9,17,7.55Zm-12,3A5.31,5.31,0,0,0,4.9,8.1,5.31,5.31,0,0,0,1,6.5,5.31,5.31,0,0,0,4.9,4.9,5.31,5.31,0,0,0,6.5,1,5.31,5.31,0,0,0,8.1,4.9,5.31,5.31,0,0,0,12,6.5,5.46,5.46,0,0,0,6.5,12Z\"/>\n",
              "  </svg>\n",
              "    </button>\n",
              "    <script>\n",
              "      (() => {\n",
              "      const buttonEl =\n",
              "        document.querySelector('#id_68da8f56-25ae-49ed-bd36-6ea2567e5ec6 button.colab-df-generate');\n",
              "      buttonEl.style.display =\n",
              "        google.colab.kernel.accessAllowed ? 'block' : 'none';\n",
              "\n",
              "      buttonEl.onclick = () => {\n",
              "        google.colab.notebook.generateWithVariable('df');\n",
              "      }\n",
              "      })();\n",
              "    </script>\n",
              "  </div>\n",
              "\n",
              "    </div>\n",
              "  </div>\n"
            ],
            "application/vnd.google.colaboratory.intrinsic+json": {
              "type": "dataframe",
              "variable_name": "df",
              "summary": "{\n  \"name\": \"df\",\n  \"rows\": 11,\n  \"fields\": [\n    {\n      \"column\": \"X_i\",\n      \"properties\": {\n        \"dtype\": \"number\",\n        \"std\": 3,\n        \"min\": 1,\n        \"max\": 11,\n        \"num_unique_values\": 11,\n        \"samples\": [\n          6,\n          1,\n          10\n        ],\n        \"semantic_type\": \"\",\n        \"description\": \"\"\n      }\n    },\n    {\n      \"column\": \"Frequ\\u00eancia Absoluta\",\n      \"properties\": {\n        \"dtype\": \"number\",\n        \"std\": 3,\n        \"min\": 5,\n        \"max\": 14,\n        \"num_unique_values\": 6,\n        \"samples\": [\n          14,\n          5,\n          10\n        ],\n        \"semantic_type\": \"\",\n        \"description\": \"\"\n      }\n    },\n    {\n      \"column\": \"Frequ\\u00eancia Acumulada\",\n      \"properties\": {\n        \"dtype\": \"number\",\n        \"std\": 29,\n        \"min\": 14,\n        \"max\": 100,\n        \"num_unique_values\": 11,\n        \"samples\": [\n          56,\n          14,\n          95\n        ],\n        \"semantic_type\": \"\",\n        \"description\": \"\"\n      }\n    },\n    {\n      \"column\": \"Frequ\\u00eancia Relativa\",\n      \"properties\": {\n        \"dtype\": \"number\",\n        \"std\": 0.033001377381723165,\n        \"min\": 0.05,\n        \"max\": 0.14,\n        \"num_unique_values\": 6,\n        \"samples\": [\n          0.14,\n          0.05,\n          0.1\n        ],\n        \"semantic_type\": \"\",\n        \"description\": \"\"\n      }\n    },\n    {\n      \"column\": \"Frequ\\u00eancia Observada\",\n      \"properties\": {\n        \"dtype\": \"number\",\n        \"std\": 0.29917766080921343,\n        \"min\": 0.14,\n        \"max\": 1.0,\n        \"num_unique_values\": 11,\n        \"samples\": [\n          0.56,\n          0.14,\n          0.9500000000000001\n        ],\n        \"semantic_type\": \"\",\n        \"description\": \"\"\n      }\n    },\n    {\n      \"column\": \"Zi\",\n      \"properties\": {\n        \"dtype\": \"number\",\n        \"std\": 1.0516574394886733,\n        \"min\": -1.5188450468679477,\n        \"max\": 1.6520214392864316,\n        \"num_unique_values\": 11,\n        \"samples\": [\n          0.06658819620924196,\n          -1.5188450468679477,\n          1.3349347906709939\n        ],\n        \"semantic_type\": \"\",\n        \"description\": \"\"\n      }\n    },\n    {\n      \"column\": \"Frequ\\u00eancia Esperada\",\n      \"properties\": {\n        \"dtype\": \"number\",\n        \"std\": 0.32674687220693105,\n        \"min\": 0.0644007520229395,\n        \"max\": 0.9507349097967871,\n        \"num_unique_values\": 11,\n        \"samples\": [\n          0.5265452285252995,\n          0.0644007520229395,\n          0.9090511550784021\n        ],\n        \"semantic_type\": \"\",\n        \"description\": \"\"\n      }\n    },\n    {\n      \"column\": \"|F_esp(X_i)-F_obs(X_i)|\",\n      \"properties\": {\n        \"dtype\": \"number\",\n        \"std\": 0.03641361320188226,\n        \"min\": 0.0017259362864634475,\n        \"max\": 0.11183315172144387,\n        \"num_unique_values\": 11,\n        \"samples\": [\n          0.03345477147470055,\n          0.07559924797706051,\n          0.040948844921598004\n        ],\n        \"semantic_type\": \"\",\n        \"description\": \"\"\n      }\n    },\n    {\n      \"column\": \"|F_esp(X_i)-F_obs(X_{i-1})|\",\n      \"properties\": {\n        \"dtype\": \"number\",\n        \"std\": 0.04437155895313579,\n        \"min\": 0.0007349097967870311,\n        \"max\": 0.13827406371353657,\n        \"num_unique_values\": 11,\n        \"samples\": [\n          0.07654522852529949,\n          0.0644007520229395,\n          0.05905115507840197\n        ],\n        \"semantic_type\": \"\",\n        \"description\": \"\"\n      }\n    }\n  ]\n}"
            }
          },
          "metadata": {},
          "execution_count": 26
        }
      ]
    },
    {
      "cell_type": "markdown",
      "source": [
        "### Função ```result_DCal``` para obter o valor do Dcal:\n",
        "O cálculo feito está abaixo e será feito utilizando a tabela obtida nos passos anteriores.\n",
        "$$𝐷𝑐𝑎𝑙 = 𝑚𝑎𝑥\\left\\lbrace|𝐹𝑒𝑠𝑝(𝑋_i) - 𝐹𝑜𝑏𝑠(𝑋_i)|, |𝐹𝑒𝑠𝑝(𝑋_i) - 𝐹𝑜𝑏𝑠(𝑋_{i-1})|\\right\\rbrace\n",
        "$$"
      ],
      "metadata": {
        "id": "-ted_vkt5nkF"
      }
    },
    {
      "cell_type": "code",
      "source": [
        "def result_Dcal(df):\n",
        "  max_Fesp_Fobs = (df['|F_esp(X_i)-F_obs(X_i)|']).max()\n",
        "  max_Fesp_Fobs1 =(df['|F_esp(X_i)-F_obs(X_{i-1})|']).max()\n",
        "  listaMax = [max_Fesp_Fobs,max_Fesp_Fobs1]\n",
        "  Dcalc = np.max(listaMax)\n",
        "  return Dcalc\n",
        "Dcalc = result_Dcal(df)\n",
        "print(f\"Dcal = {Dcalc}\")"
      ],
      "metadata": {
        "colab": {
          "base_uri": "https://localhost:8080/"
        },
        "id": "NKUgczF15m-_",
        "outputId": "d02a6c4e-799e-417b-8c3e-c3a14f79740f"
      },
      "execution_count": null,
      "outputs": [
        {
          "output_type": "stream",
          "name": "stdout",
          "text": [
            "Dcal = 0.13827406371353657\n"
          ]
        }
      ]
    },
    {
      "cell_type": "markdown",
      "source": [
        "### Calculando o valor crítico do teste de Kolmogorov Smirnov:\n",
        "A função ```kolmogorov_smirnov_critico(n)``` calcula o valor crítico do teste de Kolmogorov-Smirnov dependendo do tamanho da amostra n. Para amostras com tamanho menor ou igual a 40, os valores críticos são obtidos de uma tabela predefinida. Para amostras com tamanho maior que 40, o valor crítico é calculado de acordo com uma fórmula específica. Tal função retorna o valor crítico do teste de Kolmogorov-Smirnov. Nesse caso o nivel de significância observado α é de 0,05."
      ],
      "metadata": {
        "id": "l2hGERl2Baej"
      }
    },
    {
      "cell_type": "code",
      "source": [
        "# Checking the critical value of the Kolmogorov-Smirnov test\n",
        "def kolmogorov_smirnov_critico(n):\n",
        "    # table of critical values for the kolmogorov-smirnov test - 95% confidence\n",
        "    # Source: http://www.real-statistics.com/statistics-tables/kolmogorov-smirnov-table/\n",
        "    # alpha = 0.05 (95% confidential level)\n",
        "\n",
        "    if n <= 40:\n",
        "        # values between 1 and 40\n",
        "        kolmogorov_critico = [0.97500, 0.84189, 0.70760, 0.62394, 0.56328, 0.51926, 0.48342, 0.45427, 0.43001, 0.40925,\n",
        "                      0.39122, 0.37543, 0.36143, 0.34890, 0.33760, 0.32733, 0.31796, 0.30936, 0.30143, 0.29408,\n",
        "                      0.28724, 0.28087, 0.27490, 0.26931, 0.26404, 0.25907, 0.25438, 0.24993, 0.24571, 0.24170,\n",
        "                      0.23788, 0.23424, 0.23076, 0.22743, 0.22425, 0.22119, 0.21826, 0.21544, 0.21273, 0.21012]\n",
        "        ks_critico = kolmogorov_critico[n - 1]\n",
        "    elif n > 40:\n",
        "        # values > 40:\n",
        "        kolmogorov_critico = 1.36/(np.sqrt(n))\n",
        "        ks_critico = kolmogorov_critico\n",
        "    else:\n",
        "        pass\n",
        "\n",
        "    return ks_critico\n",
        "\n",
        "Dc = kolmogorov_smirnov_critico(len(amostra))\n",
        "print(f\"Dc = {Dc}\")"
      ],
      "metadata": {
        "id": "TKfje_d6BZ8Q",
        "colab": {
          "base_uri": "https://localhost:8080/"
        },
        "outputId": "18a1c046-2d1f-422d-ab9d-dcde31e732ee"
      },
      "execution_count": null,
      "outputs": [
        {
          "output_type": "stream",
          "name": "stdout",
          "text": [
            "Dc = 0.136\n"
          ]
        }
      ]
    },
    {
      "cell_type": "markdown",
      "source": [
        "### Resultados:"
      ],
      "metadata": {
        "id": "DLQ28cy5ClRm"
      }
    },
    {
      "cell_type": "markdown",
      "source": [
        "Com os valores de Dcalc e Dc basta compararmos. Se Dcal< Dc então não temos motivos para descartar a Hipotese nula com 95% de confiabilidade. Caso Dcal >=  Dc então podemos afirmar que com 95% de confiabilidade não é uma distribuição normal(assume-se a Hipotese 1)."
      ],
      "metadata": {
        "id": "2mAiVb-BNBoj"
      }
    },
    {
      "cell_type": "code",
      "source": [
        "print(f\"Com 95% de confianca, o valor critico do teste de Kolmogorov-Smirnov é de = {Dc}\")\n",
        "print(f\"O valor calculado do teste de Kolmogorov-Smirnov é de = {Dcalc}\")\n",
        "# Conclusion\n",
        "if Dc >= Dcalc:\n",
        "    print(\"Com 95% de confianca, não temos evidências para rejeitar a hipótese de normalidade dos dados, segundo o teste de Kolmogorov-Smirnov\")\n",
        "else:\n",
        "    print(\"Com 95% de confianca, temos evidências para rejeitar a hipótese de normalidade dos dados, segundo o teste de Kolmogorov-Smirnov\")"
      ],
      "metadata": {
        "colab": {
          "base_uri": "https://localhost:8080/"
        },
        "id": "a5a_VKk8OB8b",
        "outputId": "5a161869-dd60-4e2f-acb7-fda417de93ba"
      },
      "execution_count": null,
      "outputs": [
        {
          "output_type": "stream",
          "name": "stdout",
          "text": [
            "Com 95% de confianca, o valor critico do teste de Kolmogorov-Smirnov é de = 0.136\n",
            "O valor calculado do teste de Kolmogorov-Smirnov é de = 0.13827406371353657\n",
            "Com 95% de confianca, temos evidências para rejeitar a hipótese de normalidade dos dados, segundo o teste de Kolmogorov-Smirnov\n"
          ]
        }
      ]
    },
    {
      "cell_type": "markdown",
      "source": [
        "### Função ```plotar_comparacao_frequencias``` para plotar graficos com a frequência observada e esperada."
      ],
      "metadata": {
        "id": "uYuKOUylIn4a"
      }
    },
    {
      "cell_type": "code",
      "source": [
        "import seaborn as sns\n",
        "import matplotlib.pyplot as plt\n",
        "\n",
        "def plotar_comparacao_frequencias(df):\n",
        "    plt.figure(figsize=(10, 6))\n",
        "    sns.lineplot(data=df, x='X_i', y='Frequência Observada', label='Frequência Observada', color='blue')\n",
        "    sns.lineplot(data=df, x='X_i', y='Frequência Esperada', label='Frequência Esperada', color='orange')\n",
        "    plt.xlabel('Valores')\n",
        "    plt.ylabel('Frequência')\n",
        "    plt.title('Comparação entre Frequência Observada e Frequência Esperada')\n",
        "    plt.legend()\n",
        "    plt.grid(True)\n",
        "    plt.show()\n",
        "plotar_comparacao_frequencias(df)"
      ],
      "metadata": {
        "colab": {
          "base_uri": "https://localhost:8080/",
          "height": 565
        },
        "id": "lMsfmS4G8ch8",
        "outputId": "68f88200-47af-4328-8a2b-3643b31019ce"
      },
      "execution_count": null,
      "outputs": [
        {
          "output_type": "display_data",
          "data": {
            "text/plain": [
              "<Figure size 1000x600 with 1 Axes>"
            ],
            "image/png": "[encoded data removed]"
          },
          "metadata": {}
        }
      ]
    },
    {
      "cell_type": "markdown",
      "source": [
        "### Função ```distribuicao``` para ver como os valores estão distribuidos:"
      ],
      "metadata": {
        "id": "sHAMArzQJD6H"
      }
    },
    {
      "cell_type": "code",
      "source": [
        "def distribuicao(amostra):\n",
        "    plt.figure(figsize=(10, 6))\n",
        "    sns.histplot(amostra, kde=False, color='skyblue', bins=10)\n",
        "    plt.xlabel('Valores')\n",
        "    plt.ylabel('Frequência')\n",
        "    plt.title('Histograma da Amostra Aleatória')\n",
        "    plt.grid(True)\n",
        "    plt.show()\n",
        "distribuicao(amostra)"
      ],
      "metadata": {
        "id": "nUX5P8ySPulm",
        "colab": {
          "base_uri": "https://localhost:8080/",
          "height": 565
        },
        "outputId": "093eb060-8eaa-40b5-d6ad-5c03caa89307"
      },
      "execution_count": null,
      "outputs": [
        {
          "output_type": "display_data",
          "data": {
            "text/plain": [
              "<Figure size 1000x600 with 1 Axes>"
            ],
            "image/png": "[encoded data removed]"
          },
          "metadata": {}
        }
      ]
    },
    {
      "cell_type": "markdown",
      "source": [
        "## Outra abordagem utilizando Scypy"
      ],
      "metadata": {
        "id": "nscYIQwC8oRr"
      }
    },
    {
      "cell_type": "code",
      "source": [
        "# Calculating the value of the Kolmogorov-Smirnov statistic for the data\n",
        "media = np.mean(amostra)\n",
        "std = np.std(amostra)\n",
        "tamanho_amostra = len(amostra)\n",
        "ks_critico = kolmogorov_smirnov_critico(tamanho_amostra)\n",
        "ks_stat, ks_p_valor = stats.kstest(amostra, cdf='norm', args=(media, std), N = tamanho_amostra)\n",
        "print(\"A media dos dados é = \" + str(media))\n",
        "print(\"O desvio padrao dos dados é = \" + str(std))\n",
        "print(\"Com 95% de confianca, o valor critico do teste de Kolmogorov-Smirnov é de = \" + str(ks_critico))\n",
        "print(\"O valor calculado do teste de Kolmogorov-Smirnov é de = \" + str(ks_stat))\n",
        "# Conclusion\n",
        "if ks_critico >= ks_stat:\n",
        "    print(\"Com 95% de confianca, não temos evidências para rejeitar a hipótese de normalidade dos dados, segundo o teste de Kolmogorov-Smirnov\")\n",
        "else:\n",
        "    print(\"Com 95% de confianca, temos evidências para rejeitar a hipótese de normalidade dos dados, segundo o teste de Kolmogorov-Smirnov\")"
      ],
      "metadata": {
        "colab": {
          "base_uri": "https://localhost:8080/"
        },
        "id": "9DAOkR0UB9wj",
        "outputId": "c9b7b446-e2bf-4e0f-dd2e-5a9ece429ce9"
      },
      "execution_count": null,
      "outputs": [
        {
          "output_type": "stream",
          "name": "stdout",
          "text": [
            "A media dos dados é = 5.79\n",
            "O desvio padrao dos dados é = 3.1537120984642844\n",
            "Com 95% de confianca, o valor critico do teste de Kolmogorov-Smirnov é de = 0.136\n",
            "O valor calculado do teste de Kolmogorov-Smirnov é de = 0.13827406371353668\n",
            "Com 95% de confianca, temos evidências para rejeitar a hipótese de normalidade dos dados, segundo o teste de Kolmogorov-Smirnov\n"
          ]
        }
      ]
    },
    {
      "cell_type": "markdown",
      "source": [
        "### Para as cinquenta amostras aleatórias:"
      ],
      "metadata": {
        "id": "z9fwuHetchUq"
      }
    },
    {
      "cell_type": "code",
      "source": [
        "#Cinquenta amostras para serem testadas\n",
        "amostras = []\n",
        "for i in range(20):\n",
        "  amostras.append(amostra_aleatoria(1,11,200, probabilidades))\n",
        "for i in range(20):\n",
        "  amostras.append(amostra_aleatoria(20, 54, 200))\n",
        "for _ in range(10):\n",
        "    amostra = np.random.normal(loc=10, scale=2, size=200)\n",
        "    amostras.append(amostra)\n",
        "print(f'Foram geradas {len(amostras)} amostras aleatórias')"
      ],
      "metadata": {
        "colab": {
          "base_uri": "https://localhost:8080/"
        },
        "id": "1f74E0ahcg7a",
        "outputId": "b9aacd69-3a72-46c5-9acc-ffd69dd44b95"
      },
      "execution_count": null,
      "outputs": [
        {
          "output_type": "stream",
          "name": "stdout",
          "text": [
            "Foram geradas 50 amostras aleatórias\n"
          ]
        }
      ]
    },
    {
      "cell_type": "markdown",
      "source": [
        "### Aplicando as funções criadas"
      ],
      "metadata": {
        "id": "xGNg6wUehYKE"
      }
    },
    {
      "cell_type": "code",
      "source": [
        "dfs = []\n",
        "dCals = []\n",
        "resultados = []\n",
        "# Calculando as frequências\n",
        "for i in amostras:\n",
        "  dfs.append(calcular_frequencias(i))\n",
        "# Caculando a Dcals\n",
        "for i in range(50):\n",
        "  dCals.append(calculos_Dcal(dfs[i],amostras[i]))\n",
        "for i in dCals:\n",
        "  resultados.append(result_Dcal(i))"
      ],
      "metadata": {
        "id": "1kUrQSkhcuMs"
      },
      "execution_count": null,
      "outputs": []
    },
    {
      "cell_type": "markdown",
      "source": [
        "### Resultados:"
      ],
      "metadata": {
        "id": "7PfKPPFlixf3"
      }
    },
    {
      "cell_type": "code",
      "source": [
        "Dc = kolmogorov_smirnov_critico(200)\n",
        "for i in range(50):\n",
        "  if  resultados[i] < Dc :\n",
        "    print(f\"{i}) Com 95% de confianca, não temos evidências para rejeitar a hipótese de normalidade dos dados, segundo o teste de Kolmogorov-Smirnov\")\n",
        "    print(f\"{resultados[i]} < {Dc}\")\n",
        "  else:\n",
        "    print(f\"{i}) Com 95% de confianca, temos evidências para rejeitar a hipótese de normalidade dos dados, segundo o teste de Kolmogorov-Smirnov\")\n",
        "    print(f\"{resultados[i]} >= {Dc}\")"
      ],
      "metadata": {
        "id": "mAcFp_AYixC2"
      },
      "execution_count": null,
      "outputs": []
    },
    {
      "cell_type": "markdown",
      "source": [
        "## Shapiro -Wilk"
      ],
      "metadata": {
        "id": "-9ZnUMDXQmYp"
      }
    },
    {
      "cell_type": "markdown",
      "source": [
        "Usei esse site para obter as tabelas: https://real-statistics.com/statistics-tables/shapiro-wilk-table/"
      ],
      "metadata": {
        "id": "SRsYvMrMXR-0"
      }
    },
    {
      "cell_type": "code",
      "source": [
        "amostra = [15,19,23,24,28,30,32,36,16,20,23,25,29,31,34,39,18,22,24,28,30,32,36,46]"
      ],
      "metadata": {
        "id": "pLXLbjyGQ4Qo"
      },
      "execution_count": null,
      "outputs": []
    },
    {
      "cell_type": "markdown",
      "source": [
        "### Tabela dos coeficientes"
      ],
      "metadata": {
        "id": "7aIB3FW5ZYi8"
      }
    },
    {
      "cell_type": "code",
      "source": [
        "df = pd.read_excel(\"Sw1.xlsx\")\n",
        "df = df.fillna(0)\n",
        "df"
      ],
      "metadata": {
        "id": "tVCuc4gzXAqj"
      },
      "execution_count": null,
      "outputs": []
    },
    {
      "cell_type": "markdown",
      "source": [
        "### Tabela com os valores de W"
      ],
      "metadata": {
        "id": "4dRvAJ0kZcKo"
      }
    },
    {
      "cell_type": "code",
      "source": [
        "Ws = pd.read_excel('Sw2.xlsx')\n",
        "Ws"
      ],
      "metadata": {
        "id": "bwt1CZpzZQpd"
      },
      "execution_count": null,
      "outputs": []
    },
    {
      "cell_type": "markdown",
      "source": [
        "### Gerando tabela importante para obtermos o valor de B, através da função ```processar_amostra```"
      ],
      "metadata": {
        "id": "u_svggOmN2XF"
      }
    },
    {
      "cell_type": "code",
      "source": [
        "def processar_amostra(amostra, df):\n",
        "    n = len(amostra)\n",
        "\n",
        "    # Ordenar a amostra\n",
        "    amostra_ordenada = sorted(amostra)\n",
        "    meio = n // 2\n",
        "\n",
        "    colunas = {\n",
        "        'i': list(range(1, meio + 1)),  # Pegar até a metade dos valores maiores\n",
        "        'n-i-1': list(range(n-1, meio-1, -1)),  # Iniciar de n-1 e ir até a metade dos valores menores\n",
        "        'a_i,n': [df.loc[i, n] for i in range(meio)],  # Pegar até a metade dos valores de a\n",
        "        'X_(n-i-1)': [amostra_ordenada[n-i-1] for i in range(meio)],  # Pegar até a metade dos valores maiores\n",
        "        'X_i': [amostra_ordenada[i] for i in range(meio)],  # Pegar até a metade dos valores menores\n",
        "        'a_i,n(X_(n-i-1)-X_i)': [df.iloc[i, n] * (amostra_ordenada[n-i-1] - amostra_ordenada[i]) for i in range(meio)]\n",
        "    }\n",
        "    tabela = pd.DataFrame(colunas)\n",
        "    return tabela\n",
        "\n",
        "\n",
        "tabela = processar_amostra(amostra,df)\n",
        "tabela"
      ],
      "metadata": {
        "id": "sOR6dwu8awy_",
        "colab": {
          "base_uri": "https://localhost:8080/",
          "height": 421
        },
        "outputId": "a68eaf2d-da75-494b-932c-ecc34239f93b"
      },
      "execution_count": null,
      "outputs": [
        {
          "output_type": "execute_result",
          "data": {
            "text/plain": [
              "     i  n-i-1   a_i,n  X_(n-i-1)  X_i  a_i,n(X_(n-i-1)-X_i)\n",
              "0    1     23  0.4493         46   15               13.7950\n",
              "1    2     22  0.3098         39   16                7.0587\n",
              "2    3     21  0.2554         36   18                4.5774\n",
              "3    4     20  0.2145         36   19                3.6516\n",
              "4    5     19  0.1807         34   20                2.5508\n",
              "5    6     18  0.1512         32   22                1.5390\n",
              "6    7     17  0.1245         32   23                1.1547\n",
              "7    8     16  0.0997         31   23                0.8368\n",
              "8    9     15  0.0764         30   24                0.4938\n",
              "9   10     14  0.0539         30   24                0.3660\n",
              "10  11     13  0.0321         29   25                0.1612\n",
              "11  12     12  0.0107         28   28                0.0000"
            ],
            "text/html": [
              "\n",
              "  <div id=\"df-55ae3547-2a2b-4a5d-bcec-bf3426258630\" class=\"colab-df-container\">\n",
              "    <div>\n",
              "<style scoped>\n",
              "    .dataframe tbody tr th:only-of-type {\n",
              "        vertical-align: middle;\n",
              "    }\n",
              "\n",
              "    .dataframe tbody tr th {\n",
              "        vertical-align: top;\n",
              "    }\n",
              "\n",
              "    .dataframe thead th {\n",
              "        text-align: right;\n",
              "    }\n",
              "</style>\n",
              "<table border=\"1\" class=\"dataframe\">\n",
              "  <thead>\n",
              "    <tr style=\"text-align: right;\">\n",
              "      <th></th>\n",
              "      <th>i</th>\n",
              "      <th>n-i-1</th>\n",
              "      <th>a_i,n</th>\n",
              "      <th>X_(n-i-1)</th>\n",
              "      <th>X_i</th>\n",
              "      <th>a_i,n(X_(n-i-1)-X_i)</th>\n",
              "    </tr>\n",
              "  </thead>\n",
              "  <tbody>\n",
              "    <tr>\n",
              "      <th>0</th>\n",
              "      <td>1</td>\n",
              "      <td>23</td>\n",
              "      <td>0.4493</td>\n",
              "      <td>46</td>\n",
              "      <td>15</td>\n",
              "      <td>13.7950</td>\n",
              "    </tr>\n",
              "    <tr>\n",
              "      <th>1</th>\n",
              "      <td>2</td>\n",
              "      <td>22</td>\n",
              "      <td>0.3098</td>\n",
              "      <td>39</td>\n",
              "      <td>16</td>\n",
              "      <td>7.0587</td>\n",
              "    </tr>\n",
              "    <tr>\n",
              "      <th>2</th>\n",
              "      <td>3</td>\n",
              "      <td>21</td>\n",
              "      <td>0.2554</td>\n",
              "      <td>36</td>\n",
              "      <td>18</td>\n",
              "      <td>4.5774</td>\n",
              "    </tr>\n",
              "    <tr>\n",
              "      <th>3</th>\n",
              "      <td>4</td>\n",
              "      <td>20</td>\n",
              "      <td>0.2145</td>\n",
              "      <td>36</td>\n",
              "      <td>19</td>\n",
              "      <td>3.6516</td>\n",
              "    </tr>\n",
              "    <tr>\n",
              "      <th>4</th>\n",
              "      <td>5</td>\n",
              "      <td>19</td>\n",
              "      <td>0.1807</td>\n",
              "      <td>34</td>\n",
              "      <td>20</td>\n",
              "      <td>2.5508</td>\n",
              "    </tr>\n",
              "    <tr>\n",
              "      <th>5</th>\n",
              "      <td>6</td>\n",
              "      <td>18</td>\n",
              "      <td>0.1512</td>\n",
              "      <td>32</td>\n",
              "      <td>22</td>\n",
              "      <td>1.5390</td>\n",
              "    </tr>\n",
              "    <tr>\n",
              "      <th>6</th>\n",
              "      <td>7</td>\n",
              "      <td>17</td>\n",
              "      <td>0.1245</td>\n",
              "      <td>32</td>\n",
              "      <td>23</td>\n",
              "      <td>1.1547</td>\n",
              "    </tr>\n",
              "    <tr>\n",
              "      <th>7</th>\n",
              "      <td>8</td>\n",
              "      <td>16</td>\n",
              "      <td>0.0997</td>\n",
              "      <td>31</td>\n",
              "      <td>23</td>\n",
              "      <td>0.8368</td>\n",
              "    </tr>\n",
              "    <tr>\n",
              "      <th>8</th>\n",
              "      <td>9</td>\n",
              "      <td>15</td>\n",
              "      <td>0.0764</td>\n",
              "      <td>30</td>\n",
              "      <td>24</td>\n",
              "      <td>0.4938</td>\n",
              "    </tr>\n",
              "    <tr>\n",
              "      <th>9</th>\n",
              "      <td>10</td>\n",
              "      <td>14</td>\n",
              "      <td>0.0539</td>\n",
              "      <td>30</td>\n",
              "      <td>24</td>\n",
              "      <td>0.3660</td>\n",
              "    </tr>\n",
              "    <tr>\n",
              "      <th>10</th>\n",
              "      <td>11</td>\n",
              "      <td>13</td>\n",
              "      <td>0.0321</td>\n",
              "      <td>29</td>\n",
              "      <td>25</td>\n",
              "      <td>0.1612</td>\n",
              "    </tr>\n",
              "    <tr>\n",
              "      <th>11</th>\n",
              "      <td>12</td>\n",
              "      <td>12</td>\n",
              "      <td>0.0107</td>\n",
              "      <td>28</td>\n",
              "      <td>28</td>\n",
              "      <td>0.0000</td>\n",
              "    </tr>\n",
              "  </tbody>\n",
              "</table>\n",
              "</div>\n",
              "    <div class=\"colab-df-buttons\">\n",
              "\n",
              "  <div class=\"colab-df-container\">\n",
              "    <button class=\"colab-df-convert\" onclick=\"convertToInteractive('df-55ae3547-2a2b-4a5d-bcec-bf3426258630')\"\n",
              "            title=\"Convert this dataframe to an interactive table.\"\n",
              "            style=\"display:none;\">\n",
              "\n",
              "  <svg xmlns=\"http://www.w3.org/2000/svg\" height=\"24px\" viewBox=\"0 -960 960 960\">\n",
              "    <path d=\"M120-120v-720h720v720H120Zm60-500h600v-160H180v160Zm220 220h160v-160H400v160Zm0 220h160v-160H400v160ZM180-400h160v-160H180v160Zm440 0h160v-160H620v160ZM180-180h160v-160H180v160Zm440 0h160v-160H620v160Z\"/>\n",
              "  </svg>\n",
              "    </button>\n",
              "\n",
              "  <style>\n",
              "    .colab-df-container {\n",
              "      display:flex;\n",
              "      gap: 12px;\n",
              "    }\n",
              "\n",
              "    .colab-df-convert {\n",
              "      background-color: #E8F0FE;\n",
              "      border: none;\n",
              "      border-radius: 50%;\n",
              "      cursor: pointer;\n",
              "      display: none;\n",
              "      fill: #1967D2;\n",
              "      height: 32px;\n",
              "      padding: 0 0 0 0;\n",
              "      width: 32px;\n",
              "    }\n",
              "\n",
              "    .colab-df-convert:hover {\n",
              "      background-color: #E2EBFA;\n",
              "      box-shadow: 0px 1px 2px rgba(60, 64, 67, 0.3), 0px 1px 3px 1px rgba(60, 64, 67, 0.15);\n",
              "      fill: #174EA6;\n",
              "    }\n",
              "\n",
              "    .colab-df-buttons div {\n",
              "      margin-bottom: 4px;\n",
              "    }\n",
              "\n",
              "    [theme=dark] .colab-df-convert {\n",
              "      background-color: #3B4455;\n",
              "      fill: #D2E3FC;\n",
              "    }\n",
              "\n",
              "    [theme=dark] .colab-df-convert:hover {\n",
              "      background-color: #434B5C;\n",
              "      box-shadow: 0px 1px 3px 1px rgba(0, 0, 0, 0.15);\n",
              "      filter: drop-shadow(0px 1px 2px rgba(0, 0, 0, 0.3));\n",
              "      fill: #FFFFFF;\n",
              "    }\n",
              "  </style>\n",
              "\n",
              "    <script>\n",
              "      const buttonEl =\n",
              "        document.querySelector('#df-55ae3547-2a2b-4a5d-bcec-bf3426258630 button.colab-df-convert');\n",
              "      buttonEl.style.display =\n",
              "        google.colab.kernel.accessAllowed ? 'block' : 'none';\n",
              "\n",
              "      async function convertToInteractive(key) {\n",
              "        const element = document.querySelector('#df-55ae3547-2a2b-4a5d-bcec-bf3426258630');\n",
              "        const dataTable =\n",
              "          await google.colab.kernel.invokeFunction('convertToInteractive',\n",
              "                                                    [key], {});\n",
              "        if (!dataTable) return;\n",
              "\n",
              "        const docLinkHtml = 'Like what you see? Visit the ' +\n",
              "          '<a target=\"_blank\" href=https://colab.research.google.com/notebooks/data_table.ipynb>data table notebook</a>'\n",
              "          + ' to learn more about interactive tables.';\n",
              "        element.innerHTML = '';\n",
              "        dataTable['output_type'] = 'display_data';\n",
              "        await google.colab.output.renderOutput(dataTable, element);\n",
              "        const docLink = document.createElement('div');\n",
              "        docLink.innerHTML = docLinkHtml;\n",
              "        element.appendChild(docLink);\n",
              "      }\n",
              "    </script>\n",
              "  </div>\n",
              "\n",
              "\n",
              "<div id=\"df-3cee9168-11f4-46b7-8852-119f30825cd0\">\n",
              "  <button class=\"colab-df-quickchart\" onclick=\"quickchart('df-3cee9168-11f4-46b7-8852-119f30825cd0')\"\n",
              "            title=\"Suggest charts\"\n",
              "            style=\"display:none;\">\n",
              "\n",
              "<svg xmlns=\"http://www.w3.org/2000/svg\" height=\"24px\"viewBox=\"0 0 24 24\"\n",
              "     width=\"24px\">\n",
              "    <g>\n",
              "        <path d=\"M19 3H5c-1.1 0-2 .9-2 2v14c0 1.1.9 2 2 2h14c1.1 0 2-.9 2-2V5c0-1.1-.9-2-2-2zM9 17H7v-7h2v7zm4 0h-2V7h2v10zm4 0h-2v-4h2v4z\"/>\n",
              "    </g>\n",
              "</svg>\n",
              "  </button>\n",
              "\n",
              "<style>\n",
              "  .colab-df-quickchart {\n",
              "      --bg-color: #E8F0FE;\n",
              "      --fill-color: #1967D2;\n",
              "      --hover-bg-color: #E2EBFA;\n",
              "      --hover-fill-color: #174EA6;\n",
              "      --disabled-fill-color: #AAA;\n",
              "      --disabled-bg-color: #DDD;\n",
              "  }\n",
              "\n",
              "  [theme=dark] .colab-df-quickchart {\n",
              "      --bg-color: #3B4455;\n",
              "      --fill-color: #D2E3FC;\n",
              "      --hover-bg-color: #434B5C;\n",
              "      --hover-fill-color: #FFFFFF;\n",
              "      --disabled-bg-color: #3B4455;\n",
              "      --disabled-fill-color: #666;\n",
              "  }\n",
              "\n",
              "  .colab-df-quickchart {\n",
              "    background-color: var(--bg-color);\n",
              "    border: none;\n",
              "    border-radius: 50%;\n",
              "    cursor: pointer;\n",
              "    display: none;\n",
              "    fill: var(--fill-color);\n",
              "    height: 32px;\n",
              "    padding: 0;\n",
              "    width: 32px;\n",
              "  }\n",
              "\n",
              "  .colab-df-quickchart:hover {\n",
              "    background-color: var(--hover-bg-color);\n",
              "    box-shadow: 0 1px 2px rgba(60, 64, 67, 0.3), 0 1px 3px 1px rgba(60, 64, 67, 0.15);\n",
              "    fill: var(--button-hover-fill-color);\n",
              "  }\n",
              "\n",
              "  .colab-df-quickchart-complete:disabled,\n",
              "  .colab-df-quickchart-complete:disabled:hover {\n",
              "    background-color: var(--disabled-bg-color);\n",
              "    fill: var(--disabled-fill-color);\n",
              "    box-shadow: none;\n",
              "  }\n",
              "\n",
              "  .colab-df-spinner {\n",
              "    border: 2px solid var(--fill-color);\n",
              "    border-color: transparent;\n",
              "    border-bottom-color: var(--fill-color);\n",
              "    animation:\n",
              "      spin 1s steps(1) infinite;\n",
              "  }\n",
              "\n",
              "  @keyframes spin {\n",
              "    0% {\n",
              "      border-color: transparent;\n",
              "      border-bottom-color: var(--fill-color);\n",
              "      border-left-color: var(--fill-color);\n",
              "    }\n",
              "    20% {\n",
              "      border-color: transparent;\n",
              "      border-left-color: var(--fill-color);\n",
              "      border-top-color: var(--fill-color);\n",
              "    }\n",
              "    30% {\n",
              "      border-color: transparent;\n",
              "      border-left-color: var(--fill-color);\n",
              "      border-top-color: var(--fill-color);\n",
              "      border-right-color: var(--fill-color);\n",
              "    }\n",
              "    40% {\n",
              "      border-color: transparent;\n",
              "      border-right-color: var(--fill-color);\n",
              "      border-top-color: var(--fill-color);\n",
              "    }\n",
              "    60% {\n",
              "      border-color: transparent;\n",
              "      border-right-color: var(--fill-color);\n",
              "    }\n",
              "    80% {\n",
              "      border-color: transparent;\n",
              "      border-right-color: var(--fill-color);\n",
              "      border-bottom-color: var(--fill-color);\n",
              "    }\n",
              "    90% {\n",
              "      border-color: transparent;\n",
              "      border-bottom-color: var(--fill-color);\n",
              "    }\n",
              "  }\n",
              "</style>\n",
              "\n",
              "  <script>\n",
              "    async function quickchart(key) {\n",
              "      const quickchartButtonEl =\n",
              "        document.querySelector('#' + key + ' button');\n",
              "      quickchartButtonEl.disabled = true;  // To prevent multiple clicks.\n",
              "      quickchartButtonEl.classList.add('colab-df-spinner');\n",
              "      try {\n",
              "        const charts = await google.colab.kernel.invokeFunction(\n",
              "            'suggestCharts', [key], {});\n",
              "      } catch (error) {\n",
              "        console.error('Error during call to suggestCharts:', error);\n",
              "      }\n",
              "      quickchartButtonEl.classList.remove('colab-df-spinner');\n",
              "      quickchartButtonEl.classList.add('colab-df-quickchart-complete');\n",
              "    }\n",
              "    (() => {\n",
              "      let quickchartButtonEl =\n",
              "        document.querySelector('#df-3cee9168-11f4-46b7-8852-119f30825cd0 button');\n",
              "      quickchartButtonEl.style.display =\n",
              "        google.colab.kernel.accessAllowed ? 'block' : 'none';\n",
              "    })();\n",
              "  </script>\n",
              "</div>\n",
              "\n",
              "  <div id=\"id_8bd2c4e7-8a3d-4649-9c79-8bb43ffa6e21\">\n",
              "    <style>\n",
              "      .colab-df-generate {\n",
              "        background-color: #E8F0FE;\n",
              "        border: none;\n",
              "        border-radius: 50%;\n",
              "        cursor: pointer;\n",
              "        display: none;\n",
              "        fill: #1967D2;\n",
              "        height: 32px;\n",
              "        padding: 0 0 0 0;\n",
              "        width: 32px;\n",
              "      }\n",
              "\n",
              "      .colab-df-generate:hover {\n",
              "        background-color: #E2EBFA;\n",
              "        box-shadow: 0px 1px 2px rgba(60, 64, 67, 0.3), 0px 1px 3px 1px rgba(60, 64, 67, 0.15);\n",
              "        fill: #174EA6;\n",
              "      }\n",
              "\n",
              "      [theme=dark] .colab-df-generate {\n",
              "        background-color: #3B4455;\n",
              "        fill: #D2E3FC;\n",
              "      }\n",
              "\n",
              "      [theme=dark] .colab-df-generate:hover {\n",
              "        background-color: #434B5C;\n",
              "        box-shadow: 0px 1px 3px 1px rgba(0, 0, 0, 0.15);\n",
              "        filter: drop-shadow(0px 1px 2px rgba(0, 0, 0, 0.3));\n",
              "        fill: #FFFFFF;\n",
              "      }\n",
              "    </style>\n",
              "    <button class=\"colab-df-generate\" onclick=\"generateWithVariable('tabela')\"\n",
              "            title=\"Generate code using this dataframe.\"\n",
              "            style=\"display:none;\">\n",
              "\n",
              "  <svg xmlns=\"http://www.w3.org/2000/svg\" height=\"24px\"viewBox=\"0 0 24 24\"\n",
              "       width=\"24px\">\n",
              "    <path d=\"M7,19H8.4L18.45,9,17,7.55,7,17.6ZM5,21V16.75L18.45,3.32a2,2,0,0,1,2.83,0l1.4,1.43a1.91,1.91,0,0,1,.58,1.4,1.91,1.91,0,0,1-.58,1.4L9.25,21ZM18.45,9,17,7.55Zm-12,3A5.31,5.31,0,0,0,4.9,8.1,5.31,5.31,0,0,0,1,6.5,5.31,5.31,0,0,0,4.9,4.9,5.31,5.31,0,0,0,6.5,1,5.31,5.31,0,0,0,8.1,4.9,5.31,5.31,0,0,0,12,6.5,5.46,5.46,0,0,0,6.5,12Z\"/>\n",
              "  </svg>\n",
              "    </button>\n",
              "    <script>\n",
              "      (() => {\n",
              "      const buttonEl =\n",
              "        document.querySelector('#id_8bd2c4e7-8a3d-4649-9c79-8bb43ffa6e21 button.colab-df-generate');\n",
              "      buttonEl.style.display =\n",
              "        google.colab.kernel.accessAllowed ? 'block' : 'none';\n",
              "\n",
              "      buttonEl.onclick = () => {\n",
              "        google.colab.notebook.generateWithVariable('tabela');\n",
              "      }\n",
              "      })();\n",
              "    </script>\n",
              "  </div>\n",
              "\n",
              "    </div>\n",
              "  </div>\n"
            ],
            "application/vnd.google.colaboratory.intrinsic+json": {
              "type": "dataframe",
              "variable_name": "tabela",
              "summary": "{\n  \"name\": \"tabela\",\n  \"rows\": 12,\n  \"fields\": [\n    {\n      \"column\": \"i\",\n      \"properties\": {\n        \"dtype\": \"number\",\n        \"std\": 3,\n        \"min\": 1,\n        \"max\": 12,\n        \"num_unique_values\": 12,\n        \"samples\": [\n          11,\n          10,\n          1\n        ],\n        \"semantic_type\": \"\",\n        \"description\": \"\"\n      }\n    },\n    {\n      \"column\": \"n-i-1\",\n      \"properties\": {\n        \"dtype\": \"number\",\n        \"std\": 3,\n        \"min\": 12,\n        \"max\": 23,\n        \"num_unique_values\": 12,\n        \"samples\": [\n          13,\n          14,\n          23\n        ],\n        \"semantic_type\": \"\",\n        \"description\": \"\"\n      }\n    },\n    {\n      \"column\": \"a_i,n\",\n      \"properties\": {\n        \"dtype\": \"number\",\n        \"std\": 0.12805598089282766,\n        \"min\": 0.0107,\n        \"max\": 0.4493,\n        \"num_unique_values\": 12,\n        \"samples\": [\n          0.0321,\n          0.0539,\n          0.4493\n        ],\n        \"semantic_type\": \"\",\n        \"description\": \"\"\n      }\n    },\n    {\n      \"column\": \"X_(n-i-1)\",\n      \"properties\": {\n        \"dtype\": \"number\",\n        \"std\": 5,\n        \"min\": 28,\n        \"max\": 46,\n        \"num_unique_values\": 9,\n        \"samples\": [\n          29,\n          39,\n          31\n        ],\n        \"semantic_type\": \"\",\n        \"description\": \"\"\n      }\n    },\n    {\n      \"column\": \"X_i\",\n      \"properties\": {\n        \"dtype\": \"number\",\n        \"std\": 3,\n        \"min\": 15,\n        \"max\": 28,\n        \"num_unique_values\": 10,\n        \"samples\": [\n          25,\n          16,\n          22\n        ],\n        \"semantic_type\": \"\",\n        \"description\": \"\"\n      }\n    },\n    {\n      \"column\": \"a_i,n(X_(n-i-1)-X_i)\",\n      \"properties\": {\n        \"dtype\": \"number\",\n        \"std\": 4.006967111699623,\n        \"min\": 0.0,\n        \"max\": 13.795,\n        \"num_unique_values\": 12,\n        \"samples\": [\n          0.1612,\n          0.366,\n          13.795\n        ],\n        \"semantic_type\": \"\",\n        \"description\": \"\"\n      }\n    }\n  ]\n}"
            }
          },
          "metadata": {},
          "execution_count": 41
        }
      ]
    },
    {
      "cell_type": "markdown",
      "source": [
        "### Valor de B e cálculo de Wcalc"
      ],
      "metadata": {
        "id": "3IYR_cTDO1q2"
      }
    },
    {
      "cell_type": "code",
      "source": [
        "calcular_medidas(amostra)"
      ],
      "metadata": {
        "colab": {
          "base_uri": "https://localhost:8080/"
        },
        "id": "lBaXd8htO1Px",
        "outputId": "8fb2bbed-93c7-4ef2-d72c-a472fdf072de"
      },
      "execution_count": null,
      "outputs": [
        {
          "output_type": "stream",
          "name": "stdout",
          "text": [
            "Estatísticas da Amostra:\n",
            "Média: 27.5\n",
            "Desvio Padrão: 7.466592261534039\n",
            "Erro Padrão: 1.5241117631809902\n",
            "Contagem: 24\n",
            "Variância: 55.75\n",
            "Máximo: 46\n",
            "Mínimo: 15\n"
          ]
        }
      ]
    },
    {
      "cell_type": "markdown",
      "source": [
        "Função ```Wcalc```"
      ],
      "metadata": {
        "id": "3nEr0fhcVfg0"
      }
    },
    {
      "cell_type": "code",
      "source": [
        "def Wcalc(amostra,tabela):\n",
        "  B = tabela['a_i,n(X_(n-i-1)-X_i)'].sum()\n",
        "  soma = 0\n",
        "  for i in amostra:\n",
        "    soma += (i - np.mean(amostra))**2\n",
        "  return B**2 / soma\n",
        "Wcalc(amostra,tabela)"
      ],
      "metadata": {
        "colab": {
          "base_uri": "https://localhost:8080/"
        },
        "id": "ItkK7Hs_PcyW",
        "outputId": "35205462-6688-468d-fbfd-9ac4aadf6be7"
      },
      "execution_count": null,
      "outputs": [
        {
          "output_type": "execute_result",
          "data": {
            "text/plain": [
              "0.9785906016442454"
            ]
          },
          "metadata": {},
          "execution_count": 43
        }
      ]
    },
    {
      "cell_type": "code",
      "source": [
        "distribuicao(amostra)"
      ],
      "metadata": {
        "colab": {
          "base_uri": "https://localhost:8080/",
          "height": 565
        },
        "id": "7CerN3ffTeIr",
        "outputId": "71d82e19-e50a-4f56-db45-7cd5aa8bcdd3"
      },
      "execution_count": null,
      "outputs": [
        {
          "output_type": "display_data",
          "data": {
            "text/plain": [
              "<Figure size 1000x600 with 1 Axes>"
            ],
            "image/png": "[encoded data removed]"
          },
          "metadata": {}
        }
      ]
    },
    {
      "cell_type": "markdown",
      "source": [
        "### Conclusão"
      ],
      "metadata": {
        "id": "6XUc7NosSn2Y"
      }
    },
    {
      "cell_type": "code",
      "source": [
        "if Wcalc(amostra,tabela) >= Ws[0.05][len(amostra)]:\n",
        "  print(\"A hipótese nula não é rejeitada, podemos concluir com 90% de confiança que a amostra obtida é de uma população com distribuição normal\")\n",
        "else:\n",
        "  print(\"Podemos concluir com 90% de confiança que a amostra obtida não é de uma população com distribuição normal\")"
      ],
      "metadata": {
        "colab": {
          "base_uri": "https://localhost:8080/"
        },
        "id": "-J6_N_sOSlCx",
        "outputId": "2a96805c-de97-4237-c823-eb76d40dc760"
      },
      "execution_count": null,
      "outputs": [
        {
          "output_type": "stream",
          "name": "stdout",
          "text": [
            "A hipótese nula não é rejeitada, podemos concluir com 90% de confiança que a amostra obtida é de uma população com distribuição normal\n"
          ]
        }
      ]
    },
    {
      "cell_type": "markdown",
      "source": [
        "### Fazendo para cinquenta amostras:"
      ],
      "metadata": {
        "id": "zoVsZCAfTMVy"
      }
    },
    {
      "cell_type": "code",
      "source": [
        "#Cinquenta amostras para serem testadas\n",
        "amostras = []\n",
        "for i in range(20):\n",
        "  amostras.append(amostra_aleatoria(1,11,30, probabilidades))\n",
        "for i in range(20):\n",
        "  amostras.append(amostra_aleatoria(20, 54, 30))\n",
        "for _ in range(10):\n",
        "    amostra = np.random.normal(loc=10, scale=2, size=30)\n",
        "    amostras.append(amostra)\n",
        "print(f'Foram geradas {len(amostras)} amostras aleatórias')"
      ],
      "metadata": {
        "colab": {
          "base_uri": "https://localhost:8080/"
        },
        "id": "69sBbPk3TT4K",
        "outputId": "8427867a-64f3-457f-b9b9-31a70b9ece0f"
      },
      "execution_count": null,
      "outputs": [
        {
          "output_type": "stream",
          "name": "stdout",
          "text": [
            "Foram geradas 50 amostras aleatórias\n"
          ]
        }
      ]
    },
    {
      "cell_type": "code",
      "source": [
        "for i in range(50):\n",
        "  tabela = processar_amostra(amostras[i],df)\n",
        "  if Wcalc(amostra,tabela) >= Ws[0.05][len(amostra)]:\n",
        "    print(f\"{i})A hipótese nula não é rejeitada, podemos concluir com 99% de confiança que a amostra obtida é de uma população com distribuição normal\")\n",
        "  else:\n",
        "    print(f\"{i})Podemos concluir com 99% de confiança que a amostra obtida não é de uma população com distribuição normal\")\n"
      ],
      "metadata": {
        "id": "MJ_0Csx-TlOV"
      },
      "execution_count": null,
      "outputs": []
    },
    {
      "cell_type": "markdown",
      "source": [
        "## O teste χ² de Bartlett\n"
      ],
      "metadata": {
        "id": "siu95YY6Qram"
      }
    },
    {
      "cell_type": "markdown",
      "source": [
        "O teste de Bartlett é uma técnica estatística utilizada para testar a igualdade das variâncias de duas ou mais populações. Ele é uma extensão do teste F de Fisher e é especialmente útil quando as amostras têm tamanhos diferentes e a suposição de homogeneidade das variâncias não pode ser garantida. Além disso, a aplicação do teste de Bartlett pressupõe que as amostras são independentes e que as populações subjacentes são normalmente distribuídas.\n",
        "\n",
        "**Formulação da hipótese nula (H0):** A hipótese nula do teste de Bartlett é que as variâncias das populações são iguais.\n",
        "\n",
        "**Formulação da hipótese alternativa (H1):** A hipótese alternativa é que pelo menos duas das populações têm variâncias diferentes.\n",
        "\n",
        "**Cálculo da estatística de teste:** A estatística de teste segue uma distribuição qui-quadrado (χ²) com\n",
        "𝑘\n",
        "−\n",
        "1\n",
        "graus de liberdade, onde\n",
        "𝑘\n",
        " é o número de grupos.\n",
        "\n",
        "**Tomada de decisão:** Se o valor-p associado à estatística de teste for menor que um nível de significância pré-determinado (geralmente 0,05), a hipótese nula é rejeitada, indicando que há evidências suficientes para concluir que as variâncias das populações não são todas iguais."
      ],
      "metadata": {
        "id": "aogZqfcrnSaq"
      }
    },
    {
      "cell_type": "code",
      "source": [
        "np.random.seed(0)\n",
        "group1 = np.random.normal(loc=0, scale=1, size=100)   #grupo1: desvio padrão = 1\n",
        "group2 = np.random.normal(loc=0, scale=1.5, size=100) #grupo2:desvio padrão = 1.5\n",
        "group3 = np.random.normal(loc=0, scale=2, size=100)   #grupo3: desvio padrão = 2\n",
        "\n",
        "statistic, p_value = bartlett(group1, group2, group3) #a função Bartlett calcula a estatística do teste de Bartlett para testar a hipótese de que as variâncias das populações subjacentes são iguais\n",
        "\n",
        "\n",
        "print(\"Estatística do teste de Bartlett:\", statistic)\n",
        "print(\"Valor-p:\", p_value)\n",
        "\n",
        "#Tomada de decisão da hipótese\n",
        "alpha = 0.05  #nível de significância padrão (5%)\n",
        "if p_value < alpha:\n",
        "    print(\"Rejeitar H0: As variâncias não são iguais.\")\n",
        "else:\n",
        "    print(\"Aceitar H0: Não há evidências suficientes para concluir que as variâncias são diferentes.\")"
      ],
      "metadata": {
        "id": "bIn8wbNhQswY",
        "colab": {
          "base_uri": "https://localhost:8080/"
        },
        "outputId": "1692c80d-1eda-4042-fe21-6c9c71b50382"
      },
      "execution_count": null,
      "outputs": [
        {
          "output_type": "stream",
          "name": "stdout",
          "text": [
            "Estatística do teste de Bartlett: 37.49481359606159\n",
            "Valor-p: 7.21281308036949e-09\n",
            "Rejeitar H0: As variâncias não são iguais.\n"
          ]
        }
      ]
    },
    {
      "cell_type": "markdown",
      "source": [
        "Interpretação: se o valor-p associado à estatística do teste for menor que um determinado nível de significância, então rejeitamos a hipótese nula de igualdade de variâncias, indicando que há evidências suficientes para concluir que pelo menos duas das populações têm variâncias diferentes."
      ],
      "metadata": {
        "id": "-PeONHSaqwUD"
      }
    },
    {
      "cell_type": "markdown",
      "source": [
        "##Exemplo de aplicação real do Teste De Bartlett\n"
      ],
      "metadata": {
        "id": "2gNPfDamtjHB"
      }
    },
    {
      "cell_type": "markdown",
      "source": [
        "Um exemplo real de aplicação do teste de Bartlett pode ser encontrado em estudos que comparam a variabilidade de medidas ou observações entre diferentes grupos ou condições. Por exemplo, um estudo para avaliar a eficácia de três tipos diferentes de tratamentos para reduzir a pressão arterial em pacientes com hipertensão, onde há três grupos (A, B e C) recebendo um tipo diferente de tratamento. O pesquisador deseja saber se existe uma diferença significativa na variabilidade da pressão arterial entre os três grupos após o tratamento"
      ],
      "metadata": {
        "id": "ebHqE8qAt6Uq"
      }
    },
    {
      "cell_type": "code",
      "source": [
        "#Simulação de dados de pressão arterial antes e depois do tratamento para cada grupo\n",
        "np.random.seed(0)\n",
        "\n",
        "#Grupo A: pressão arterial antes do tratamento\n",
        "groupA_before = np.random.normal(loc=140, scale=10, size=100)    #loc= média de distribuição normal (milímetros de mercúrio(mmHg))\n",
        "#Grupo A: pressão arterial depois do tratamento                #scale = desvio padrão da distribuição normal\n",
        "groupA_after = np.random.normal(loc=130, scale=10, size=100)\n",
        "\n",
        "#Grupo B: pressão arterial antes do tratamento\n",
        "groupB_before = np.random.normal(loc=150, scale=12, size=100)\n",
        "#Grupo B: pressão arterial depois do tratamento\n",
        "groupB_after = np.random.normal(loc=135, scale=12, size=100)\n",
        "\n",
        "#Grupo C: pressão arterial antes do tratamento\n",
        "groupC_before = np.random.normal(loc=145, scale=8, size=100)\n",
        "#Grupo C: pressão arterial depois do tratamento\n",
        "groupC_after = np.random.normal(loc=125, scale=8, size=100)\n",
        "\n",
        "#Teste de Bartlett para comparar a variabilidade entre os grupos\n",
        "statistic, p_value = bartlett(groupA_before, groupA_after,\n",
        "                               groupB_before, groupB_after,\n",
        "                               groupC_before, groupC_after)\n",
        "\n",
        "print(\"Estatística do teste de Bartlett:\", statistic)\n",
        "print(\"Valor-p:\", p_value)\n",
        "\n",
        "#Tomada de decisão\n",
        "alpha = 0.05\n",
        "if p_value < alpha:\n",
        "    print(\"Rejeitar H0: As variâncias não são iguais.\")\n",
        "else:\n",
        "    print(\"Aceitar H0: Não há evidências suficientes para concluir que as variâncias são diferentes.\")"
      ],
      "metadata": {
        "colab": {
          "base_uri": "https://localhost:8080/"
        },
        "id": "KE79CbZ5vvVQ",
        "outputId": "a7b61d04-26ba-4051-bda6-a804c8e8600f"
      },
      "execution_count": null,
      "outputs": [
        {
          "output_type": "stream",
          "name": "stdout",
          "text": [
            "Estatística do teste de Bartlett: 20.038394238217556\n",
            "Valor-p: 0.0012291661579761966\n",
            "Rejeitar H0: As variâncias não são iguais.\n"
          ]
        }
      ]
    },
    {
      "cell_type": "markdown",
      "source": [
        "Valor-p menor que 0,05: Se o valor-p for menor que 0,05, então rejeitaríamos a hipótese nula. Isso significaria que há evidências suficientes para sugerir que pelo menos duas das populações têm variâncias diferentes.\n",
        "\n",
        "Valor-p maior que 0,05: Se o valor-p for maior que 0,05, então não rejeitaríamos a hipótese nula. Isso significaria que não há evidências suficientes para concluir que as variâncias são diferentes entre os grupos.\n",
        "\n",
        "Portanto, ao interpretar os resultados do teste de Bartlett, estaríamos interessados em saber se há uma diferença significativa na variabilidade da pressão arterial entre os grupos de pacientes. Se o valor-p for significativamente menor que 0,05, isso indicaria que a variabilidade da pressão arterial difere entre os grupos, o que pode ter implicações importantes para a escolha do tratamento mais adequado para pacientes com hipertensão."
      ],
      "metadata": {
        "id": "_wS6ASPayC7v"
      }
    },
    {
      "cell_type": "markdown",
      "source": [
        "##Gráfico Boxplot para visualizar a distribuição dos dados de pressão arterial antes e depois don tratamento"
      ],
      "metadata": {
        "id": "E6q8yo6Y1Pvr"
      }
    },
    {
      "cell_type": "code",
      "source": [
        "#Gráficos antes e depois do tratamento em cada grupo\n",
        "plt.figure(figsize=(10, 6))\n",
        "plt.boxplot([groupA_before, groupA_after, groupB_before, groupB_after, groupC_before, groupC_after],\n",
        "            labels=['Grupo A (antes)', 'Grupo A (depois)', 'Grupo B (antes)', 'Grupo B (depois)', 'Grupo C (antes)', 'Grupo C (depois)'])\n",
        "\n",
        "plt.title('Distribuição da pressão arterial antes e depois do tratamento')\n",
        "plt.ylabel('Pressão arterial')\n",
        "plt.xlabel('Grupos')\n",
        "plt.grid(True)\n",
        "plt.show()\n",
        "\n",
        "#Teste de Bartlett para comparar a variabilidade entre os grupos\n",
        "statistic, p_value = bartlett(groupA_before, groupA_after,\n",
        "                               groupB_before, groupB_after,\n",
        "                               groupC_before, groupC_after)\n",
        "\n",
        "#Tabela de resumo\n",
        "summary_table = pd.DataFrame({\n",
        "    'Estatística do teste de Bartlett': [statistic],\n",
        "    'Valor-p': [p_value],\n",
        "    'Resultado': ['Diferentes' if p_value < 0.05 else 'Sem diferença']\n",
        "})\n",
        "\n",
        "print(summary_table)"
      ],
      "metadata": {
        "colab": {
          "base_uri": "https://localhost:8080/",
          "height": 599
        },
        "id": "4wO-C40Oz2K0",
        "outputId": "53b32722-2f09-4e61-ee13-edcd638b1a3c"
      },
      "execution_count": null,
      "outputs": [
        {
          "output_type": "display_data",
          "data": {
            "text/plain": [
              "<Figure size 1000x600 with 1 Axes>"
            ],
            "image/png": "[encoded data removed]"
          },
          "metadata": {}
        },
        {
          "output_type": "stream",
          "name": "stdout",
          "text": [
            "   Estatística do teste de Bartlett   Valor-p   Resultado\n",
            "0                         20.038394  0.001229  Diferentes\n"
          ]
        }
      ]
    },
    {
      "cell_type": "markdown",
      "source": [
        "##Gráfico histograma para a visualização dos dados de pressão arterial de antes e depois do tratamento no grupo A"
      ],
      "metadata": {
        "id": "n257zfWn1lmg"
      }
    },
    {
      "cell_type": "code",
      "source": [
        "\n",
        "plt.figure(figsize=(10, 6))\n",
        "\n",
        "plt.hist(groupA_before, bins=15, alpha=0.5, color='blue', label='Antes do tratamento')\n",
        "plt.hist(groupA_after, bins=15, alpha=0.5, color='green', label='Depois do tratamento')\n",
        "\n",
        "plt.title('Distribuição da pressão arterial no Grupo A antes e depois do tratamento')\n",
        "plt.xlabel('Pressão arterial')\n",
        "plt.ylabel('Frequência')\n",
        "plt.legend()\n",
        "plt.grid(False)\n",
        "plt.show()"
      ],
      "metadata": {
        "colab": {
          "base_uri": "https://localhost:8080/",
          "height": 564
        },
        "id": "VGlY9g4X1gZC",
        "outputId": "292a3a3e-81a1-4608-b99a-dc5b5835cea7"
      },
      "execution_count": null,
      "outputs": [
        {
          "output_type": "display_data",
          "data": {
            "text/plain": [
              "<Figure size 1000x600 with 1 Axes>"
            ],
            "image/png": "[encoded data removed]"
          },
          "metadata": {}
        }
      ]
    },
    {
      "cell_type": "markdown",
      "source": [
        "##Gráfico histograma para a visualização dos dados de pressão arterial de antes e depois do tratamento no grupo B"
      ],
      "metadata": {
        "id": "KBJGcWay987F"
      }
    },
    {
      "cell_type": "code",
      "source": [
        "plt.figure(figsize=(10, 6))\n",
        "\n",
        "plt.hist(groupB_before, bins=15, alpha=0.5, color='blue', label='Antes do tratamento')\n",
        "plt.hist(groupB_after, bins=15, alpha=0.5, color='green', label='Depois do tratamento')\n",
        "\n",
        "plt.title('Distribuição da pressão arterial no Grupo B antes e depois do tratamento')\n",
        "plt.xlabel('Pressão arterial')\n",
        "plt.ylabel('Frequência')\n",
        "plt.legend()\n",
        "plt.grid(False)\n",
        "plt.show()"
      ],
      "metadata": {
        "colab": {
          "base_uri": "https://localhost:8080/",
          "height": 564
        },
        "id": "Zl7ELdLf9V4w",
        "outputId": "16f458e0-294e-4acc-fb64-e8d8644279a0"
      },
      "execution_count": null,
      "outputs": [
        {
          "output_type": "display_data",
          "data": {
            "text/plain": [
              "<Figure size 1000x600 with 1 Axes>"
            ],
            "image/png": "[encoded data removed]"
          },
          "metadata": {}
        }
      ]
    },
    {
      "cell_type": "markdown",
      "source": [
        "##Gráfico histograma para a visualização dos dados de pressão arterial de antes e depois do tratamento no grupo C"
      ],
      "metadata": {
        "id": "FE6ufrXV-Ea9"
      }
    },
    {
      "cell_type": "code",
      "source": [
        "plt.figure(figsize=(10, 6))\n",
        "\n",
        "plt.hist(groupC_before, bins=15, alpha=0.5, color='blue', label='Antes do tratamento')\n",
        "plt.hist(groupC_after, bins=15, alpha=0.5, color='green', label='Depois do tratamento')\n",
        "\n",
        "plt.title('Distribuição da pressão arterial no Grupo C antes e depois do tratamento')\n",
        "plt.xlabel('Pressão arterial')\n",
        "plt.ylabel('Frequência')\n",
        "plt.legend()\n",
        "plt.grid(False)\n",
        "plt.show()"
      ],
      "metadata": {
        "colab": {
          "base_uri": "https://localhost:8080/",
          "height": 564
        },
        "id": "dizJkwcU9yGj",
        "outputId": "1123f129-1244-4c00-ba1b-02c1b8d4d1e2"
      },
      "execution_count": null,
      "outputs": [
        {
          "output_type": "display_data",
          "data": {
            "text/plain": [
              "<Figure size 1000x600 with 1 Axes>"
            ],
            "image/png": "[encoded data removed]"
          },
          "metadata": {}
        }
      ]
    },
    {
      "cell_type": "markdown",
      "source": [
        "##Conclusão\n"
      ],
      "metadata": {
        "id": "XfKWqKR72GcK"
      }
    },
    {
      "cell_type": "markdown",
      "source": [
        "Em geral, se a estatística de Bartlett for alta, isso sugere que as variâncias entre os grupos são diferentes. Por outro lado, se a estatística de Bartlett for baixa, isso sugere que as variâncias entre os grupos são semelhantes.\n",
        "Em resumo, o resultado da estatística de Bartlett fornece uma indicação da magnitude da diferença nas variâncias entre os grupos e é usado para avaliar a homogeneidade das variâncias.\n",
        "Se as variâncias são diferentes entre os grupos, técnicas estatísticas robustas, como a análise de variâncias com correção para heterogeneidade de variâncias, podem ser mais apropriadas.\n",
        "Se as variâncias são semelhantes, isso fortalece a confiança nas conclusões do estudo, especialmente em relação às comparações entre os grupos."
      ],
      "metadata": {
        "id": "owsfgNgJ2Llq"
      }
    },
    {
      "cell_type": "markdown",
      "source": [
        "## Teste de Média Populacional (Zcalc)"
      ],
      "metadata": {
        "id": "PQbNYEiuQtMc"
      }
    },
    {
      "cell_type": "markdown",
      "source": [
        "O teste de média populacional, ou teste Z, é utilizado quando queremos comparar a média de uma amostra com a média de uma população conhecida, assumindo que a distribuição da amostra é normal ou que o tamanho da amostra é grande o suficiente para que a distribuição amostral da média seja aproximadamente normal.\n",
        "\n",
        "O teste Z calcula uma estatística Z, que representa a diferença entre a média da amostra e a média populacional, padronizada pela variabilidade da amostra e pelo tamanho da amostra. Em seguida, essa estatística Z é comparada com a distribuição normal padrão para determinar a probabilidade de observar tal diferença sob a hipótese nula de que não há diferença entre as médias."
      ],
      "metadata": {
        "id": "OJ42bW_RsIkq"
      }
    },
    {
      "cell_type": "markdown",
      "source": [
        "##Exemplo de Implementação"
      ],
      "metadata": {
        "id": "zS4GqcDvlL1o"
      }
    },
    {
      "cell_type": "markdown",
      "source": [
        "Vamos supor que queremos comparar a média de residentes por moradia na cidade de João Pessoa, com a média do Bairro de Mangabeira.\n",
        "\n",
        "Neste exemplo fica claro que teremos a média de João Pessoa como Universo, e a média de Mangabeira como amostra."
      ],
      "metadata": {
        "id": "3SayurI2lPPJ"
      }
    },
    {
      "cell_type": "markdown",
      "source": [
        "###Hipóteses"
      ],
      "metadata": {
        "id": "_HJdMgximAxB"
      }
    },
    {
      "cell_type": "markdown",
      "source": [
        "**H0**: Hipótese nula, considerando que as médias se aproximam significativamente.\n",
        "**H1**: Alternativa, considera que as médias possuem uma diferença significativa."
      ],
      "metadata": {
        "id": "q9A0TDCqmHf5"
      }
    },
    {
      "cell_type": "markdown",
      "source": [
        "##Implementação ZCalc(ou Teste Z)"
      ],
      "metadata": {
        "id": "6-gvZmXummi4"
      }
    },
    {
      "cell_type": "markdown",
      "source": [
        "###Importando Tabelas\n"
      ],
      "metadata": {
        "id": "Uz2Hp4gCmv_Q"
      }
    },
    {
      "cell_type": "code",
      "source": [
        "import random\n",
        "import numpy as np\n",
        "import scipy.stats as stats\n",
        "import matplotlib.pyplot as plt"
      ],
      "metadata": {
        "id": "pgDrrBHImvNJ"
      },
      "execution_count": null,
      "outputs": []
    },
    {
      "cell_type": "markdown",
      "source": [
        "###Gerando os dados"
      ],
      "metadata": {
        "id": "T33B_FVmm3pR"
      }
    },
    {
      "cell_type": "code",
      "source": [
        "jp = [random.randint(1,4) for i in range(200)]\n",
        "mng = [random.randint(1,6) for i in range(50)]"
      ],
      "metadata": {
        "id": "VFc1ppDEnAlm"
      },
      "execution_count": null,
      "outputs": []
    },
    {
      "cell_type": "markdown",
      "source": [
        "###Coleta de Dados"
      ],
      "metadata": {
        "id": "Qsq3watBneaH"
      }
    },
    {
      "cell_type": "code",
      "source": [
        "#Cálculo das Médias\n",
        "m_jp = np.mean(jp)\n",
        "m_mng = np.mean(mng)\n",
        "print(f\"Média Universo(João Pessoa): {m_jp}\")\n",
        "print(f\"Média Amostral(Mangabeira): {m_mng}\")\n",
        "\n",
        "#Cálculo do Desvio Padrão\n",
        "des_jp = np.std(jp)\n",
        "des_mng = np.std(mng)\n",
        "print(f\"Desvio Padrão Universo(João Pessoa): {des_jp:.2f}\")\n",
        "print(f\"Desvio Padrão Amostral(Mangabeira): {des_mng:.2f}\")"
      ],
      "metadata": {
        "colab": {
          "base_uri": "https://localhost:8080/"
        },
        "id": "ouU06uOhnlFQ",
        "outputId": "420f7ca7-65b6-402a-b6d4-c64f2ed0e814"
      },
      "execution_count": null,
      "outputs": [
        {
          "output_type": "stream",
          "name": "stdout",
          "text": [
            "Média Universo(João Pessoa): 2.44\n",
            "Média Amostral(Mangabeira): 3.46\n",
            "Desvio Padrão Universo(João Pessoa): 1.13\n",
            "Desvio Padrão Amostral(Mangabeira): 1.71\n"
          ]
        }
      ]
    },
    {
      "cell_type": "markdown",
      "source": [
        "###Cálculo da Estatística Teste Z"
      ],
      "metadata": {
        "id": "OgwZiZnro7V4"
      }
    },
    {
      "cell_type": "markdown",
      "source": [
        "Para calcular o teste Z, você precisa ter a média da amostra (x̄), a média populacional (μ), o desvio padrão da população (σ) e o tamanho da amostra (n). A fórmula geral para calcular o valor Z é:\n",
        "\n",
        "\\begin{equation}\n",
        "Z = \\frac{{\\bar{x} - \\mu}}{{\\frac{{\\sigma}}{{\\sqrt{n}}}}}\n",
        "\\end{equation}\n",
        "\n",
        "Onde:\n",
        "   - $\\bar{x}$ é a média da amostra\n",
        "   - $μ$ é a média populacinal\n",
        "   - $σ$ é o desvio padrão populacional\n",
        "   - $n$ é o tamanho da amostra"
      ],
      "metadata": {
        "id": "Mh4QvPmbpFxn"
      }
    },
    {
      "cell_type": "code",
      "source": [
        "z = (m_mng - m_jp) / (des_jp / (np.sqrt(len(mng))))\n",
        "print(f\"Z = {z:.2f}\")"
      ],
      "metadata": {
        "colab": {
          "base_uri": "https://localhost:8080/"
        },
        "id": "7ZLzxeqUpEUA",
        "outputId": "e9c6397c-63d7-4e87-b91b-84a467521451"
      },
      "execution_count": null,
      "outputs": [
        {
          "output_type": "stream",
          "name": "stdout",
          "text": [
            "Z = 6.38\n"
          ]
        }
      ]
    },
    {
      "cell_type": "markdown",
      "source": [
        "###Comparação com a distribuição normal padrão"
      ],
      "metadata": {
        "id": "t37TBfj7rvF9"
      }
    },
    {
      "cell_type": "markdown",
      "source": [
        "Nivel de significância considerado: 5%"
      ],
      "metadata": {
        "id": "G1ZbA347sXL1"
      }
    },
    {
      "cell_type": "code",
      "source": [
        "#Nivel de Significancia\n",
        "a = 0.05\n",
        "\n",
        "#Encontrando o Valor critico usando a distribuição normal padrão\n",
        "z_critico = stats.norm.ppf(1 - a/2)\n",
        "#Média e o desvio padrão da distribuição normal padrão\n",
        "mu = 0\n",
        "sigma = 1\n",
        "\n",
        "# Gerar dados para plotar a distribuição normal padrão\n",
        "x = np.linspace(mu - 3*sigma, mu + 3*sigma, 100)\n",
        "y = stats.norm.pdf(x, mu, sigma)\n",
        "\n",
        "# Plotar a distribuição normal padrão\n",
        "plt.plot(x, y, label='Distribuição Normal Padrão')\n",
        "\n",
        "# Plotar uma linha vertical para o valor Z calculado\n",
        "plt.axvline(x=z, color='r', linestyle='--', label='Valor Z Calculado')\n",
        "\n",
        "# Plotar linhas verticais para os valores críticos\n",
        "plt.axvline(x=z_critico, color='g', linestyle='--', label='Valor Crítico')\n",
        "plt.axvline(x=-z_critico, color='g', linestyle='--')\n",
        "\n",
        "# Adicionar legendas e título\n",
        "plt.legend()\n",
        "plt.title('Resultado do Teste Z')\n",
        "plt.xlabel('Valor Z')\n",
        "plt.ylabel('Densidade de Probabilidade')\n",
        "\n",
        "# Mostrar o gráfico\n",
        "plt.show()\n",
        "print(\"------------------------------------------------------------\")\n",
        "print(f\"Valor Z: {z:.2f}\")\n",
        "print(f\"Valor Z Crítico: {z_critico:.3f}\")\n",
        "\n",
        "# Comparar o valor Z calculado com os valores críticos\n",
        "if z > z_critico or z < -z_critico:\n",
        "    print(\"\\nRejeitar H0: A média da amostra é significativamente diferente da média populacional.\")\n",
        "else:\n",
        "    print(\"Não rejeitar H0: Não há evidências suficientes para afirmar que a média da amostra é diferente da média populacional.\")"
      ],
      "metadata": {
        "colab": {
          "base_uri": "https://localhost:8080/",
          "height": 563
        },
        "id": "39s8N67HsWMs",
        "outputId": "753783ea-2dad-49bf-da7c-080c2f1e388d"
      },
      "execution_count": null,
      "outputs": [
        {
          "output_type": "display_data",
          "data": {
            "text/plain": [
              "<Figure size 640x480 with 1 Axes>"
            ],
            "image/png": "[encoded data removed]"
          },
          "metadata": {}
        },
        {
          "output_type": "stream",
          "name": "stdout",
          "text": [
            "------------------------------------------------------------\n",
            "Valor Z: 6.38\n",
            "Valor Z Crítico: 1.960\n",
            "\n",
            "Rejeitar H0: A média da amostra é significativamente diferente da média populacional.\n"
          ]
        }
      ]
    },
    {
      "cell_type": "markdown",
      "source": [
        "## Teste T-student"
      ],
      "metadata": {
        "id": "2tbJSKSSQyjn"
      }
    },
    {
      "cell_type": "markdown",
      "source": [
        "O teste t de Student é uma ferramenta estatística fundamental utilizada para comparar as médias de duas amostras independentes. Ele é especialmente útil quando se deseja determinar se uma diferença observada entre duas amostras é estatisticamente significativa. Desenvolvido por William Sealy Gosset em 1908 e publicado sob o pseudônimo de \"Student\", esse teste é amplamente aplicável em diversas áreas, incluindo ciências sociais, medicina, negócios e engenharia.\n",
        "\n",
        "O teste t de Student parte da hipótese nula de que não há diferença significativa entre as médias das duas amostras. Ele calcula uma estatística t que representa a diferença entre as médias das amostras padronizada pela variabilidade das amostras e pelo tamanho das amostras. Em seguida, essa estatística t é comparada com a distribuição t de Student para determinar a probabilidade de observar tal diferença sob a hipótese nula."
      ],
      "metadata": {
        "id": "LkGvRlmgqOuh"
      }
    },
    {
      "cell_type": "markdown",
      "source": [
        "##Exemplo de Implementação"
      ],
      "metadata": {
        "id": "qqijely8rCuy"
      }
    },
    {
      "cell_type": "markdown",
      "source": [
        "Vamos considerar que o CI deseja realizar uma comparação de altura dos alunos de dois cursos do primeiro período. Os cursos de Ciência de Dados e Ciência da Computação foram os escolhidos.\n",
        "\n",
        "###Hipóteses\n",
        "\n",
        "**H0**: Será a hipótese de que não há diferença significativa entre a média de altura dos alunos dos cursos acima citados.\n",
        "\n",
        "**H1**: Será a hipótese de que há sim uma diferença entre a médias das alturas dos alunos."
      ],
      "metadata": {
        "id": "FCosuuEsPc2Y"
      }
    },
    {
      "cell_type": "markdown",
      "source": [
        "##Geração das Amostras de Altura dos Alunos"
      ],
      "metadata": {
        "id": "CQrd4jn3RAK3"
      }
    },
    {
      "cell_type": "markdown",
      "source": [
        "###Importando bibliotecas"
      ],
      "metadata": {
        "id": "fqjZ3ZWDXVJ2"
      }
    },
    {
      "cell_type": "code",
      "source": [
        "import random\n",
        "import numpy as np\n",
        "from scipy.stats import t as t_student\n",
        "import matplotlib.pyplot as plt"
      ],
      "metadata": {
        "id": "KU2e6MD1XS0e"
      },
      "execution_count": null,
      "outputs": []
    },
    {
      "cell_type": "code",
      "source": [
        "\n",
        "\n",
        "# Criando amostras aleatória de tamanho 25 e 20 com valores minimos e\n",
        "# maximos de 160 e 200, e 150 e 200, respectivamente.\n",
        "cdia = [random.randint(160,200) for i in range(25)]\n",
        "cdc = [random.randint(150,190) for j in range(20)]\n",
        "print(f\"Média de altura CDIA: {cdia}\")\n",
        "print(f\"Média de altura CDC: {cdc}\")"
      ],
      "metadata": {
        "id": "2Z-c3_TUQwWE",
        "colab": {
          "base_uri": "https://localhost:8080/"
        },
        "outputId": "f0d223d6-f87c-4858-85d3-a622487e9dd3"
      },
      "execution_count": null,
      "outputs": [
        {
          "output_type": "stream",
          "name": "stdout",
          "text": [
            "Média de altura CDIA: [167, 174, 197, 161, 165, 188, 175, 184, 167, 169, 171, 164, 198, 160, 200, 167, 192, 173, 187, 200, 174, 197, 189, 185, 165]\n",
            "Média de altura CDC: [163, 170, 165, 153, 185, 169, 176, 160, 186, 174, 176, 163, 161, 172, 190, 163, 160, 181, 178, 173]\n"
          ]
        }
      ]
    },
    {
      "cell_type": "code",
      "source": [
        "# Plotagem dos histogramas das alturas\n",
        "plt.hist(cdia, bins=10, alpha=0.5, color='blue', label='Grupo CDIA')\n",
        "plt.hist(cdc, bins=10, alpha=0.5, color='green', label='Grupo CDC')\n",
        "\n",
        "# Configurações do gráfico\n",
        "plt.xlabel('Altura (cm)')\n",
        "plt.ylabel('Frequência')\n",
        "plt.title('Distribuição das Alturas entre Grupos')\n",
        "plt.legend()\n",
        "plt.grid(True)\n",
        "\n",
        "# Exibição do gráfico\n",
        "plt.show()\n"
      ],
      "metadata": {
        "colab": {
          "base_uri": "https://localhost:8080/",
          "height": 472
        },
        "id": "Mc3TUxIqjHef",
        "outputId": "8a911ca2-7d69-4616-da0e-1e9f573e9619"
      },
      "execution_count": null,
      "outputs": [
        {
          "output_type": "display_data",
          "data": {
            "text/plain": [
              "<Figure size 640x480 with 1 Axes>"
            ],
            "image/png": "[encoded data removed]"
          },
          "metadata": {}
        }
      ]
    },
    {
      "cell_type": "markdown",
      "source": [
        "##Coleta de Dados das Amostras"
      ],
      "metadata": {
        "id": "HXqZbp8msnjq"
      }
    },
    {
      "cell_type": "code",
      "source": [
        "#Cálculo da média das amostras\n",
        "m_cdia = np.mean(cdia)\n",
        "m_cdc = np.mean(cdc)\n",
        "\n",
        "#Cálculo do desvio padrão\n",
        "des_cdia = np.std(cdia)\n",
        "des_cdc = np.std(cdc)\n",
        "\n",
        "print('--------CDIA---------')\n",
        "print(f\"Média de altura: {m_cdia}\")\n",
        "print(f\"Desvio Padrão: {des_cdia:.2f}\\n\")\n",
        "\n",
        "print('--------CDC---------')\n",
        "print(f\"Média de altura: {m_cdc}\")\n",
        "print(f\"Desvio Padrão: {des_cdc:.2f}\\n\")\n"
      ],
      "metadata": {
        "colab": {
          "base_uri": "https://localhost:8080/"
        },
        "id": "AL29dCl2VOiT",
        "outputId": "a6bed0d5-3020-43e4-c4a4-01b414170790"
      },
      "execution_count": null,
      "outputs": [
        {
          "output_type": "stream",
          "name": "stdout",
          "text": [
            "--------CDIA---------\n",
            "Média de altura: 178.76\n",
            "Desvio Padrão: 13.49\n",
            "\n",
            "--------CDC---------\n",
            "Média de altura: 170.9\n",
            "Desvio Padrão: 9.98\n",
            "\n"
          ]
        }
      ]
    },
    {
      "cell_type": "markdown",
      "source": [],
      "metadata": {
        "id": "3zaDO5TEfenh"
      }
    },
    {
      "cell_type": "markdown",
      "source": [
        "##Cálculo da Estatística T"
      ],
      "metadata": {
        "id": "0_Fv2EzZYhaL"
      }
    },
    {
      "cell_type": "markdown",
      "source": [
        "Fórmula para calcular a estatística t para duas amostras independentes:\n",
        "\n",
        "\\begin{equation}\n",
        "t = \\frac{\\bar{X}_1 - \\bar{X}_2}{\\sqrt{\\frac{s_1^2}{n_1} + \\frac{s_2^2}{n_2}}}\n",
        "\\end{equation}\n",
        "\n",
        "\n",
        "Onde:\n",
        "- 𝑥̅₁ e 𝑥̅₂ são as médias das duas amostras.\n",
        "- 𝑠₁ e 𝑠₂ são os desvios padrão das duas amostras.\n",
        "- 𝑛₁ e 𝑛₂ são os tamanhos das duas amostras."
      ],
      "metadata": {
        "id": "7dT3bWTCYm11"
      }
    },
    {
      "cell_type": "markdown",
      "source": [
        "##Aplicação em Python"
      ],
      "metadata": {
        "id": "BnU5ob9raBGF"
      }
    },
    {
      "cell_type": "code",
      "source": [
        "# Fórmula estatística T\n",
        "t = (m_cdia-m_cdc)/np.sqrt((((des_cdia)**2)/len(cdia)) + (((des_cdc)**2)/len(cdc)))\n",
        "print(f\"t = {t:.3f}\")"
      ],
      "metadata": {
        "colab": {
          "base_uri": "https://localhost:8080/"
        },
        "id": "eeQvFdkEYj6c",
        "outputId": "a1774bea-453d-4635-af10-46a062933674"
      },
      "execution_count": null,
      "outputs": [
        {
          "output_type": "stream",
          "name": "stdout",
          "text": [
            "t = 2.245\n"
          ]
        }
      ]
    },
    {
      "cell_type": "markdown",
      "source": [
        "##Determinação do Grau de Liberdade"
      ],
      "metadata": {
        "id": "C_1wQQQCbQ9i"
      }
    },
    {
      "cell_type": "markdown",
      "source": [
        "O grau de liberdade é uma medida estatística que está associada à variabilidade dos dados e é importante para calcular valores críticos de t e interpretar os resultados do teste.\n",
        "\n",
        "Para o teste t de Student de duas amostras independentes, o cálculo do grau de liberdade é feito da seguinte maneira:\n",
        "\n",
        "\\begin{equation}\n",
        "df = n_1 + n_2 - 2\n",
        "\\end{equation}\n",
        "\n",
        "- Onde:\n",
        "- $n_1$ é o tamanho da primeira amostra.\n",
        "- $n_2$ é o tamanho da segunda amostra.\n",
        "\n"
      ],
      "metadata": {
        "id": "zoy6tyM4beST"
      }
    },
    {
      "cell_type": "code",
      "source": [
        "gl = len(cdia) + len(cdc) - 2\n",
        "print(f'Grau de Liberdade: {gl}')"
      ],
      "metadata": {
        "colab": {
          "base_uri": "https://localhost:8080/"
        },
        "id": "aU072i7KbWOU",
        "outputId": "783debe1-c6d5-4f50-a200-720ab883ab67"
      },
      "execution_count": null,
      "outputs": [
        {
          "output_type": "stream",
          "name": "stdout",
          "text": [
            "Grau de Liberdade: 43\n"
          ]
        }
      ]
    },
    {
      "cell_type": "markdown",
      "source": [
        "##Cálculo do Valor Crítico"
      ],
      "metadata": {
        "id": "rfXoL8nac6gj"
      }
    },
    {
      "cell_type": "markdown",
      "source": [
        "Nivel de significância considerado: 5%"
      ],
      "metadata": {
        "id": "tFnfZrmkdEhj"
      }
    },
    {
      "cell_type": "code",
      "source": [
        "#Cálculo de Valor Crítico realizado com biblioteca SciPy\n",
        "a = 0.05\n",
        "\n",
        "valor_critico = t_student.ppf(1 - a/2, gl)\n",
        "print(f\"Valor crítico de t: {valor_critico:.3f}\")"
      ],
      "metadata": {
        "colab": {
          "base_uri": "https://localhost:8080/"
        },
        "id": "FyKEmQi2dVrS",
        "outputId": "8af4fe0f-6eec-43c4-b685-a0d54e6f24db"
      },
      "execution_count": null,
      "outputs": [
        {
          "output_type": "stream",
          "name": "stdout",
          "text": [
            "Valor crítico de t: 2.017\n"
          ]
        }
      ]
    },
    {
      "cell_type": "markdown",
      "source": [
        "##Plotagem dos Resultados"
      ],
      "metadata": {
        "id": "S1Vg25w6euUZ"
      }
    },
    {
      "cell_type": "code",
      "source": [
        "x = np.linspace(-4, 4, 1000)  # Intervalo de valores para t\n",
        "y = t_student.pdf(x, df=gl)\n",
        "\n",
        "plt.figure(figsize=(10, 6))\n",
        "plt.plot(x, y, label=f'Distribuição t ({gl} graus de liberdade)')\n",
        "plt.axvline(valor_critico, color='red', linestyle='--', label=f'Valor crítico de t: {valor_critico:.3f}')\n",
        "plt.fill_between(x, 0, y, where=(x >= valor_critico), color='red', alpha=0.3)\n",
        "plt.grid(True)\n",
        "plt.show()\n",
        "\n",
        "print(f'Estatística t calculada: {t:.3f}\\n')\n",
        "if abs(t) > valor_critico:\n",
        "    print('Resultado do teste: Rejeitamos a hipótese nula, há uma diferença significativa nas alturas médias entre estudantes')\n",
        "else:\n",
        "    print('Resultado do teste: Não rejeitamos a hipótese nula, não há uma diferença significativa nas alturas médias entre estudantes')\n"
      ],
      "metadata": {
        "colab": {
          "base_uri": "https://localhost:8080/",
          "height": 544
        },
        "id": "G26DyJ_uexuj",
        "outputId": "a9ad7733-e5c6-4a37-fd29-c29dd1646eb1"
      },
      "execution_count": null,
      "outputs": [
        {
          "output_type": "display_data",
          "data": {
            "text/plain": [
              "<Figure size 1000x600 with 1 Axes>"
            ],
            "image/png": "[encoded data removed]"
          },
          "metadata": {}
        },
        {
          "output_type": "stream",
          "name": "stdout",
          "text": [
            "Estatística t calculada: 2.245\n",
            "\n",
            "Resultado do teste: Rejeitamos a hipótese nula, há uma diferença significativa nas alturas médias entre estudantes\n"
          ]
        }
      ]
    }
  ]
}